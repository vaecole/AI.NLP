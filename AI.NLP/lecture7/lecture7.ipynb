{
 "cells": [
  {
   "cell_type": "markdown",
   "metadata": {},
   "source": [
    "## Building a Web Crawler\n",
    "- 给出一个种子URL\n",
    "- 对于一个URl对应的网页，获取该网页上的所有链接（a标签）列表，递归获取所有的URL（可以使用Redis存储和判重）\n",
    "- 下载有效网页的内容到本地\n",
    "- 对于给定的网页内容，爬取有效文本内容（有效文本筛选？）\n",
    "- URL递归获取可以采用DFS或者BFS"
   ]
  },
  {
   "cell_type": "code",
   "execution_count": 12,
   "metadata": {},
   "outputs": [],
   "source": [
    "import redis    # 导入redis模块，通过python操作redis 也可以直接在redis主机的服务端操作缓存数据库\n",
    "\n",
    "\n",
    "redis_pool = redis.ConnectionPool(host='127.0.0.1', port=6379, decode_responses=True) \n",
    "redis_url_visit_pre = 'url_visited:'\n",
    "def append_visited(url, filename):\n",
    "    redis_conn = redis.Redis(connection_pool = redis_pool)\n",
    "    key = redis_url_visit_pre + url\n",
    "    if not redis_conn.exists(key):\n",
    "        redis_conn.set(key, filename, ex = 90 * 24 * 60 * 60)\n",
    "        return True\n",
    "    return False\n",
    "\n",
    "def is_visited(url):\n",
    "    redis_conn = redis.Redis(connection_pool = redis_pool)\n",
    "    return redis_conn.exists(redis_url_visit_pre + url)"
   ]
  },
  {
   "cell_type": "code",
   "execution_count": 55,
   "metadata": {},
   "outputs": [],
   "source": [
    "from bs4 import BeautifulSoup, SoupStrainer\n",
    "import requests\n",
    "import os\n",
    "from urllib.parse import urlparse\n",
    "from urllib.request import pathname2url\n",
    "import urllib.parse\n",
    "\n",
    "\n",
    "def visit(url, limit_hostname = ''):\n",
    "    url_set = set()\n",
    "    \n",
    "    if is_visited(url):\n",
    "        return url_set\n",
    "    \n",
    "    page = requests.get(url) \n",
    "    if not page.ok:\n",
    "        print(url + ' return ' + page.status_code)\n",
    "        return url_set\n",
    "    \n",
    "    parsed_uri = urlparse(url)\n",
    "    folder = urllib.parse.quote(parsed_uri.hostname, safe='')\n",
    "    if not os.path.isdir(folder):\n",
    "        os.mkdir(folder)\n",
    "    filename = os.path.join(folder, urllib.parse.quote(url, safe=''))\n",
    "    \n",
    "    page_html = page.text\n",
    "    with open(filename,'w') as file_write:\n",
    "        file_write.write(page_html)\n",
    "    \n",
    "    append_visited(url, filename)\n",
    "    \n",
    "    soup = BeautifulSoup(page_html)\n",
    "    for link in soup.find_all('a'):\n",
    "        href = link.get(\"href\")\n",
    "        if href and href != '#' and href != './' and href != 'javascript:;' and 'http' in href:\n",
    "            if not limit_hostname or limit_hostname in href:\n",
    "                url_set.add(href)\n",
    "            \n",
    "    return url_set"
   ]
  },
  {
   "cell_type": "code",
   "execution_count": 56,
   "metadata": {},
   "outputs": [],
   "source": [
    "from IPython.display import display, clear_output\n",
    "\n",
    "\n",
    "def recurrent_visit(seed_url, limit_hostname = ''):\n",
    "    all_urls = set([seed_url])\n",
    "    while all_urls:\n",
    "        url = all_urls.pop()\n",
    "        next_urls = visit(url, limit_hostname)\n",
    "        if next_urls:\n",
    "            all_urls.update(next_urls)\n",
    "            clear_output(wait = True)\n",
    "            display(next_urls)"
   ]
  },
  {
   "cell_type": "code",
   "execution_count": 57,
   "metadata": {},
   "outputs": [
    {
     "data": {
      "text/plain": [
       "{'http://bbs.cmiw.cn/forum.php?mod=viewthread&tid=150386',\n",
       " 'http://bbs.cmiw.cn/forum.php?mod=viewthread&tid=204466',\n",
       " 'http://bbs.cmiw.cn/forum.php?mod=viewthread&tid=264013',\n",
       " 'http://license.comsenz.com/?pid=1&host=www.cmiw.cn',\n",
       " 'http://www.cmiw.cn',\n",
       " 'http://www.cmiw.cn/',\n",
       " 'http://www.cmiw.cn/archiver/',\n",
       " 'http://www.cmiw.cn/forum.php?mobile=yes',\n",
       " 'http://www.cmiw.cn/forum.php?mod=collection',\n",
       " 'http://www.cmiw.cn/forum.php?mod=guide',\n",
       " 'http://www.cmiw.cn/forum.php?mod=misc&action=showdarkroom',\n",
       " 'http://www.cmiw.cn/home.php',\n",
       " 'http://www.cmiw.cn/home.php?mod=follow&view=other',\n",
       " 'http://www.cmiw.cn/portal.php'}"
      ]
     },
     "metadata": {},
     "output_type": "display_data"
    },
    {
     "ename": "UnicodeEncodeError",
     "evalue": "'gbk' codec can't encode character '\\xe5' in position 337: illegal multibyte sequence",
     "output_type": "error",
     "traceback": [
      "\u001b[1;31m---------------------------------------------------------------------------\u001b[0m",
      "\u001b[1;31mUnicodeEncodeError\u001b[0m                        Traceback (most recent call last)",
      "\u001b[1;32m<ipython-input-57-4332bde3c8e7>\u001b[0m in \u001b[0;36m<module>\u001b[1;34m()\u001b[0m\n\u001b[1;32m----> 1\u001b[1;33m \u001b[0mrecurrent_visit\u001b[0m\u001b[1;33m(\u001b[0m\u001b[1;34m\"http://www.cmiw.cn/\"\u001b[0m\u001b[1;33m,\u001b[0m\u001b[1;34m\"cmiw\"\u001b[0m\u001b[1;33m)\u001b[0m\u001b[1;33m\u001b[0m\u001b[0m\n\u001b[0m",
      "\u001b[1;32m<ipython-input-56-31bd7e9cb8cc>\u001b[0m in \u001b[0;36mrecurrent_visit\u001b[1;34m(seed_url, limit_hostname)\u001b[0m\n\u001b[0;32m      6\u001b[0m     \u001b[1;32mwhile\u001b[0m \u001b[0mall_urls\u001b[0m\u001b[1;33m:\u001b[0m\u001b[1;33m\u001b[0m\u001b[0m\n\u001b[0;32m      7\u001b[0m         \u001b[0murl\u001b[0m \u001b[1;33m=\u001b[0m \u001b[0mall_urls\u001b[0m\u001b[1;33m.\u001b[0m\u001b[0mpop\u001b[0m\u001b[1;33m(\u001b[0m\u001b[1;33m)\u001b[0m\u001b[1;33m\u001b[0m\u001b[0m\n\u001b[1;32m----> 8\u001b[1;33m         \u001b[0mnext_urls\u001b[0m \u001b[1;33m=\u001b[0m \u001b[0mvisit\u001b[0m\u001b[1;33m(\u001b[0m\u001b[0murl\u001b[0m\u001b[1;33m,\u001b[0m \u001b[0mlimit_hostname\u001b[0m\u001b[1;33m)\u001b[0m\u001b[1;33m\u001b[0m\u001b[0m\n\u001b[0m\u001b[0;32m      9\u001b[0m         \u001b[1;32mif\u001b[0m \u001b[0mnext_urls\u001b[0m\u001b[1;33m:\u001b[0m\u001b[1;33m\u001b[0m\u001b[0m\n\u001b[0;32m     10\u001b[0m             \u001b[0mall_urls\u001b[0m\u001b[1;33m.\u001b[0m\u001b[0mupdate\u001b[0m\u001b[1;33m(\u001b[0m\u001b[0mnext_urls\u001b[0m\u001b[1;33m)\u001b[0m\u001b[1;33m\u001b[0m\u001b[0m\n",
      "\u001b[1;32m<ipython-input-55-3e45095e66df>\u001b[0m in \u001b[0;36mvisit\u001b[1;34m(url, limit_hostname)\u001b[0m\n\u001b[0;32m     26\u001b[0m     \u001b[0mpage_html\u001b[0m \u001b[1;33m=\u001b[0m \u001b[0mpage\u001b[0m\u001b[1;33m.\u001b[0m\u001b[0mtext\u001b[0m\u001b[1;33m\u001b[0m\u001b[0m\n\u001b[0;32m     27\u001b[0m     \u001b[1;32mwith\u001b[0m \u001b[0mopen\u001b[0m\u001b[1;33m(\u001b[0m\u001b[0mfilename\u001b[0m\u001b[1;33m,\u001b[0m\u001b[1;34m'w'\u001b[0m\u001b[1;33m)\u001b[0m \u001b[1;32mas\u001b[0m \u001b[0mfile_write\u001b[0m\u001b[1;33m:\u001b[0m\u001b[1;33m\u001b[0m\u001b[0m\n\u001b[1;32m---> 28\u001b[1;33m         \u001b[0mfile_write\u001b[0m\u001b[1;33m.\u001b[0m\u001b[0mwrite\u001b[0m\u001b[1;33m(\u001b[0m\u001b[0mpage_html\u001b[0m\u001b[1;33m)\u001b[0m\u001b[1;33m\u001b[0m\u001b[0m\n\u001b[0m\u001b[0;32m     29\u001b[0m \u001b[1;33m\u001b[0m\u001b[0m\n\u001b[0;32m     30\u001b[0m     \u001b[0mappend_visited\u001b[0m\u001b[1;33m(\u001b[0m\u001b[0murl\u001b[0m\u001b[1;33m,\u001b[0m \u001b[0mfilename\u001b[0m\u001b[1;33m)\u001b[0m\u001b[1;33m\u001b[0m\u001b[0m\n",
      "\u001b[1;31mUnicodeEncodeError\u001b[0m: 'gbk' codec can't encode character '\\xe5' in position 337: illegal multibyte sequence"
     ]
    }
   ],
   "source": [
    "recurrent_visit(\"http://www.cmiw.cn/\",\"cmiw\")"
   ]
  },
  {
   "cell_type": "code",
   "execution_count": null,
   "metadata": {},
   "outputs": [],
   "source": []
  },
  {
   "cell_type": "code",
   "execution_count": null,
   "metadata": {},
   "outputs": [],
   "source": []
  },
  {
   "cell_type": "code",
   "execution_count": null,
   "metadata": {},
   "outputs": [],
   "source": []
  },
  {
   "cell_type": "code",
   "execution_count": null,
   "metadata": {},
   "outputs": [],
   "source": []
  },
  {
   "cell_type": "code",
   "execution_count": null,
   "metadata": {},
   "outputs": [],
   "source": []
  },
  {
   "cell_type": "code",
   "execution_count": null,
   "metadata": {},
   "outputs": [],
   "source": []
  }
 ],
 "metadata": {
  "kernelspec": {
   "display_name": "Python 3",
   "language": "python",
   "name": "python3"
  },
  "language_info": {
   "codemirror_mode": {
    "name": "ipython",
    "version": 3
   },
   "file_extension": ".py",
   "mimetype": "text/x-python",
   "name": "python",
   "nbconvert_exporter": "python",
   "pygments_lexer": "ipython3",
   "version": "3.7.0"
  }
 },
 "nbformat": 4,
 "nbformat_minor": 2
}
