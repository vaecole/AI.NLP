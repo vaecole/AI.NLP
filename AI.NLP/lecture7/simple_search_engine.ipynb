{
 "cells": [
  {
   "cell_type": "markdown",
   "metadata": {},
   "source": [
    "### www.cmiw.cn 和 bbs.cmiw.cn 是爬虫web_crawler.ipynb爬下来的网页，本实验主要使用www.cmiw.cn 的数据"
   ]
  },
  {
   "cell_type": "code",
   "execution_count": 7,
   "metadata": {
    "scrolled": true
   },
   "outputs": [
    {
     "name": "stdout",
     "output_type": "stream",
     "text": [
      " 驱动器 C 中的卷没有标签。\n",
      " 卷的序列号是 D4A3-95FD\n",
      "\n",
      " C:\\Users\\Mark\\1AI.NPL\\AI.NLP\\lecture7 的目录\n",
      "\n",
      "2019-01-04  19:06    <DIR>          .\n",
      "2019-01-04  19:06    <DIR>          ..\n",
      "2019-01-04  16:34    <DIR>          .ipynb_checkpoints\n",
      "2019-01-04  19:06    <DIR>          bbs.cmiw.cn\n",
      "2019-01-04  17:21    <DIR>          log\n",
      "2019-01-04  17:44            38,756 simple_search_engine.ipynb\n",
      "2019-01-04  19:06            10,991 web_crawler.ipynb\n",
      "2019-01-04  19:07    <DIR>          www.cmiw.cn\n",
      "2019-01-04  19:05    <DIR>          www.cmiw.cn_archive\n",
      "               2 个文件         49,747 字节\n",
      "               7 个目录 15,440,273,408 可用字节\n"
     ]
    }
   ],
   "source": [
    "!dir"
   ]
  },
  {
   "cell_type": "code",
   "execution_count": 16,
   "metadata": {},
   "outputs": [],
   "source": [
    "import os\n",
    "\n",
    "file_base = \"www.cmiw.cn_archive\"\n",
    "text_base = \"www.cmiw.cn_text\""
   ]
  },
  {
   "cell_type": "code",
   "execution_count": 6,
   "metadata": {},
   "outputs": [],
   "source": [
    "import html2text\n",
    "\n",
    "html_handler = html2text.HTML2Text()\n",
    "\n",
    "html_handler.ignore_links = True"
   ]
  },
  {
   "cell_type": "code",
   "execution_count": 19,
   "metadata": {},
   "outputs": [
    {
     "name": "stderr",
     "output_type": "stream",
     "text": [
      "100%|██████████████████████████████████████████████████████████████████████████████| 5592/5592 [03:50<00:00, 24.27it/s]\n"
     ]
    }
   ],
   "source": [
    "from tqdm import tqdm\n",
    "\n",
    "for f in tqdm(os.listdir(file_base)):\n",
    "    open(os.path.join(text_base, f),'w',encoding='utf-8').write(html_handler.handle(open(os.path.join(file_base, f)).read()))"
   ]
  },
  {
   "cell_type": "code",
   "execution_count": 20,
   "metadata": {},
   "outputs": [
    {
     "data": {
      "text/plain": [
       "5592"
      ]
     },
     "execution_count": 20,
     "metadata": {},
     "output_type": "execute_result"
    }
   ],
   "source": [
    "import os\n",
    "\n",
    "len(os.listdir(text_base))"
   ]
  },
  {
   "cell_type": "markdown",
   "metadata": {},
   "source": [
    "### 把所有的内容作为语料库，先分词"
   ]
  },
  {
   "cell_type": "code",
   "execution_count": 21,
   "metadata": {},
   "outputs": [],
   "source": [
    "import jieba\n",
    "\n",
    "def cut(string): return ' '.join(jieba.cut(string))"
   ]
  },
  {
   "cell_type": "code",
   "execution_count": 25,
   "metadata": {},
   "outputs": [
    {
     "name": "stderr",
     "output_type": "stream",
     "text": [
      "  0%|                                                                                         | 0/5592 [00:00<?, ?it/s]Building prefix dict from the default dictionary ...\n",
      "Loading model from cache C:\\Users\\Mark\\AppData\\Local\\Temp\\jieba.cache\n",
      "Loading model cost 0.968 seconds.\n",
      "Prefix dict has been built succesfully.\n",
      "100%|██████████████████████████████████████████████████████████████████████████████| 5592/5592 [01:11<00:00, 78.40it/s]\n"
     ]
    }
   ],
   "source": [
    "corpus = []\n",
    "\n",
    "for f in tqdm(os.listdir(text_base)):\n",
    "    corpus.append(cut(open(os.path.join(text_base, f),encoding = 'utf-8').read()))"
   ]
  },
  {
   "cell_type": "markdown",
   "metadata": {},
   "source": [
    "### TF-IDF向量化，TF-IDF参考lecture6/TF_DF_wordcloud_relatedwords.ipynb"
   ]
  },
  {
   "cell_type": "code",
   "execution_count": 26,
   "metadata": {},
   "outputs": [
    {
     "ename": "NameError",
     "evalue": "name 'tfidf' is not defined",
     "output_type": "error",
     "traceback": [
      "\u001b[1;31m---------------------------------------------------------------------------\u001b[0m",
      "\u001b[1;31mNameError\u001b[0m                                 Traceback (most recent call last)",
      "\u001b[1;32m<ipython-input-26-63bd8d3f245e>\u001b[0m in \u001b[0;36m<module>\u001b[1;34m()\u001b[0m\n\u001b[0;32m      3\u001b[0m \u001b[1;33m\u001b[0m\u001b[0m\n\u001b[0;32m      4\u001b[0m \u001b[0mtf_idf_vec\u001b[0m \u001b[1;33m=\u001b[0m \u001b[0mvectorizer\u001b[0m\u001b[1;33m.\u001b[0m\u001b[0mfit_transform\u001b[0m\u001b[1;33m(\u001b[0m\u001b[0mcorpus\u001b[0m\u001b[1;33m)\u001b[0m\u001b[1;33m\u001b[0m\u001b[0m\n\u001b[1;32m----> 5\u001b[1;33m \u001b[0mtransposed_tfidf_vec\u001b[0m \u001b[1;33m=\u001b[0m \u001b[0mtfidf\u001b[0m\u001b[1;33m.\u001b[0m\u001b[0mtranspose\u001b[0m\u001b[1;33m(\u001b[0m\u001b[1;33m)\u001b[0m\u001b[1;33m\u001b[0m\u001b[0m\n\u001b[0m",
      "\u001b[1;31mNameError\u001b[0m: name 'tfidf' is not defined"
     ]
    }
   ],
   "source": [
    "from sklearn.feature_extraction.text import TfidfVectorizer\n",
    "vectorizer = TfidfVectorizer()\n",
    "\n",
    "tf_idf_vec = vectorizer.fit_transform(corpus)"
   ]
  },
  {
   "cell_type": "code",
   "execution_count": 27,
   "metadata": {},
   "outputs": [],
   "source": [
    "transposed_tfidf_vec = tf_idf_vec.transpose()"
   ]
  },
  {
   "cell_type": "code",
   "execution_count": 28,
   "metadata": {},
   "outputs": [
    {
     "data": {
      "text/plain": [
       "(84284, 5592)"
      ]
     },
     "execution_count": 28,
     "metadata": {},
     "output_type": "execute_result"
    }
   ],
   "source": [
    "import numpy as np\n",
    "\n",
    "transposed_tfidf_array = transposed_tfidf_vec.toarray()\n",
    "transposed_tfidf_array.shape"
   ]
  },
  {
   "cell_type": "code",
   "execution_count": 29,
   "metadata": {},
   "outputs": [
    {
     "data": {
      "text/plain": [
       "(array([223, 227], dtype=int64),)"
      ]
     },
     "execution_count": 29,
     "metadata": {},
     "output_type": "execute_result"
    }
   ],
   "source": [
    "np.where(transposed_tfidf_array[10])"
   ]
  },
  {
   "cell_type": "code",
   "execution_count": 38,
   "metadata": {},
   "outputs": [],
   "source": [
    "def get_word_id(word):\n",
    "    return vectorizer.vocabulary_.get(word, None)\n",
    "\n",
    "def get_candidates_ids(input_string):\n",
    "    return [get_word_id(c) for c in cut(input_string).split()]\n",
    "\n",
    "def get_candidates_pat(input_string):\n",
    "    return '({})'.format('|'.join(cut(input_string).split()))"
   ]
  },
  {
   "cell_type": "code",
   "execution_count": 39,
   "metadata": {},
   "outputs": [
    {
     "data": {
      "text/plain": [
       "62650"
      ]
     },
     "execution_count": 39,
     "metadata": {},
     "output_type": "execute_result"
    }
   ],
   "source": [
    "get_word_id('深圳')"
   ]
  },
  {
   "cell_type": "code",
   "execution_count": 44,
   "metadata": {},
   "outputs": [],
   "source": [
    "from functools import reduce\n",
    "from operator import and_\n",
    "import re\n",
    "from scipy.spatial.distance import cosine\n",
    "\n",
    "def search_engine(query):\n",
    "    candidates_ids = get_candidates_ids(query)\n",
    "    \n",
    "    v1 = vectorizer.transform([cut(query)]).toarray()[0]\n",
    "    \n",
    "    candidates = [set(np.where(transposed_tfidf_array[_id])[0]) for _id in candidates_ids]\n",
    "    \n",
    "    merged_candidates = reduce(and_, candidates)\n",
    "    \n",
    "    pat = re.compile(get_candidates_pat(query))\n",
    "    \n",
    "    vector_with_id = [(tf_idf_vec[i], i) for i in merged_candidates]\n",
    "    \n",
    "    sorted_vector_with_ids = sorted(vector_with_id, key=lambda x: cosine(x[0].toarray(), v1))\n",
    "\n",
    "    sorted_ids = [i for v, i in sorted_vector_with_ids]\n",
    "    \n",
    "    for c in merged_candidates:\n",
    "        output = pat.sub(repl='** \\g<1> ** ', string=corpus[c])\n",
    "        yield ''.join(output.split())"
   ]
  },
  {
   "cell_type": "code",
   "execution_count": 48,
   "metadata": {},
   "outputs": [
    {
     "name": "stdout",
     "output_type": "stream",
     "text": [
      "done!\n"
     ]
    }
   ],
   "source": [
    "with open('search_result.md', 'w',encoding = 'utf-8') as f:\n",
    "    for i, document in enumerate(search_engine('机械工程')):\n",
    "        f.write('## search result {}\\n'.format(i))\n",
    "        f.write(document+'\\n')\n",
    "    print('done!')"
   ]
  },
  {
   "cell_type": "markdown",
   "metadata": {},
   "source": [
    "## Page Rank\n",
    "### Refference https://blog.csdn.net/hguisu/article/details/7996185"
   ]
  },
  {
   "cell_type": "code",
   "execution_count": 1,
   "metadata": {},
   "outputs": [],
   "source": [
    "import networkx as nx\n",
    "import random\n",
    "from string import ascii_letters\n",
    "\n",
    "def generate_name(): return ''.join([random.choice(ascii_letters.upper()) for _ in range(3)])"
   ]
  },
  {
   "cell_type": "code",
   "execution_count": 2,
   "metadata": {},
   "outputs": [],
   "source": [
    "social_graph = {\n",
    "    \"Yao\": ['Guo', 'Wang', 'Tian', 'Tim'] + [generate_name() for _ in range(4)], \n",
    "    \"Guo\": ['Li'] + [generate_name() for _ in range(5)],\n",
    "    \"Wang\": [\"Li_2\"] + [generate_name() for _ in range(5)], \n",
    "    \"Li_2\": [generate_name() for _ in range(5)], \n",
    "    \"Li\": [generate_name() for _ in range(1)],\n",
    "}"
   ]
  },
  {
   "cell_type": "code",
   "execution_count": 3,
   "metadata": {},
   "outputs": [],
   "source": [
    "social_network = nx.graph.Graph(social_graph)"
   ]
  },
  {
   "cell_type": "code",
   "execution_count": 4,
   "metadata": {},
   "outputs": [
    {
     "data": {
      "image/png": "[encoded data removed]",
      "text/plain": [
       "<Figure size 432x288 with 1 Axes>"
      ]
     },
     "metadata": {
      "needs_background": "light"
     },
     "output_type": "display_data"
    }
   ],
   "source": [
    "%matplotlib inline\n",
    "\n",
    "nx.draw_networkx(social_network)"
   ]
  },
  {
   "cell_type": "code",
   "execution_count": 5,
   "metadata": {},
   "outputs": [
    {
     "data": {
      "text/plain": [
       "[('Yao', 0.14018616244938112),\n",
       " ('Guo', 0.12625952492883674),\n",
       " ('Wang', 0.12354105488402628),\n",
       " ('Li_2', 0.11100157862592008),\n",
       " ('Li', 0.04009295437632798),\n",
       " ('SXC', 0.022595018111845305),\n",
       " ('LBD', 0.021279981196290158),\n",
       " ('LMG', 0.021279981196290158),\n",
       " ('DWR', 0.021279981196290158),\n",
       " ('IXJ', 0.021279981196290158),\n",
       " ('WRE', 0.021279981196290158),\n",
       " ('WLY', 0.02088716348418851),\n",
       " ('OQE', 0.02088716348418851),\n",
       " ('MPF', 0.02088716348418851),\n",
       " ('TVQ', 0.02088716348418851),\n",
       " ('JDA', 0.02088716348418851),\n",
       " ('YKH', 0.020557581368083087),\n",
       " ('OCS', 0.020557581368083087),\n",
       " ('LEZ', 0.020557581368083087),\n",
       " ('PXA', 0.020557581368083087),\n",
       " ('FNA', 0.020557581368083087),\n",
       " ('Tian', 0.020450012730142263),\n",
       " ('Tim', 0.020450012730142263),\n",
       " ('CVV', 0.020450012730142263),\n",
       " ('CAL', 0.020450012730142263),\n",
       " ('TZQ', 0.020450012730142263),\n",
       " ('FRV', 0.020450012730142263)]"
      ]
     },
     "execution_count": 5,
     "metadata": {},
     "output_type": "execute_result"
    }
   ],
   "source": [
    "sorted(nx.pagerank(social_network).items(), key=lambda x: x[1], reverse=True)"
   ]
  },
  {
   "cell_type": "code",
   "execution_count": null,
   "metadata": {},
   "outputs": [],
   "source": []
  },
  {
   "cell_type": "code",
   "execution_count": null,
   "metadata": {},
   "outputs": [],
   "source": []
  }
 ],
 "metadata": {
  "kernelspec": {
   "display_name": "Python 3",
   "language": "python",
   "name": "python3"
  },
  "language_info": {
   "codemirror_mode": {
    "name": "ipython",
    "version": 3
   },
   "file_extension": ".py",
   "mimetype": "text/x-python",
   "name": "python",
   "nbconvert_exporter": "python",
   "pygments_lexer": "ipython3",
   "version": "3.7.0"
  }
 },
 "nbformat": 4,
 "nbformat_minor": 2
}
