{
 "cells": [
  {
   "cell_type": "code",
   "execution_count": 1,
   "metadata": {},
   "outputs": [
    {
     "name": "stderr",
     "output_type": "stream",
     "text": [
      "Using TensorFlow backend.\n"
     ]
    }
   ],
   "source": [
    "import sys, os, re, csv, codecs, numpy as np, pandas as pd\n",
    "import matplotlib.pyplot as plt\n",
    "%matplotlib inline\n",
    "from keras.preprocessing.text import Tokenizer\n",
    "from keras.preprocessing.sequence import pad_sequences\n",
    "from keras.layers import Dense, Input, LSTM, Embedding, Dropout, Activation\n",
    "from keras.layers import Bidirectional, GlobalMaxPool1D\n",
    "from keras.models import Model\n",
    "\n",
    "from keras import initializers, regularizers, constraints, optimizers, layers"
   ]
  },
  {
   "cell_type": "code",
   "execution_count": 2,
   "metadata": {
    "collapsed": true
   },
   "outputs": [],
   "source": [
    "train_set = pd.read_csv('data/trainingset.csv')"
   ]
  },
  {
   "cell_type": "code",
   "execution_count": 9,
   "metadata": {},
   "outputs": [
    {
     "data": {
      "text/plain": [
       "['id',\n",
       " 'content',\n",
       " 'location_traffic_convenience',\n",
       " 'location_distance_from_business_district',\n",
       " 'location_easy_to_find',\n",
       " 'service_wait_time',\n",
       " 'service_waiters_attitude',\n",
       " 'service_parking_convenience',\n",
       " 'service_serving_speed',\n",
       " 'price_level',\n",
       " 'price_cost_effective',\n",
       " 'price_discount',\n",
       " 'environment_decoration',\n",
       " 'environment_noise',\n",
       " 'environment_space',\n",
       " 'environment_cleaness',\n",
       " 'dish_portion',\n",
       " 'dish_taste',\n",
       " 'dish_look',\n",
       " 'dish_recommendation',\n",
       " 'others_overall_experience',\n",
       " 'others_willing_to_consume_again']"
      ]
     },
     "execution_count": 9,
     "metadata": {},
     "output_type": "execute_result"
    }
   ],
   "source": [
    "train_set.columns.tolist()"
   ]
  },
  {
   "cell_type": "code",
   "execution_count": 4,
   "metadata": {},
   "outputs": [
    {
     "data": {
      "text/plain": [
       "id                                          False\n",
       "content                                     False\n",
       "location_traffic_convenience                False\n",
       "location_distance_from_business_district    False\n",
       "location_easy_to_find                       False\n",
       "service_wait_time                           False\n",
       "service_waiters_attitude                    False\n",
       "service_parking_convenience                 False\n",
       "service_serving_speed                       False\n",
       "price_level                                 False\n",
       "price_cost_effective                        False\n",
       "price_discount                              False\n",
       "environment_decoration                      False\n",
       "environment_noise                           False\n",
       "environment_space                           False\n",
       "environment_cleaness                        False\n",
       "dish_portion                                False\n",
       "dish_taste                                  False\n",
       "dish_look                                   False\n",
       "dish_recommendation                         False\n",
       "others_overall_experience                   False\n",
       "others_willing_to_consume_again             False\n",
       "dtype: bool"
      ]
     },
     "execution_count": 4,
     "metadata": {},
     "output_type": "execute_result"
    }
   ],
   "source": [
    "train_set.isnull().any()"
   ]
  },
  {
   "cell_type": "code",
   "execution_count": 10,
   "metadata": {
    "collapsed": true
   },
   "outputs": [],
   "source": [
    "sentiments = train_set.columns.tolist()[2:]"
   ]
  },
  {
   "cell_type": "code",
   "execution_count": 11,
   "metadata": {},
   "outputs": [
    {
     "data": {
      "text/plain": [
       "['location_traffic_convenience',\n",
       " 'location_distance_from_business_district',\n",
       " 'location_easy_to_find',\n",
       " 'service_wait_time',\n",
       " 'service_waiters_attitude',\n",
       " 'service_parking_convenience',\n",
       " 'service_serving_speed',\n",
       " 'price_level',\n",
       " 'price_cost_effective',\n",
       " 'price_discount',\n",
       " 'environment_decoration',\n",
       " 'environment_noise',\n",
       " 'environment_space',\n",
       " 'environment_cleaness',\n",
       " 'dish_portion',\n",
       " 'dish_taste',\n",
       " 'dish_look',\n",
       " 'dish_recommendation',\n",
       " 'others_overall_experience',\n",
       " 'others_willing_to_consume_again']"
      ]
     },
     "execution_count": 11,
     "metadata": {},
     "output_type": "execute_result"
    }
   ],
   "source": [
    "sentiments"
   ]
  },
  {
   "cell_type": "code",
   "execution_count": 12,
   "metadata": {
    "collapsed": true
   },
   "outputs": [],
   "source": [
    "Y = train_set[sentiments].values"
   ]
  },
  {
   "cell_type": "code",
   "execution_count": 14,
   "metadata": {},
   "outputs": [
    {
     "data": {
      "text/plain": [
       "(105000, 20)"
      ]
     },
     "execution_count": 14,
     "metadata": {},
     "output_type": "execute_result"
    }
   ],
   "source": [
    "Y.shape"
   ]
  },
  {
   "cell_type": "code",
   "execution_count": 25,
   "metadata": {},
   "outputs": [],
   "source": [
    "comments = train_set['content']"
   ]
  },
  {
   "cell_type": "code",
   "execution_count": 27,
   "metadata": {},
   "outputs": [],
   "source": [
    "import jieba\n",
    "\n",
    "def cut(content):\n",
    "    return ' '.join(jieba.cut(content))"
   ]
  },
  {
   "cell_type": "code",
   "execution_count": 28,
   "metadata": {
    "scrolled": true
   },
   "outputs": [
    {
     "data": {
      "text/plain": [
       "0    \"吼吼吼，萌死人的棒棒糖，中了大众点评的霸王餐，太可爱了。一直就好奇这个棒棒糖是怎么个东西，...\n",
       "1    \"第三次参加大众点评网霸王餐的活动。这家店给人整体感觉一般。首先环境只能算中等，其次霸王餐提...\n",
       "2    \"4人同行 点了10个小吃\\n榴莲酥 榴莲味道不足 松软 奶味浓\\n虾饺 好吃 两颗大虾仁\\...\n",
       "3    \"之前评价了莫名其妙被删 果断继续差评！ 换了菜单 价格更低 开始砸牌子 但套餐还是有150...\n",
       "4    \"出乎意料地惊艳，椰子鸡清热降火，美容养颜，大大满足了爱吃火锅怕上火星人。椰子冻是帅帅的老板...\n",
       "5    \"烤鸭使用的蘸酱很地道，觉得烤鸭好不好吃在很大程度上都取决于这个酱料是否正宗。个人感觉他们家...\n",
       "6    \"在好友圈很红的原因很诡异.竟然基本都是我外地的朋友转发的.不远千里跑来厦门买回去吃.吃完各...\n",
       "7    \"中午饭点人比较多需要排队～2点左右去吃的刚好可以用团购～也不用排队～就是平安夜店员说的都不...\n",
       "8    \"跟朋友相约25号看港囧，首映当天排片率超高，为了提前订好票，选了文投国际影城，为了看电影我...\n",
       "9    \"首先感谢大众点评再次抽中我免费品尝火锅，同时也感谢古蜀雒味三星堆主题火锅商家提供这个平台，...\n",
       "Name: content, dtype: object"
      ]
     },
     "execution_count": 28,
     "metadata": {},
     "output_type": "execute_result"
    }
   ],
   "source": [
    "comments[:10]"
   ]
  },
  {
   "cell_type": "code",
   "execution_count": 32,
   "metadata": {},
   "outputs": [
    {
     "name": "stderr",
     "output_type": "stream",
     "text": [
      "100%|█████████████████████████████████████████████████████████████████████████| 105000/105000 [03:35<00:00, 486.91it/s]\n"
     ]
    }
   ],
   "source": [
    "X_w = list()\n",
    "import tqdm\n",
    "\n",
    "for c in tqdm.tqdm(comments):\n",
    "    X_w.append(cut(c))"
   ]
  },
  {
   "cell_type": "code",
   "execution_count": 54,
   "metadata": {},
   "outputs": [
    {
     "data": {
      "text/plain": [
       "['\" 吼吼 吼 ， 萌死 人 的 棒棒糖 ， 中 了 大众 点评 的 霸王餐 ， 太 可爱 了 。 一直 就 好奇 这个 棒棒糖 是 怎么 个 东西 ， 大众 点评 给 了 我 这个 土老冒 一个 见识 的 机会 。 看 介绍 棒棒糖 是 用 德国 糖 做 的 ， 不会 很甜 ， 中间 的 照片 是 糯米 的 ， 能 食用 ， 真是太 高端 大气 上档次 了 ， 还 可以 买 蝴蝶结 扎口 ， 送人 可以 买 礼盒 。 我 是 先 打 的 卖家 电话 ， 加 了 微信 ， 给 卖家 传 的 照片 。 等 了 几天 ， 卖家 就 告诉 我 可以 取货 了 ， 去 大官 屯 那取 的 。 虽然 连 卖家 的 面 都 没 见到 ， 但是 还是 谢谢 卖家 送 我 这么 可爱 的 东西 ， 太 喜欢 了 ， 这 哪 舍得吃 啊 。 \"',\n",
       " '\" 第三次 参加 大众 点评 网 霸王餐 的 活动 。 这家 店 给 人 整体 感觉 一般 。 首先 环境 只能 算 中等 ， 其次 霸王餐 提供 的 菜品 也 不是 很多 ， 当然 商家 为了 避免 参加 霸王餐 吃不饱 的 现象 ， 给 每桌 都 提供 了 至少 六份 主食 ， 我们 那桌 都 提供 了 两份 年糕 ， 第一次 吃火锅 会 在 桌上 有 这么 多 的 主食 了 。 整体 来说 这家 火锅店 没有 什么 特别 有 特色 的 ， 不过 每份 菜品 分量 还是 比较 足 的 ， 这点 要 肯定 ！ 至于 价格 ， 因为 没有 看 菜单 不 了解 ， 不过 我 看 大众 有 这家 店 的 团购 代金券 ， 相当于 7 折 ， 应该 价位 不会 很 高 的 ！ 最后 还是 要 感谢 商家 提供 霸王餐 ， 祝 生意兴隆 ， 财源 广进 \"',\n",
       " '\" 4 人 同行   点 了 10 个 小吃 \\n 榴莲 酥   榴莲 味道 不足   松软   奶味 浓 \\n 虾饺   好吃   两颗 大 虾仁 \\n 皮蛋 粥   皮蛋 多   但是 一般   挺 稠 的 \\n 奶黄包   很 好吃   真的 是 蛋黄 和 奶   而且 真的 是 流沙 \\n 叉烧包   面香 \\n 鲜虾 烧卖   好吃   外面 的 黄色 皮 看着 让 人 特别 有 食欲 \\n 云吞面   云吞 分量 足   但是 汤头 不是 很 好喝   而且 云吞 的 馅儿 不知 为何 感觉 不是 很 新鲜 \\n 鲍汁 腐皮卷   没 怎么 吃   味道 倒 是 不错 \\n 排骨   味道 不错   不算 很腻   但是 油 确实 微多 \\n 鲜虾 锅贴   确实 今天 吃 了 很多 虾   这个 很 酥脆 ， 里头 的 虾 也 很 好吃 \\n \\n 刚好 有 优惠券 ， 所以 4 个人 花 了 100 不到 【 这个 优惠券 只能 在 1 层用 ， 5 层用 不了 】 \\n \\n 原价 大概 人均 50 \\n \\n 服务 一般 ， 上菜 速度 倒 是 很快 ， 人 挺 多 ， 坐在 沙发 上 感觉 很 舒服 \"']"
      ]
     },
     "execution_count": 54,
     "metadata": {},
     "output_type": "execute_result"
    }
   ],
   "source": [
    "X_w[:3]"
   ]
  },
  {
   "cell_type": "code",
   "execution_count": 35,
   "metadata": {
    "collapsed": true
   },
   "outputs": [],
   "source": [
    "max_features = 20000\n",
    "tokenizer = Tokenizer(num_words=max_features)\n",
    "tokenizer.fit_on_texts(X_w)\n",
    "X_tokenized = tokenizer.texts_to_sequences(X_w)"
   ]
  },
  {
   "cell_type": "code",
   "execution_count": 39,
   "metadata": {},
   "outputs": [
    {
     "data": {
      "text/plain": [
       "7355"
      ]
     },
     "execution_count": 39,
     "metadata": {},
     "output_type": "execute_result"
    }
   ],
   "source": [
    "tokenizer.word_counts.get('美味')"
   ]
  },
  {
   "cell_type": "code",
   "execution_count": 40,
   "metadata": {},
   "outputs": [
    {
     "name": "stderr",
     "output_type": "stream",
     "text": [
      "100%|█████████████████████████████████████████████████████████████████████| 105000/105000 [00:00<00:00, 1783552.51it/s]\n"
     ]
    }
   ],
   "source": [
    "comment_lens = [len(x) for x in tqdm.tqdm(X)]"
   ]
  },
  {
   "cell_type": "code",
   "execution_count": 46,
   "metadata": {},
   "outputs": [
    {
     "data": {
      "text/plain": [
       "[367,\n",
       " 379,\n",
       " 504,\n",
       " 387,\n",
       " 404,\n",
       " 503,\n",
       " 1047,\n",
       " 559,\n",
       " 625,\n",
       " 612,\n",
       " 453,\n",
       " 354,\n",
       " 471,\n",
       " 540,\n",
       " 543,\n",
       " 413,\n",
       " 503,\n",
       " 359,\n",
       " 361,\n",
       " 376]"
      ]
     },
     "execution_count": 46,
     "metadata": {},
     "output_type": "execute_result"
    }
   ],
   "source": [
    "comment_lens[:20]"
   ]
  },
  {
   "cell_type": "code",
   "execution_count": 51,
   "metadata": {},
   "outputs": [
    {
     "data": {
      "image/png": "[encoded data removed]",
      "text/plain": [
       "<matplotlib.figure.Figure at 0x151ad73a390>"
      ]
     },
     "metadata": {},
     "output_type": "display_data"
    }
   ],
   "source": [
    "plt.hist(comment_lens, bins=np.arange(0,3500,50))\n",
    "plt.show()"
   ]
  },
  {
   "cell_type": "code",
   "execution_count": 52,
   "metadata": {
    "collapsed": true
   },
   "outputs": [],
   "source": [
    "comment_max_len = 1000"
   ]
  },
  {
   "cell_type": "code",
   "execution_count": 55,
   "metadata": {
    "collapsed": true
   },
   "outputs": [],
   "source": [
    "X = pad_sequences(X_tokenized, maxlen=comment_max_len)"
   ]
  },
  {
   "cell_type": "code",
   "execution_count": 67,
   "metadata": {
    "collapsed": true
   },
   "outputs": [],
   "source": [
    "inp = Input(shape=(comment_max_len, ))"
   ]
  },
  {
   "cell_type": "code",
   "execution_count": 68,
   "metadata": {
    "collapsed": true
   },
   "outputs": [],
   "source": [
    "# can be opt\n",
    "embed_size = 128\n",
    "x = Embedding(max_features, embed_size)(inp)"
   ]
  },
  {
   "cell_type": "code",
   "execution_count": 69,
   "metadata": {
    "collapsed": true
   },
   "outputs": [],
   "source": [
    "x = LSTM(60, return_sequences=True,name='lstm_layer')(x)"
   ]
  },
  {
   "cell_type": "code",
   "execution_count": 70,
   "metadata": {
    "collapsed": true
   },
   "outputs": [],
   "source": [
    "x = GlobalMaxPool1D()(x)"
   ]
  },
  {
   "cell_type": "code",
   "execution_count": 71,
   "metadata": {
    "collapsed": true
   },
   "outputs": [],
   "source": [
    "x = Dropout(0.1)(x)"
   ]
  },
  {
   "cell_type": "code",
   "execution_count": 72,
   "metadata": {
    "collapsed": true
   },
   "outputs": [],
   "source": [
    "x = Dense(50, activation=\"relu\")(x)"
   ]
  },
  {
   "cell_type": "code",
   "execution_count": 73,
   "metadata": {
    "collapsed": true
   },
   "outputs": [],
   "source": [
    "x = Dropout(0.1)(x)"
   ]
  },
  {
   "cell_type": "code",
   "execution_count": 74,
   "metadata": {
    "collapsed": true
   },
   "outputs": [],
   "source": [
    "x = Dense(20, activation=\"sigmoid\")(x)"
   ]
  },
  {
   "cell_type": "code",
   "execution_count": 75,
   "metadata": {
    "collapsed": true
   },
   "outputs": [],
   "source": [
    "model = Model(inputs=inp, outputs=x)\n",
    "model.compile(loss='binary_crossentropy',\n",
    "                  optimizer='adam',\n",
    "                  metrics=['accuracy'])"
   ]
  },
  {
   "cell_type": "code",
   "execution_count": 76,
   "metadata": {},
   "outputs": [
    {
     "name": "stdout",
     "output_type": "stream",
     "text": [
      "Train on 94500 samples, validate on 10500 samples\n",
      "Epoch 1/2\n"
     ]
    },
    {
     "name": "stdout",
     "output_type": "stream",
     "text": [
      " 6208/94500 [>.............................] - ETA: 1:54:03 - loss: 0.6923 - acc: 0.16 - ETA: 1:10:33 - loss: 0.6868 - acc: 0.15 - ETA: 55:58 - loss: 0.6815 - acc: 0.1458 - ETA: 48:50 - loss: 0.6778 - acc: 0.13 - ETA: 44:29 - loss: 0.6723 - acc: 0.13 - ETA: 41:34 - loss: 0.6671 - acc: 0.12 - ETA: 39:36 - loss: 0.6614 - acc: 0.12 - ETA: 38:02 - loss: 0.6548 - acc: 0.12 - ETA: 36:50 - loss: 0.6489 - acc: 0.13 - ETA: 35:53 - loss: 0.6407 - acc: 0.12 - ETA: 35:02 - loss: 0.6322 - acc: 0.12 - ETA: 34:16 - loss: 0.6236 - acc: 0.12 - ETA: 33:41 - loss: 0.6150 - acc: 0.12 - ETA: 33:10 - loss: 0.6022 - acc: 0.12 - ETA: 32:40 - loss: 0.5884 - acc: 0.12 - ETA: 32:13 - loss: 0.5710 - acc: 0.12 - ETA: 31:48 - loss: 0.5507 - acc: 0.12 - ETA: 31:34 - loss: 0.5271 - acc: 0.12 - ETA: 31:16 - loss: 0.5009 - acc: 0.12 - ETA: 30:58 - loss: 0.4681 - acc: 0.12 - ETA: 30:42 - loss: 0.4411 - acc: 0.12 - ETA: 30:27 - loss: 0.3998 - acc: 0.11 - ETA: 30:15 - loss: 0.3560 - acc: 0.11 - ETA: 30:04 - loss: 0.3170 - acc: 0.11 - ETA: 29:52 - loss: 0.2670 - acc: 0.11 - ETA: 29:42 - loss: 0.2246 - acc: 0.11 - ETA: 29:32 - loss: 0.1733 - acc: 0.11 - ETA: 29:23 - loss: 0.1190 - acc: 0.11 - ETA: 29:14 - loss: 0.0570 - acc: 0.11 - ETA: 29:11 - loss: 0.0015 - acc: 0.11 - ETA: 29:15 - loss: -0.0606 - acc: 0.117 - ETA: 29:10 - loss: -0.1149 - acc: 0.118 - ETA: 29:05 - loss: -0.1753 - acc: 0.118 - ETA: 29:03 - loss: -0.2406 - acc: 0.118 - ETA: 29:00 - loss: -0.3096 - acc: 0.116 - ETA: 28:52 - loss: -0.3677 - acc: 0.116 - ETA: 28:50 - loss: -0.4241 - acc: 0.116 - ETA: 28:48 - loss: -0.5004 - acc: 0.116 - ETA: 28:44 - loss: -0.5773 - acc: 0.115 - ETA: 28:38 - loss: -0.6605 - acc: 0.115 - ETA: 28:33 - loss: -0.7336 - acc: 0.115 - ETA: 28:28 - loss: -0.8244 - acc: 0.114 - ETA: 28:24 - loss: -0.9130 - acc: 0.113 - ETA: 28:18 - loss: -1.0033 - acc: 0.113 - ETA: 28:13 - loss: -1.0960 - acc: 0.113 - ETA: 28:12 - loss: -1.1913 - acc: 0.113 - ETA: 28:10 - loss: -1.2830 - acc: 0.113 - ETA: 28:09 - loss: -1.3867 - acc: 0.112 - ETA: 28:07 - loss: -1.4969 - acc: 0.112 - ETA: 28:07 - loss: -1.6102 - acc: 0.112 - ETA: 28:03 - loss: -1.7028 - acc: 0.112 - ETA: 27:59 - loss: -1.8173 - acc: 0.111 - ETA: 27:55 - loss: -1.9322 - acc: 0.111 - ETA: 27:51 - loss: -2.0505 - acc: 0.111 - ETA: 27:47 - loss: -2.1697 - acc: 0.111 - ETA: 27:45 - loss: -2.2998 - acc: 0.110 - ETA: 27:41 - loss: -2.4083 - acc: 0.110 - ETA: 27:37 - loss: -2.5434 - acc: 0.109 - ETA: 27:35 - loss: -2.6783 - acc: 0.109 - ETA: 27:32 - loss: -2.7984 - acc: 0.109 - ETA: 27:30 - loss: -2.9141 - acc: 0.109 - ETA: 27:26 - loss: -3.0651 - acc: 0.108 - ETA: 27:24 - loss: -3.2066 - acc: 0.108 - ETA: 27:22 - loss: -3.3331 - acc: 0.108 - ETA: 27:19 - loss: -3.4640 - acc: 0.108 - ETA: 27:16 - loss: -3.6012 - acc: 0.107 - ETA: 27:13 - loss: -3.7377 - acc: 0.107 - ETA: 27:11 - loss: -3.8721 - acc: 0.107 - ETA: 27:08 - loss: -3.9959 - acc: 0.107 - ETA: 27:05 - loss: -4.1338 - acc: 0.107 - ETA: 27:04 - loss: -4.3059 - acc: 0.107 - ETA: 27:01 - loss: -4.4566 - acc: 0.106 - ETA: 27:00 - loss: -4.5762 - acc: 0.106 - ETA: 26:59 - loss: -4.7046 - acc: 0.106 - ETA: 26:59 - loss: -4.8570 - acc: 0.106 - ETA: 26:58 - loss: -4.9891 - acc: 0.106 - ETA: 26:57 - loss: -5.1168 - acc: 0.106 - ETA: 26:56 - loss: -5.2454 - acc: 0.106 - ETA: 26:56 - loss: -5.3697 - acc: 0.106 - ETA: 26:55 - loss: -5.5091 - acc: 0.106 - ETA: 26:54 - loss: -5.6089 - acc: 0.106 - ETA: 26:53 - loss: -5.6998 - acc: 0.106 - ETA: 26:52 - loss: -5.8113 - acc: 0.106 - ETA: 26:51 - loss: -5.9336 - acc: 0.106 - ETA: 26:49 - loss: -6.0622 - acc: 0.106 - ETA: 26:50 - loss: -6.1858 - acc: 0.106 - ETA: 26:48 - loss: -6.3242 - acc: 0.106 - ETA: 26:47 - loss: -6.4311 - acc: 0.106 - ETA: 26:46 - loss: -6.5413 - acc: 0.106 - ETA: 26:46 - loss: -6.6660 - acc: 0.106 - ETA: 26:46 - loss: -6.7804 - acc: 0.106 - ETA: 26:44 - loss: -6.9001 - acc: 0.106 - ETA: 26:42 - loss: -6.9988 - acc: 0.106 - ETA: 26:41 - loss: -7.0899 - acc: 0.106 - ETA: 26:39 - loss: -7.1806 - acc: 0.106 - ETA: 26:38 - loss: -7.2745 - acc: 0.106 - ETA: 26:38 - loss: -7.3957 - acc: 0.106 - ETA: 26:38 - loss: -7.4810 - acc: 0.106 - ETA: 26:40 - loss: -7.5983 - acc: 0.106 - ETA: 26:40 - loss: -7.7034 - acc: 0.106 - ETA: 26:40 - loss: -7.8015 - acc: 0.106 - ETA: 26:41 - loss: -7.8974 - acc: 0.106 - ETA: 26:41 - loss: -8.0062 - acc: 0.106 - ETA: 26:41 - loss: -8.1059 - acc: 0.106 - ETA: 26:39 - loss: -8.1852 - acc: 0.106 - ETA: 26:41 - loss: -8.2629 - acc: 0.106 - ETA: 26:47 - loss: -8.3476 - acc: 0.106 - ETA: 26:49 - loss: -8.4337 - acc: 0.105 - ETA: 26:50 - loss: -8.5035 - acc: 0.105 - ETA: 26:51 - loss: -8.5758 - acc: 0.105 - ETA: 26:49 - loss: -8.6462 - acc: 0.105 - ETA: 26:48 - loss: -8.7182 - acc: 0.105 - ETA: 26:47 - loss: -8.7993 - acc: 0.105 - ETA: 26:47 - loss: -8.8793 - acc: 0.105 - ETA: 26:51 - loss: -8.9505 - acc: 0.105 - ETA: 26:57 - loss: -9.0151 - acc: 0.105 - ETA: 27:02 - loss: -9.1030 - acc: 0.105 - ETA: 27:05 - loss: -9.1891 - acc: 0.105 - ETA: 27:09 - loss: -9.2736 - acc: 0.105 - ETA: 27:14 - loss: -9.3544 - acc: 0.105 - ETA: 27:18 - loss: -9.4173 - acc: 0.105 - ETA: 27:23 - loss: -9.4711 - acc: 0.105 - ETA: 27:30 - loss: -9.5454 - acc: 0.105 - ETA: 27:33 - loss: -9.6066 - acc: 0.105 - ETA: 27:36 - loss: -9.6695 - acc: 0.105 - ETA: 27:39 - loss: -9.7381 - acc: 0.105 - ETA: 27:43 - loss: -9.8076 - acc: 0.105 - ETA: 27:42 - loss: -9.8808 - acc: 0.105 - ETA: 27:41 - loss: -9.9397 - acc: 0.105 - ETA: 27:39 - loss: -10.0056 - acc: 0.10 - ETA: 27:37 - loss: -10.0431 - acc: 0.10 - ETA: 27:35 - loss: -10.1039 - acc: 0.10 - ETA: 27:32 - loss: -10.1573 - acc: 0.10 - ETA: 27:30 - loss: -10.2119 - acc: 0.10 - ETA: 27:28 - loss: -10.2684 - acc: 0.10 - ETA: 27:26 - loss: -10.3284 - acc: 0.10 - ETA: 27:24 - loss: -10.3810 - acc: 0.10 - ETA: 27:22 - loss: -10.4353 - acc: 0.10 - ETA: 27:20 - loss: -10.4773 - acc: 0.10 - ETA: 27:19 - loss: -10.5248 - acc: 0.10 - ETA: 27:18 - loss: -10.5734 - acc: 0.10 - ETA: 27:16 - loss: -10.6154 - acc: 0.10 - ETA: 27:14 - loss: -10.6651 - acc: 0.10 - ETA: 27:13 - loss: -10.7068 - acc: 0.10 - ETA: 27:11 - loss: -10.7508 - acc: 0.10 - ETA: 27:10 - loss: -10.7919 - acc: 0.10 - ETA: 27:09 - loss: -10.8371 - acc: 0.10 - ETA: 27:07 - loss: -10.8658 - acc: 0.10 - ETA: 27:06 - loss: -10.9028 - acc: 0.10 - ETA: 27:04 - loss: -10.9619 - acc: 0.10 - ETA: 27:02 - loss: -11.0081 - acc: 0.10 - ETA: 27:00 - loss: -11.0465 - acc: 0.10 - ETA: 26:58 - loss: -11.0921 - acc: 0.10 - ETA: 26:56 - loss: -11.1347 - acc: 0.10 - ETA: 26:55 - loss: -11.1638 - acc: 0.10 - ETA: 26:53 - loss: -11.2127 - acc: 0.10 - ETA: 26:51 - loss: -11.2552 - acc: 0.10 - ETA: 26:49 - loss: -11.2821 - acc: 0.10 - ETA: 26:48 - loss: -11.3234 - acc: 0.10 - ETA: 26:46 - loss: -11.3551 - acc: 0.10 - ETA: 26:44 - loss: -11.3853 - acc: 0.10 - ETA: 26:42 - loss: -11.4333 - acc: 0.10 - ETA: 26:41 - loss: -11.4571 - acc: 0.10 - ETA: 26:39 - loss: -11.4929 - acc: 0.10 - ETA: 26:37 - loss: -11.5334 - acc: 0.10 - ETA: 26:36 - loss: -11.5647 - acc: 0.10 - ETA: 26:34 - loss: -11.6103 - acc: 0.10 - ETA: 26:33 - loss: -11.6460 - acc: 0.10 - ETA: 26:31 - loss: -11.6793 - acc: 0.10 - ETA: 26:30 - loss: -11.7161 - acc: 0.10 - ETA: 26:30 - loss: -11.7542 - acc: 0.10 - ETA: 26:28 - loss: -11.7871 - acc: 0.10 - ETA: 26:27 - loss: -11.8206 - acc: 0.10 - ETA: 26:26 - loss: -11.8649 - acc: 0.10 - ETA: 26:25 - loss: -11.9004 - acc: 0.10 - ETA: 26:26 - loss: -11.9277 - acc: 0.10 - ETA: 26:25 - loss: -11.9585 - acc: 0.10 - ETA: 26:25 - loss: -11.9809 - acc: 0.10 - ETA: 26:25 - loss: -12.0152 - acc: 0.10 - ETA: 26:25 - loss: -12.0473 - acc: 0.10 - ETA: 26:25 - loss: -12.0746 - acc: 0.10 - ETA: 26:25 - loss: -12.1014 - acc: 0.10 - ETA: 26:25 - loss: -12.1324 - acc: 0.10 - ETA: 26:26 - loss: -12.1491 - acc: 0.10 - ETA: 26:27 - loss: -12.1770 - acc: 0.10 - ETA: 26:28 - loss: -12.2058 - acc: 0.10 - ETA: 26:28 - loss: -12.2436 - acc: 0.10 - ETA: 26:28 - loss: -12.2597 - acc: 0.10 - ETA: 26:28 - loss: -12.2830 - acc: 0.10 - ETA: 26:29 - loss: -12.3113 - acc: 0.10 - ETA: 26:30 - loss: -12.3418 - acc: 0.10 - ETA: 26:30 - loss: -12.3707 - acc: 0.10 - ETA: 26:30 - loss: -12.3951 - acc: 0.10 - ETA: 26:30 - loss: -12.4136 - acc: 0.1041\b\b\b\b\b\b\b\b\b\b\b\b\b\b\b\b\b\b\b\b\b\b\b\b\b\b\b\b\b\b\b\b\b\b\b\b\b\b\b\b\b\b\b\b\b\b\b\b\b\b\b\b\b\b\b\b\b\b\b\b\b\b\b\b\b\b\b\b\b\b\b\b\b\b\b\b\b\b\b\b\b\b\b\b\b\b\b\b"
     ]
    },
    {
     "name": "stdout",
     "output_type": "stream",
     "text": [
      "12416/94500 [==>...........................] - ETA: 26:30 - loss: -12.4429 - acc: 0.10 - ETA: 26:30 - loss: -12.4709 - acc: 0.10 - ETA: 26:29 - loss: -12.4962 - acc: 0.10 - ETA: 26:29 - loss: -12.5250 - acc: 0.10 - ETA: 26:29 - loss: -12.5533 - acc: 0.10 - ETA: 26:28 - loss: -12.5716 - acc: 0.10 - ETA: 26:27 - loss: -12.6018 - acc: 0.10 - ETA: 26:26 - loss: -12.6272 - acc: 0.10 - ETA: 26:26 - loss: -12.6658 - acc: 0.10 - ETA: 26:25 - loss: -12.6834 - acc: 0.10 - ETA: 26:23 - loss: -12.7103 - acc: 0.10 - ETA: 26:22 - loss: -12.7290 - acc: 0.10 - ETA: 26:21 - loss: -12.7530 - acc: 0.10 - ETA: 26:20 - loss: -12.7715 - acc: 0.10 - ETA: 26:19 - loss: -12.7938 - acc: 0.10 - ETA: 26:18 - loss: -12.8226 - acc: 0.10 - ETA: 26:17 - loss: -12.8403 - acc: 0.10 - ETA: 26:16 - loss: -12.8671 - acc: 0.10 - ETA: 26:15 - loss: -12.8966 - acc: 0.10 - ETA: 26:14 - loss: -12.9206 - acc: 0.10 - ETA: 26:13 - loss: -12.9519 - acc: 0.10 - ETA: 26:12 - loss: -12.9811 - acc: 0.10 - ETA: 26:11 - loss: -13.0025 - acc: 0.10 - ETA: 26:10 - loss: -13.0247 - acc: 0.10 - ETA: 26:09 - loss: -13.0495 - acc: 0.10 - ETA: 26:08 - loss: -13.0712 - acc: 0.10 - ETA: 26:07 - loss: -13.0978 - acc: 0.10 - ETA: 26:06 - loss: -13.1230 - acc: 0.10 - ETA: 26:05 - loss: -13.1373 - acc: 0.10 - ETA: 26:04 - loss: -13.1613 - acc: 0.10 - ETA: 26:03 - loss: -13.1831 - acc: 0.10 - ETA: 26:02 - loss: -13.2022 - acc: 0.10 - ETA: 26:01 - loss: -13.2215 - acc: 0.10 - ETA: 26:00 - loss: -13.2379 - acc: 0.10 - ETA: 25:59 - loss: -13.2567 - acc: 0.10 - ETA: 25:58 - loss: -13.2762 - acc: 0.10 - ETA: 25:57 - loss: -13.2948 - acc: 0.10 - ETA: 25:56 - loss: -13.3150 - acc: 0.10 - ETA: 25:55 - loss: -13.3332 - acc: 0.10 - ETA: 25:54 - loss: -13.3497 - acc: 0.10 - ETA: 25:54 - loss: -13.3697 - acc: 0.10 - ETA: 25:53 - loss: -13.3884 - acc: 0.10 - ETA: 25:52 - loss: -13.4177 - acc: 0.10 - ETA: 25:51 - loss: -13.4271 - acc: 0.10 - ETA: 25:50 - loss: -13.4444 - acc: 0.10 - ETA: 25:49 - loss: -13.4622 - acc: 0.10 - ETA: 25:48 - loss: -13.4803 - acc: 0.10 - ETA: 25:47 - loss: -13.4994 - acc: 0.10 - ETA: 25:46 - loss: -13.5107 - acc: 0.10 - ETA: 25:45 - loss: -13.5262 - acc: 0.10 - ETA: 25:45 - loss: -13.5448 - acc: 0.10 - ETA: 25:44 - loss: -13.5542 - acc: 0.10 - ETA: 25:43 - loss: -13.5684 - acc: 0.10 - ETA: 25:42 - loss: -13.5871 - acc: 0.10 - ETA: 25:41 - loss: -13.6129 - acc: 0.10 - ETA: 25:40 - loss: -13.6337 - acc: 0.10 - ETA: 25:40 - loss: -13.6441 - acc: 0.10 - ETA: 25:39 - loss: -13.6592 - acc: 0.10 - ETA: 25:38 - loss: -13.6794 - acc: 0.10 - ETA: 25:37 - loss: -13.7000 - acc: 0.10 - ETA: 25:36 - loss: -13.7135 - acc: 0.10 - ETA: 25:35 - loss: -13.7251 - acc: 0.10 - ETA: 25:34 - loss: -13.7366 - acc: 0.10 - ETA: 25:33 - loss: -13.7503 - acc: 0.10 - ETA: 25:33 - loss: -13.7684 - acc: 0.10 - ETA: 25:32 - loss: -13.7819 - acc: 0.10 - ETA: 25:31 - loss: -13.7964 - acc: 0.10 - ETA: 25:30 - loss: -13.8062 - acc: 0.10 - ETA: 25:29 - loss: -13.8085 - acc: 0.10 - ETA: 25:28 - loss: -13.8306 - acc: 0.10 - ETA: 25:28 - loss: -13.8479 - acc: 0.10 - ETA: 25:27 - loss: -13.8661 - acc: 0.10 - ETA: 25:27 - loss: -13.8860 - acc: 0.10 - ETA: 25:26 - loss: -13.9039 - acc: 0.10 - ETA: 25:25 - loss: -13.9169 - acc: 0.10 - ETA: 25:24 - loss: -13.9299 - acc: 0.10 - ETA: 25:23 - loss: -13.9444 - acc: 0.10 - ETA: 25:23 - loss: -13.9582 - acc: 0.10 - ETA: 25:22 - loss: -13.9690 - acc: 0.10 - ETA: 25:21 - loss: -13.9841 - acc: 0.10 - ETA: 25:20 - loss: -13.9962 - acc: 0.10 - ETA: 25:19 - loss: -14.0123 - acc: 0.10 - ETA: 25:18 - loss: -14.0278 - acc: 0.10 - ETA: 25:18 - loss: -14.0394 - acc: 0.10 - ETA: 25:17 - loss: -14.0498 - acc: 0.10 - ETA: 25:16 - loss: -14.0684 - acc: 0.10 - ETA: 25:15 - loss: -14.0819 - acc: 0.10 - ETA: 25:15 - loss: -14.0886 - acc: 0.10 - ETA: 25:14 - loss: -14.1040 - acc: 0.10 - ETA: 25:13 - loss: -14.1201 - acc: 0.10 - ETA: 25:12 - loss: -14.1321 - acc: 0.10 - ETA: 25:11 - loss: -14.1428 - acc: 0.10 - ETA: 25:10 - loss: -14.1499 - acc: 0.10 - ETA: 25:10 - loss: -14.1609 - acc: 0.10 - ETA: 25:09 - loss: -14.1750 - acc: 0.10 - ETA: 25:08 - loss: -14.1908 - acc: 0.10 - ETA: 25:07 - loss: -14.2041 - acc: 0.10 - ETA: 25:06 - loss: -14.2195 - acc: 0.10 - ETA: 25:06 - loss: -14.2343 - acc: 0.10 - ETA: 25:05 - loss: -14.2377 - acc: 0.10 - ETA: 25:04 - loss: -14.2438 - acc: 0.10 - ETA: 25:03 - loss: -14.2551 - acc: 0.10 - ETA: 25:02 - loss: -14.2716 - acc: 0.10 - ETA: 25:02 - loss: -14.2869 - acc: 0.10 - ETA: 25:01 - loss: -14.2972 - acc: 0.10 - ETA: 25:00 - loss: -14.3126 - acc: 0.10 - ETA: 24:59 - loss: -14.3249 - acc: 0.10 - ETA: 24:58 - loss: -14.3358 - acc: 0.10 - ETA: 24:58 - loss: -14.3417 - acc: 0.10 - ETA: 24:57 - loss: -14.3508 - acc: 0.10 - ETA: 24:56 - loss: -14.3591 - acc: 0.10 - ETA: 24:56 - loss: -14.3665 - acc: 0.10 - ETA: 24:55 - loss: -14.3736 - acc: 0.10 - ETA: 24:54 - loss: -14.3871 - acc: 0.10 - ETA: 24:53 - loss: -14.4004 - acc: 0.10 - ETA: 24:53 - loss: -14.4107 - acc: 0.10 - ETA: 24:52 - loss: -14.4172 - acc: 0.10 - ETA: 24:51 - loss: -14.4273 - acc: 0.10 - ETA: 24:50 - loss: -14.4357 - acc: 0.10 - ETA: 24:49 - loss: -14.4473 - acc: 0.10 - ETA: 24:49 - loss: -14.4576 - acc: 0.10 - ETA: 24:48 - loss: -14.4701 - acc: 0.10 - ETA: 24:47 - loss: -14.4806 - acc: 0.10 - ETA: 24:46 - loss: -14.4870 - acc: 0.10 - ETA: 24:46 - loss: -14.4989 - acc: 0.10 - ETA: 24:45 - loss: -14.5020 - acc: 0.10 - ETA: 24:44 - loss: -14.5118 - acc: 0.10 - ETA: 24:43 - loss: -14.5260 - acc: 0.10 - ETA: 24:43 - loss: -14.5327 - acc: 0.10 - ETA: 24:42 - loss: -14.5459 - acc: 0.10 - ETA: 24:41 - loss: -14.5535 - acc: 0.10 - ETA: 24:40 - loss: -14.5670 - acc: 0.10 - ETA: 24:40 - loss: -14.5764 - acc: 0.10 - ETA: 24:39 - loss: -14.5848 - acc: 0.10 - ETA: 24:38 - loss: -14.5924 - acc: 0.10 - ETA: 24:37 - loss: -14.6013 - acc: 0.10 - ETA: 24:37 - loss: -14.6130 - acc: 0.10 - ETA: 24:36 - loss: -14.6197 - acc: 0.10 - ETA: 24:35 - loss: -14.6240 - acc: 0.10 - ETA: 24:34 - loss: -14.6297 - acc: 0.10 - ETA: 24:33 - loss: -14.6369 - acc: 0.10 - ETA: 24:33 - loss: -14.6499 - acc: 0.10 - ETA: 24:32 - loss: -14.6582 - acc: 0.10 - ETA: 24:31 - loss: -14.6647 - acc: 0.10 - ETA: 24:31 - loss: -14.6771 - acc: 0.10 - ETA: 24:30 - loss: -14.6846 - acc: 0.10 - ETA: 24:29 - loss: -14.6929 - acc: 0.10 - ETA: 24:28 - loss: -14.7026 - acc: 0.10 - ETA: 24:28 - loss: -14.7085 - acc: 0.10 - ETA: 24:27 - loss: -14.7150 - acc: 0.10 - ETA: 24:26 - loss: -14.7253 - acc: 0.10 - ETA: 24:26 - loss: -14.7320 - acc: 0.10 - ETA: 24:25 - loss: -14.7477 - acc: 0.10 - ETA: 24:25 - loss: -14.7528 - acc: 0.10 - ETA: 24:24 - loss: -14.7620 - acc: 0.10 - ETA: 24:23 - loss: -14.7712 - acc: 0.10 - ETA: 24:22 - loss: -14.7853 - acc: 0.10 - ETA: 24:22 - loss: -14.7947 - acc: 0.10 - ETA: 24:21 - loss: -14.7982 - acc: 0.10 - ETA: 24:20 - loss: -14.8058 - acc: 0.10 - ETA: 24:19 - loss: -14.8101 - acc: 0.10 - ETA: 24:19 - loss: -14.8188 - acc: 0.10 - ETA: 24:18 - loss: -14.8286 - acc: 0.10 - ETA: 24:17 - loss: -14.8356 - acc: 0.10 - ETA: 24:17 - loss: -14.8464 - acc: 0.10 - ETA: 24:16 - loss: -14.8554 - acc: 0.10 - ETA: 24:15 - loss: -14.8590 - acc: 0.10 - ETA: 24:14 - loss: -14.8680 - acc: 0.10 - ETA: 24:14 - loss: -14.8802 - acc: 0.10 - ETA: 24:13 - loss: -14.8897 - acc: 0.10 - ETA: 24:12 - loss: -14.8974 - acc: 0.10 - ETA: 24:11 - loss: -14.9035 - acc: 0.10 - ETA: 24:11 - loss: -14.9105 - acc: 0.10 - ETA: 24:10 - loss: -14.9203 - acc: 0.10 - ETA: 24:09 - loss: -14.9298 - acc: 0.10 - ETA: 24:09 - loss: -14.9390 - acc: 0.10 - ETA: 24:08 - loss: -14.9385 - acc: 0.10 - ETA: 24:07 - loss: -14.9428 - acc: 0.10 - ETA: 24:06 - loss: -14.9493 - acc: 0.10 - ETA: 24:06 - loss: -14.9580 - acc: 0.10 - ETA: 24:05 - loss: -14.9639 - acc: 0.10 - ETA: 24:04 - loss: -14.9670 - acc: 0.10 - ETA: 24:04 - loss: -14.9721 - acc: 0.10 - ETA: 24:03 - loss: -14.9844 - acc: 0.10 - ETA: 24:02 - loss: -14.9960 - acc: 0.10 - ETA: 24:02 - loss: -15.0040 - acc: 0.10 - ETA: 24:01 - loss: -15.0132 - acc: 0.10 - ETA: 24:00 - loss: -15.0195 - acc: 0.10 - ETA: 23:59 - loss: -15.0219 - acc: 0.10 - ETA: 23:59 - loss: -15.0316 - acc: 0.10 - ETA: 23:58 - loss: -15.0388 - acc: 0.10 - ETA: 23:57 - loss: -15.0424 - acc: 0.10 - ETA: 23:57 - loss: -15.0502 - acc: 0.10 - ETA: 23:56 - loss: -15.0563 - acc: 0.1019"
     ]
    },
    {
     "name": "stdout",
     "output_type": "stream",
     "text": [
      "18624/94500 [====>.........................] - ETA: 23:55 - loss: -15.0642 - acc: 0.10 - ETA: 23:54 - loss: -15.0709 - acc: 0.10 - ETA: 23:54 - loss: -15.0798 - acc: 0.10 - ETA: 23:53 - loss: -15.0856 - acc: 0.10 - ETA: 23:52 - loss: -15.0924 - acc: 0.10 - ETA: 23:52 - loss: -15.0978 - acc: 0.10 - ETA: 23:51 - loss: -15.1025 - acc: 0.10 - ETA: 23:51 - loss: -15.1139 - acc: 0.10 - ETA: 23:50 - loss: -15.1223 - acc: 0.10 - ETA: 23:49 - loss: -15.1274 - acc: 0.10 - ETA: 23:49 - loss: -15.1351 - acc: 0.10 - ETA: 23:48 - loss: -15.1370 - acc: 0.10 - ETA: 23:47 - loss: -15.1441 - acc: 0.10 - ETA: 23:47 - loss: -15.1538 - acc: 0.10 - ETA: 23:46 - loss: -15.1608 - acc: 0.10 - ETA: 23:45 - loss: -15.1599 - acc: 0.10 - ETA: 23:45 - loss: -15.1697 - acc: 0.10 - ETA: 23:44 - loss: -15.1758 - acc: 0.10 - ETA: 23:43 - loss: -15.1811 - acc: 0.10 - ETA: 23:42 - loss: -15.1914 - acc: 0.10 - ETA: 23:42 - loss: -15.1993 - acc: 0.10 - ETA: 23:41 - loss: -15.2056 - acc: 0.10 - ETA: 23:40 - loss: -15.2095 - acc: 0.10 - ETA: 23:40 - loss: -15.2118 - acc: 0.10 - ETA: 23:39 - loss: -15.2186 - acc: 0.10 - ETA: 23:38 - loss: -15.2258 - acc: 0.10 - ETA: 23:37 - loss: -15.2323 - acc: 0.10 - ETA: 23:37 - loss: -15.2379 - acc: 0.10 - ETA: 23:36 - loss: -15.2424 - acc: 0.10 - ETA: 23:35 - loss: -15.2473 - acc: 0.10 - ETA: 23:35 - loss: -15.2518 - acc: 0.10 - ETA: 23:34 - loss: -15.2572 - acc: 0.10 - ETA: 23:33 - loss: -15.2614 - acc: 0.10 - ETA: 23:33 - loss: -15.2671 - acc: 0.10 - ETA: 23:32 - loss: -15.2690 - acc: 0.10 - ETA: 23:31 - loss: -15.2745 - acc: 0.10 - ETA: 23:31 - loss: -15.2779 - acc: 0.10 - ETA: 23:30 - loss: -15.2803 - acc: 0.10 - ETA: 23:29 - loss: -15.2856 - acc: 0.10 - ETA: 23:29 - loss: -15.2900 - acc: 0.10 - ETA: 23:28 - loss: -15.2947 - acc: 0.10 - ETA: 23:27 - loss: -15.2988 - acc: 0.10 - ETA: 23:27 - loss: -15.3019 - acc: 0.10 - ETA: 23:26 - loss: -15.3100 - acc: 0.10 - ETA: 23:26 - loss: -15.3094 - acc: 0.10 - ETA: 23:25 - loss: -15.3153 - acc: 0.10 - ETA: 23:25 - loss: -15.3215 - acc: 0.10 - ETA: 23:24 - loss: -15.3231 - acc: 0.10 - ETA: 23:23 - loss: -15.3284 - acc: 0.10 - ETA: 23:23 - loss: -15.3347 - acc: 0.10 - ETA: 23:22 - loss: -15.3369 - acc: 0.10 - ETA: 23:21 - loss: -15.3473 - acc: 0.10 - ETA: 23:21 - loss: -15.3472 - acc: 0.10 - ETA: 23:20 - loss: -15.3512 - acc: 0.10 - ETA: 23:19 - loss: -15.3594 - acc: 0.10 - ETA: 23:19 - loss: -15.3686 - acc: 0.10 - ETA: 23:18 - loss: -15.3752 - acc: 0.10 - ETA: 23:17 - loss: -15.3820 - acc: 0.10 - ETA: 23:17 - loss: -15.3862 - acc: 0.10 - ETA: 23:16 - loss: -15.3897 - acc: 0.10 - ETA: 23:15 - loss: -15.3908 - acc: 0.10 - ETA: 23:15 - loss: -15.3899 - acc: 0.10 - ETA: 23:14 - loss: -15.3908 - acc: 0.10 - ETA: 23:14 - loss: -15.3945 - acc: 0.10 - ETA: 23:13 - loss: -15.4006 - acc: 0.10 - ETA: 23:12 - loss: -15.4075 - acc: 0.10 - ETA: 23:12 - loss: -15.4141 - acc: 0.10 - ETA: 23:11 - loss: -15.4196 - acc: 0.10 - ETA: 23:10 - loss: -15.4265 - acc: 0.10 - ETA: 23:10 - loss: -15.4329 - acc: 0.10 - ETA: 23:09 - loss: -15.4395 - acc: 0.10 - ETA: 23:08 - loss: -15.4415 - acc: 0.10 - ETA: 23:08 - loss: -15.4490 - acc: 0.10 - ETA: 23:07 - loss: -15.4541 - acc: 0.10 - ETA: 23:06 - loss: -15.4616 - acc: 0.10 - ETA: 23:06 - loss: -15.4693 - acc: 0.10 - ETA: 23:05 - loss: -15.4717 - acc: 0.10 - ETA: 23:04 - loss: -15.4742 - acc: 0.10 - ETA: 23:04 - loss: -15.4772 - acc: 0.10 - ETA: 23:03 - loss: -15.4816 - acc: 0.10 - ETA: 23:03 - loss: -15.4863 - acc: 0.10 - ETA: 23:02 - loss: -15.4904 - acc: 0.10 - ETA: 23:01 - loss: -15.4880 - acc: 0.10 - ETA: 23:01 - loss: -15.4903 - acc: 0.10 - ETA: 23:00 - loss: -15.4954 - acc: 0.10 - ETA: 22:59 - loss: -15.5002 - acc: 0.10 - ETA: 22:59 - loss: -15.5055 - acc: 0.10 - ETA: 22:58 - loss: -15.5131 - acc: 0.10 - ETA: 22:57 - loss: -15.5149 - acc: 0.10 - ETA: 22:57 - loss: -15.5218 - acc: 0.10 - ETA: 22:56 - loss: -15.5280 - acc: 0.10 - ETA: 22:56 - loss: -15.5323 - acc: 0.10 - ETA: 22:55 - loss: -15.5400 - acc: 0.10 - ETA: 22:54 - loss: -15.5425 - acc: 0.10 - ETA: 22:54 - loss: -15.5457 - acc: 0.10 - ETA: 22:53 - loss: -15.5536 - acc: 0.10 - ETA: 22:52 - loss: -15.5623 - acc: 0.10 - ETA: 22:52 - loss: -15.5677 - acc: 0.10 - ETA: 22:51 - loss: -15.5730 - acc: 0.10 - ETA: 22:50 - loss: -15.5772 - acc: 0.10 - ETA: 22:50 - loss: -15.5819 - acc: 0.10 - ETA: 22:49 - loss: -15.5888 - acc: 0.10 - ETA: 22:49 - loss: -15.5935 - acc: 0.10 - ETA: 22:48 - loss: -15.5981 - acc: 0.10 - ETA: 22:47 - loss: -15.6009 - acc: 0.10 - ETA: 22:47 - loss: -15.6081 - acc: 0.10 - ETA: 22:46 - loss: -15.6130 - acc: 0.10 - ETA: 22:45 - loss: -15.6209 - acc: 0.10 - ETA: 22:45 - loss: -15.6268 - acc: 0.10 - ETA: 22:44 - loss: -15.6277 - acc: 0.10 - ETA: 22:43 - loss: -15.6344 - acc: 0.10 - ETA: 22:43 - loss: -15.6390 - acc: 0.10 - ETA: 22:42 - loss: -15.6441 - acc: 0.10 - ETA: 22:41 - loss: -15.6532 - acc: 0.10 - ETA: 22:41 - loss: -15.6564 - acc: 0.10 - ETA: 22:40 - loss: -15.6596 - acc: 0.10 - ETA: 22:39 - loss: -15.6628 - acc: 0.10 - ETA: 22:39 - loss: -15.6676 - acc: 0.10 - ETA: 22:38 - loss: -15.6733 - acc: 0.10 - ETA: 22:38 - loss: -15.6760 - acc: 0.10 - ETA: 22:37 - loss: -15.6852 - acc: 0.10 - ETA: 22:36 - loss: -15.6872 - acc: 0.10 - ETA: 22:36 - loss: -15.6900 - acc: 0.10 - ETA: 22:35 - loss: -15.6908 - acc: 0.10 - ETA: 22:35 - loss: -15.6922 - acc: 0.10 - ETA: 22:34 - loss: -15.6942 - acc: 0.10 - ETA: 22:33 - loss: -15.6979 - acc: 0.10 - ETA: 22:33 - loss: -15.7003 - acc: 0.10 - ETA: 22:32 - loss: -15.7036 - acc: 0.10 - ETA: 22:32 - loss: -15.7076 - acc: 0.10 - ETA: 22:31 - loss: -15.7137 - acc: 0.10 - ETA: 22:30 - loss: -15.7194 - acc: 0.10 - ETA: 22:30 - loss: -15.7227 - acc: 0.10 - ETA: 22:29 - loss: -15.7253 - acc: 0.10 - ETA: 22:29 - loss: -15.7287 - acc: 0.10 - ETA: 22:28 - loss: -15.7311 - acc: 0.10 - ETA: 22:28 - loss: -15.7381 - acc: 0.10 - ETA: 22:27 - loss: -15.7423 - acc: 0.10 - ETA: 22:26 - loss: -15.7469 - acc: 0.10 - ETA: 22:26 - loss: -15.7544 - acc: 0.10 - ETA: 22:25 - loss: -15.7597 - acc: 0.10 - ETA: 22:25 - loss: -15.7621 - acc: 0.10 - ETA: 22:24 - loss: -15.7675 - acc: 0.10 - ETA: 22:23 - loss: -15.7708 - acc: 0.10 - ETA: 22:23 - loss: -15.7781 - acc: 0.10 - ETA: 22:22 - loss: -15.7839 - acc: 0.10 - ETA: 22:21 - loss: -15.7851 - acc: 0.10 - ETA: 22:21 - loss: -15.7875 - acc: 0.10 - ETA: 22:20 - loss: -15.7933 - acc: 0.10 - ETA: 22:20 - loss: -15.7963 - acc: 0.10 - ETA: 22:19 - loss: -15.8001 - acc: 0.10 - ETA: 22:18 - loss: -15.8028 - acc: 0.10 - ETA: 22:18 - loss: -15.8042 - acc: 0.10 - ETA: 22:18 - loss: -15.8070 - acc: 0.10 - ETA: 22:18 - loss: -15.8103 - acc: 0.10 - ETA: 22:17 - loss: -15.8119 - acc: 0.10 - ETA: 22:17 - loss: -15.8178 - acc: 0.10 - ETA: 22:16 - loss: -15.8243 - acc: 0.10 - ETA: 22:16 - loss: -15.8278 - acc: 0.10 - ETA: 22:15 - loss: -15.8293 - acc: 0.10 - ETA: 22:15 - loss: -15.8322 - acc: 0.10 - ETA: 22:14 - loss: -15.8364 - acc: 0.10 - ETA: 22:14 - loss: -15.8390 - acc: 0.10 - ETA: 22:13 - loss: -15.8430 - acc: 0.10 - ETA: 22:12 - loss: -15.8478 - acc: 0.10 - ETA: 22:12 - loss: -15.8498 - acc: 0.10 - ETA: 22:11 - loss: -15.8539 - acc: 0.10 - ETA: 22:11 - loss: -15.8538 - acc: 0.10 - ETA: 22:10 - loss: -15.8565 - acc: 0.10 - ETA: 22:10 - loss: -15.8600 - acc: 0.10 - ETA: 22:09 - loss: -15.8620 - acc: 0.10 - ETA: 22:08 - loss: -15.8626 - acc: 0.10 - ETA: 22:08 - loss: -15.8645 - acc: 0.10 - ETA: 22:07 - loss: -15.8654 - acc: 0.10 - ETA: 22:06 - loss: -15.8661 - acc: 0.10 - ETA: 22:06 - loss: -15.8688 - acc: 0.10 - ETA: 22:05 - loss: -15.8744 - acc: 0.10 - ETA: 22:04 - loss: -15.8752 - acc: 0.10 - ETA: 22:04 - loss: -15.8781 - acc: 0.10 - ETA: 22:03 - loss: -15.8826 - acc: 0.10 - ETA: 22:02 - loss: -15.8810 - acc: 0.10 - ETA: 22:01 - loss: -15.8828 - acc: 0.10 - ETA: 22:01 - loss: -15.8870 - acc: 0.10 - ETA: 22:00 - loss: -15.8918 - acc: 0.10 - ETA: 22:00 - loss: -15.8914 - acc: 0.10 - ETA: 21:59 - loss: -15.8923 - acc: 0.10 - ETA: 21:59 - loss: -15.8965 - acc: 0.10 - ETA: 21:58 - loss: -15.8980 - acc: 0.10 - ETA: 21:57 - loss: -15.8976 - acc: 0.10 - ETA: 21:57 - loss: -15.8990 - acc: 0.10 - ETA: 21:56 - loss: -15.9003 - acc: 0.10 - ETA: 21:55 - loss: -15.9025 - acc: 0.10 - ETA: 21:54 - loss: -15.9067 - acc: 0.10 - ETA: 21:53 - loss: -15.9088 - acc: 0.1022"
     ]
    },
    {
     "name": "stdout",
     "output_type": "stream",
     "text": [
      "24832/94500 [======>.......................] - ETA: 21:53 - loss: -15.9115 - acc: 0.10 - ETA: 21:52 - loss: -15.9156 - acc: 0.10 - ETA: 21:51 - loss: -15.9199 - acc: 0.10 - ETA: 21:50 - loss: -15.9210 - acc: 0.10 - ETA: 21:50 - loss: -15.9248 - acc: 0.10 - ETA: 21:49 - loss: -15.9294 - acc: 0.10 - ETA: 21:48 - loss: -15.9312 - acc: 0.10 - ETA: 21:48 - loss: -15.9332 - acc: 0.10 - ETA: 21:47 - loss: -15.9353 - acc: 0.10 - ETA: 21:47 - loss: -15.9358 - acc: 0.10 - ETA: 21:46 - loss: -15.9347 - acc: 0.10 - ETA: 21:45 - loss: -15.9384 - acc: 0.10 - ETA: 21:45 - loss: -15.9426 - acc: 0.10 - ETA: 21:44 - loss: -15.9445 - acc: 0.10 - ETA: 21:43 - loss: -15.9482 - acc: 0.10 - ETA: 21:43 - loss: -15.9512 - acc: 0.10 - ETA: 21:42 - loss: -15.9549 - acc: 0.10 - ETA: 21:41 - loss: -15.9578 - acc: 0.10 - ETA: 21:41 - loss: -15.9618 - acc: 0.10 - ETA: 21:40 - loss: -15.9659 - acc: 0.10 - ETA: 21:40 - loss: -15.9714 - acc: 0.10 - ETA: 21:39 - loss: -15.9711 - acc: 0.10 - ETA: 21:38 - loss: -15.9741 - acc: 0.10 - ETA: 21:38 - loss: -15.9782 - acc: 0.10 - ETA: 21:37 - loss: -15.9769 - acc: 0.10 - ETA: 21:36 - loss: -15.9802 - acc: 0.10 - ETA: 21:35 - loss: -15.9826 - acc: 0.10 - ETA: 21:35 - loss: -15.9843 - acc: 0.10 - ETA: 21:34 - loss: -15.9875 - acc: 0.10 - ETA: 21:33 - loss: -15.9895 - acc: 0.10 - ETA: 21:33 - loss: -15.9906 - acc: 0.10 - ETA: 21:32 - loss: -15.9939 - acc: 0.10 - ETA: 21:31 - loss: -15.9962 - acc: 0.10 - ETA: 21:31 - loss: -16.0013 - acc: 0.10 - ETA: 21:30 - loss: -16.0054 - acc: 0.10 - ETA: 21:30 - loss: -16.0088 - acc: 0.10 - ETA: 21:29 - loss: -16.0136 - acc: 0.10 - ETA: 21:28 - loss: -16.0158 - acc: 0.10 - ETA: 21:28 - loss: -16.0192 - acc: 0.10 - ETA: 21:27 - loss: -16.0218 - acc: 0.10 - ETA: 21:26 - loss: -16.0247 - acc: 0.10 - ETA: 21:26 - loss: -16.0284 - acc: 0.10 - ETA: 21:25 - loss: -16.0284 - acc: 0.10 - ETA: 21:24 - loss: -16.0334 - acc: 0.10 - ETA: 21:24 - loss: -16.0340 - acc: 0.10 - ETA: 21:23 - loss: -16.0355 - acc: 0.10 - ETA: 21:22 - loss: -16.0375 - acc: 0.10 - ETA: 21:21 - loss: -16.0401 - acc: 0.10 - ETA: 21:21 - loss: -16.0453 - acc: 0.10 - ETA: 21:20 - loss: -16.0491 - acc: 0.10 - ETA: 21:19 - loss: -16.0512 - acc: 0.10 - ETA: 21:19 - loss: -16.0525 - acc: 0.10 - ETA: 21:18 - loss: -16.0549 - acc: 0.10 - ETA: 21:17 - loss: -16.0596 - acc: 0.10 - ETA: 21:17 - loss: -16.0631 - acc: 0.10 - ETA: 21:16 - loss: -16.0657 - acc: 0.10 - ETA: 21:15 - loss: -16.0666 - acc: 0.10 - ETA: 21:15 - loss: -16.0667 - acc: 0.10 - ETA: 21:14 - loss: -16.0679 - acc: 0.10 - ETA: 21:13 - loss: -16.0727 - acc: 0.10 - ETA: 21:13 - loss: -16.0770 - acc: 0.10 - ETA: 21:12 - loss: -16.0772 - acc: 0.10 - ETA: 21:11 - loss: -16.0809 - acc: 0.10 - ETA: 21:11 - loss: -16.0857 - acc: 0.10 - ETA: 21:10 - loss: -16.0895 - acc: 0.10 - ETA: 21:10 - loss: -16.0917 - acc: 0.10 - ETA: 21:09 - loss: -16.0946 - acc: 0.10 - ETA: 21:08 - loss: -16.0967 - acc: 0.10 - ETA: 21:08 - loss: -16.0985 - acc: 0.10 - ETA: 21:07 - loss: -16.1009 - acc: 0.10 - ETA: 21:07 - loss: -16.1020 - acc: 0.10 - ETA: 21:06 - loss: -16.1027 - acc: 0.10 - ETA: 21:05 - loss: -16.1031 - acc: 0.10 - ETA: 21:04 - loss: -16.1055 - acc: 0.10 - ETA: 21:04 - loss: -16.1113 - acc: 0.10 - ETA: 21:03 - loss: -16.1148 - acc: 0.10 - ETA: 21:02 - loss: -16.1181 - acc: 0.10 - ETA: 21:02 - loss: -16.1249 - acc: 0.10 - ETA: 21:01 - loss: -16.1259 - acc: 0.10 - ETA: 21:00 - loss: -16.1275 - acc: 0.10 - ETA: 20:59 - loss: -16.1294 - acc: 0.10 - ETA: 20:59 - loss: -16.1336 - acc: 0.10 - ETA: 20:58 - loss: -16.1351 - acc: 0.10 - ETA: 20:57 - loss: -16.1374 - acc: 0.10 - ETA: 20:57 - loss: -16.1374 - acc: 0.10 - ETA: 20:56 - loss: -16.1380 - acc: 0.10 - ETA: 20:55 - loss: -16.1417 - acc: 0.10 - ETA: 20:54 - loss: -16.1468 - acc: 0.10 - ETA: 20:54 - loss: -16.1490 - acc: 0.10 - ETA: 20:53 - loss: -16.1516 - acc: 0.10 - ETA: 20:52 - loss: -16.1566 - acc: 0.10 - ETA: 20:52 - loss: -16.1587 - acc: 0.10 - ETA: 20:51 - loss: -16.1631 - acc: 0.10 - ETA: 20:50 - loss: -16.1668 - acc: 0.10 - ETA: 20:49 - loss: -16.1690 - acc: 0.10 - ETA: 20:49 - loss: -16.1698 - acc: 0.10 - ETA: 20:48 - loss: -16.1716 - acc: 0.10 - ETA: 20:47 - loss: -16.1757 - acc: 0.10 - ETA: 20:47 - loss: -16.1768 - acc: 0.10 - ETA: 20:46 - loss: -16.1773 - acc: 0.10 - ETA: 20:46 - loss: -16.1794 - acc: 0.10 - ETA: 20:45 - loss: -16.1825 - acc: 0.10 - ETA: 20:45 - loss: -16.1800 - acc: 0.10 - ETA: 20:44 - loss: -16.1800 - acc: 0.10 - ETA: 20:44 - loss: -16.1827 - acc: 0.10 - ETA: 20:43 - loss: -16.1847 - acc: 0.10 - ETA: 20:42 - loss: -16.1867 - acc: 0.10 - ETA: 20:42 - loss: -16.1898 - acc: 0.10 - ETA: 20:41 - loss: -16.1915 - acc: 0.10 - ETA: 20:40 - loss: -16.1914 - acc: 0.10 - ETA: 20:40 - loss: -16.1930 - acc: 0.10 - ETA: 20:39 - loss: -16.1912 - acc: 0.10 - ETA: 20:39 - loss: -16.1918 - acc: 0.10 - ETA: 20:38 - loss: -16.1942 - acc: 0.10 - ETA: 20:37 - loss: -16.1957 - acc: 0.10 - ETA: 20:37 - loss: -16.1967 - acc: 0.10 - ETA: 20:36 - loss: -16.2000 - acc: 0.10 - ETA: 20:36 - loss: -16.2018 - acc: 0.10 - ETA: 20:35 - loss: -16.2045 - acc: 0.10 - ETA: 20:35 - loss: -16.2075 - acc: 0.10 - ETA: 20:35 - loss: -16.2081 - acc: 0.10 - ETA: 20:34 - loss: -16.2105 - acc: 0.10 - ETA: 20:34 - loss: -16.2118 - acc: 0.10 - ETA: 20:34 - loss: -16.2105 - acc: 0.10 - ETA: 20:34 - loss: -16.2117 - acc: 0.10 - ETA: 20:34 - loss: -16.2149 - acc: 0.10 - ETA: 20:34 - loss: -16.2166 - acc: 0.10 - ETA: 20:34 - loss: -16.2172 - acc: 0.10 - ETA: 20:34 - loss: -16.2196 - acc: 0.10 - ETA: 20:33 - loss: -16.2223 - acc: 0.10 - ETA: 20:33 - loss: -16.2242 - acc: 0.10 - ETA: 20:33 - loss: -16.2282 - acc: 0.10 - ETA: 20:33 - loss: -16.2294 - acc: 0.10 - ETA: 20:33 - loss: -16.2325 - acc: 0.10 - ETA: 20:33 - loss: -16.2336 - acc: 0.10 - ETA: 20:34 - loss: -16.2364 - acc: 0.10 - ETA: 20:34 - loss: -16.2396 - acc: 0.10 - ETA: 20:34 - loss: -16.2437 - acc: 0.10 - ETA: 20:33 - loss: -16.2473 - acc: 0.10 - ETA: 20:33 - loss: -16.2500 - acc: 0.10 - ETA: 20:32 - loss: -16.2505 - acc: 0.10 - ETA: 20:32 - loss: -16.2509 - acc: 0.10 - ETA: 20:31 - loss: -16.2523 - acc: 0.10 - ETA: 20:31 - loss: -16.2552 - acc: 0.10 - ETA: 20:30 - loss: -16.2565 - acc: 0.10 - ETA: 20:30 - loss: -16.2551 - acc: 0.10 - ETA: 20:29 - loss: -16.2566 - acc: 0.10 - ETA: 20:29 - loss: -16.2589 - acc: 0.10 - ETA: 20:28 - loss: -16.2609 - acc: 0.10 - ETA: 20:28 - loss: -16.2629 - acc: 0.10 - ETA: 20:27 - loss: -16.2643 - acc: 0.10 - ETA: 20:26 - loss: -16.2634 - acc: 0.10 - ETA: 20:26 - loss: -16.2650 - acc: 0.10 - ETA: 20:25 - loss: -16.2655 - acc: 0.10 - ETA: 20:24 - loss: -16.2688 - acc: 0.10 - ETA: 20:24 - loss: -16.2685 - acc: 0.10 - ETA: 20:23 - loss: -16.2700 - acc: 0.10 - ETA: 20:23 - loss: -16.2708 - acc: 0.10 - ETA: 20:22 - loss: -16.2708 - acc: 0.10 - ETA: 20:22 - loss: -16.2747 - acc: 0.10 - ETA: 20:21 - loss: -16.2760 - acc: 0.10 - ETA: 20:20 - loss: -16.2760 - acc: 0.10 - ETA: 20:20 - loss: -16.2784 - acc: 0.10 - ETA: 20:19 - loss: -16.2796 - acc: 0.10 - ETA: 20:19 - loss: -16.2805 - acc: 0.10 - ETA: 20:18 - loss: -16.2829 - acc: 0.10 - ETA: 20:18 - loss: -16.2865 - acc: 0.10 - ETA: 20:17 - loss: -16.2868 - acc: 0.10 - ETA: 20:17 - loss: -16.2912 - acc: 0.10 - ETA: 20:16 - loss: -16.2940 - acc: 0.10 - ETA: 20:15 - loss: -16.2933 - acc: 0.10 - ETA: 20:15 - loss: -16.2943 - acc: 0.10 - ETA: 20:14 - loss: -16.2950 - acc: 0.10 - ETA: 20:13 - loss: -16.2975 - acc: 0.10 - ETA: 20:13 - loss: -16.3023 - acc: 0.10 - ETA: 20:12 - loss: -16.3038 - acc: 0.10 - ETA: 20:11 - loss: -16.3054 - acc: 0.10 - ETA: 20:11 - loss: -16.3076 - acc: 0.10 - ETA: 20:10 - loss: -16.3097 - acc: 0.10 - ETA: 20:10 - loss: -16.3102 - acc: 0.10 - ETA: 20:09 - loss: -16.3144 - acc: 0.10 - ETA: 20:09 - loss: -16.3158 - acc: 0.10 - ETA: 20:08 - loss: -16.3154 - acc: 0.10 - ETA: 20:08 - loss: -16.3162 - acc: 0.10 - ETA: 20:07 - loss: -16.3196 - acc: 0.10 - ETA: 20:07 - loss: -16.3207 - acc: 0.10 - ETA: 20:07 - loss: -16.3254 - acc: 0.10 - ETA: 20:06 - loss: -16.3278 - acc: 0.10 - ETA: 20:06 - loss: -16.3317 - acc: 0.10 - ETA: 20:06 - loss: -16.3340 - acc: 0.10 - ETA: 20:05 - loss: -16.3363 - acc: 0.10 - ETA: 20:04 - loss: -16.3378 - acc: 0.10 - ETA: 20:04 - loss: -16.3401 - acc: 0.10 - ETA: 20:03 - loss: -16.3391 - acc: 0.1022"
     ]
    },
    {
     "name": "stdout",
     "output_type": "stream",
     "text": [
      "31040/94500 [========>.....................] - ETA: 20:03 - loss: -16.3405 - acc: 0.10 - ETA: 20:03 - loss: -16.3424 - acc: 0.10 - ETA: 20:02 - loss: -16.3461 - acc: 0.10 - ETA: 20:02 - loss: -16.3475 - acc: 0.10 - ETA: 20:01 - loss: -16.3501 - acc: 0.10 - ETA: 20:01 - loss: -16.3484 - acc: 0.10 - ETA: 20:00 - loss: -16.3504 - acc: 0.10 - ETA: 19:59 - loss: -16.3512 - acc: 0.10 - ETA: 19:59 - loss: -16.3538 - acc: 0.10 - ETA: 19:58 - loss: -16.3564 - acc: 0.10 - ETA: 19:58 - loss: -16.3583 - acc: 0.10 - ETA: 19:57 - loss: -16.3591 - acc: 0.10 - ETA: 19:57 - loss: -16.3596 - acc: 0.10 - ETA: 19:56 - loss: -16.3606 - acc: 0.10 - ETA: 19:55 - loss: -16.3614 - acc: 0.10 - ETA: 19:55 - loss: -16.3630 - acc: 0.10 - ETA: 19:55 - loss: -16.3646 - acc: 0.10 - ETA: 19:55 - loss: -16.3673 - acc: 0.10 - ETA: 19:54 - loss: -16.3677 - acc: 0.10 - ETA: 19:54 - loss: -16.3697 - acc: 0.10 - ETA: 19:54 - loss: -16.3705 - acc: 0.10 - ETA: 19:54 - loss: -16.3705 - acc: 0.10 - ETA: 19:54 - loss: -16.3709 - acc: 0.10 - ETA: 19:54 - loss: -16.3751 - acc: 0.10 - ETA: 19:54 - loss: -16.3752 - acc: 0.10 - ETA: 19:53 - loss: -16.3762 - acc: 0.10 - ETA: 19:53 - loss: -16.3785 - acc: 0.10 - ETA: 19:53 - loss: -16.3798 - acc: 0.10 - ETA: 19:53 - loss: -16.3804 - acc: 0.10 - ETA: 19:52 - loss: -16.3790 - acc: 0.10 - ETA: 19:52 - loss: -16.3813 - acc: 0.10 - ETA: 19:51 - loss: -16.3814 - acc: 0.10 - ETA: 19:50 - loss: -16.3824 - acc: 0.10 - ETA: 19:50 - loss: -16.3841 - acc: 0.10 - ETA: 19:49 - loss: -16.3849 - acc: 0.10 - ETA: 19:48 - loss: -16.3862 - acc: 0.10 - ETA: 19:48 - loss: -16.3904 - acc: 0.10 - ETA: 19:47 - loss: -16.3919 - acc: 0.10 - ETA: 19:47 - loss: -16.3921 - acc: 0.10 - ETA: 19:46 - loss: -16.3955 - acc: 0.10 - ETA: 19:46 - loss: -16.3982 - acc: 0.10 - ETA: 19:45 - loss: -16.4005 - acc: 0.10 - ETA: 19:45 - loss: -16.4026 - acc: 0.10 - ETA: 19:44 - loss: -16.4039 - acc: 0.10 - ETA: 19:43 - loss: -16.4052 - acc: 0.10 - ETA: 19:43 - loss: -16.4075 - acc: 0.10 - ETA: 19:42 - loss: -16.4068 - acc: 0.10 - ETA: 19:42 - loss: -16.4069 - acc: 0.10 - ETA: 19:41 - loss: -16.4067 - acc: 0.10 - ETA: 19:40 - loss: -16.4064 - acc: 0.10 - ETA: 19:40 - loss: -16.4071 - acc: 0.10 - ETA: 19:39 - loss: -16.4091 - acc: 0.10 - ETA: 19:39 - loss: -16.4116 - acc: 0.10 - ETA: 19:38 - loss: -16.4146 - acc: 0.10 - ETA: 19:38 - loss: -16.4168 - acc: 0.10 - ETA: 19:37 - loss: -16.4204 - acc: 0.10 - ETA: 19:37 - loss: -16.4218 - acc: 0.10 - ETA: 19:36 - loss: -16.4242 - acc: 0.10 - ETA: 19:35 - loss: -16.4267 - acc: 0.10 - ETA: 19:35 - loss: -16.4284 - acc: 0.10 - ETA: 19:34 - loss: -16.4310 - acc: 0.10 - ETA: 19:34 - loss: -16.4317 - acc: 0.10 - ETA: 19:34 - loss: -16.4338 - acc: 0.10 - ETA: 19:33 - loss: -16.4363 - acc: 0.10 - ETA: 19:33 - loss: -16.4381 - acc: 0.10 - ETA: 19:32 - loss: -16.4388 - acc: 0.10 - ETA: 19:32 - loss: -16.4406 - acc: 0.10 - ETA: 19:31 - loss: -16.4414 - acc: 0.10 - ETA: 19:31 - loss: -16.4435 - acc: 0.10 - ETA: 19:30 - loss: -16.4452 - acc: 0.10 - ETA: 19:30 - loss: -16.4473 - acc: 0.10 - ETA: 19:29 - loss: -16.4484 - acc: 0.10 - ETA: 19:28 - loss: -16.4492 - acc: 0.10 - ETA: 19:28 - loss: -16.4504 - acc: 0.10 - ETA: 19:27 - loss: -16.4510 - acc: 0.10 - ETA: 19:26 - loss: -16.4520 - acc: 0.10 - ETA: 19:26 - loss: -16.4544 - acc: 0.10 - ETA: 19:25 - loss: -16.4560 - acc: 0.10 - ETA: 19:25 - loss: -16.4556 - acc: 0.10 - ETA: 19:24 - loss: -16.4568 - acc: 0.10 - ETA: 19:23 - loss: -16.4572 - acc: 0.10 - ETA: 19:23 - loss: -16.4589 - acc: 0.10 - ETA: 19:22 - loss: -16.4609 - acc: 0.10 - ETA: 19:21 - loss: -16.4636 - acc: 0.10 - ETA: 19:21 - loss: -16.4639 - acc: 0.10 - ETA: 19:20 - loss: -16.4633 - acc: 0.10 - ETA: 19:19 - loss: -16.4640 - acc: 0.10 - ETA: 19:19 - loss: -16.4659 - acc: 0.10 - ETA: 19:18 - loss: -16.4699 - acc: 0.10 - ETA: 19:18 - loss: -16.4713 - acc: 0.10 - ETA: 19:17 - loss: -16.4737 - acc: 0.10 - ETA: 19:17 - loss: -16.4755 - acc: 0.10 - ETA: 19:16 - loss: -16.4759 - acc: 0.10 - ETA: 19:16 - loss: -16.4785 - acc: 0.10 - ETA: 19:15 - loss: -16.4765 - acc: 0.10 - ETA: 19:15 - loss: -16.4793 - acc: 0.10 - ETA: 19:14 - loss: -16.4799 - acc: 0.10 - ETA: 19:14 - loss: -16.4818 - acc: 0.10 - ETA: 19:13 - loss: -16.4824 - acc: 0.10 - ETA: 19:13 - loss: -16.4838 - acc: 0.10 - ETA: 19:12 - loss: -16.4844 - acc: 0.10 - ETA: 19:12 - loss: -16.4839 - acc: 0.10 - ETA: 19:12 - loss: -16.4837 - acc: 0.10 - ETA: 19:12 - loss: -16.4839 - acc: 0.10 - ETA: 19:11 - loss: -16.4842 - acc: 0.10 - ETA: 19:11 - loss: -16.4853 - acc: 0.10 - ETA: 19:11 - loss: -16.4861 - acc: 0.10 - ETA: 19:11 - loss: -16.4860 - acc: 0.10 - ETA: 19:11 - loss: -16.4858 - acc: 0.10 - ETA: 19:10 - loss: -16.4873 - acc: 0.10 - ETA: 19:10 - loss: -16.4875 - acc: 0.10 - ETA: 19:10 - loss: -16.4886 - acc: 0.10 - ETA: 19:10 - loss: -16.4906 - acc: 0.10 - ETA: 19:10 - loss: -16.4910 - acc: 0.10 - ETA: 19:09 - loss: -16.4925 - acc: 0.10 - ETA: 19:08 - loss: -16.4935 - acc: 0.10 - ETA: 19:08 - loss: -16.4934 - acc: 0.10 - ETA: 19:07 - loss: -16.4954 - acc: 0.10 - ETA: 19:07 - loss: -16.4970 - acc: 0.10 - ETA: 19:06 - loss: -16.4997 - acc: 0.10 - ETA: 19:06 - loss: -16.5025 - acc: 0.10 - ETA: 19:05 - loss: -16.5023 - acc: 0.10 - ETA: 19:05 - loss: -16.5046 - acc: 0.10 - ETA: 19:05 - loss: -16.5055 - acc: 0.10 - ETA: 19:04 - loss: -16.5057 - acc: 0.10 - ETA: 19:03 - loss: -16.5087 - acc: 0.10 - ETA: 19:03 - loss: -16.5104 - acc: 0.10 - ETA: 19:02 - loss: -16.5106 - acc: 0.10 - ETA: 19:02 - loss: -16.5119 - acc: 0.10 - ETA: 19:01 - loss: -16.5115 - acc: 0.10 - ETA: 19:01 - loss: -16.5124 - acc: 0.10 - ETA: 19:00 - loss: -16.5134 - acc: 0.10 - ETA: 19:00 - loss: -16.5151 - acc: 0.10 - ETA: 18:59 - loss: -16.5137 - acc: 0.10 - ETA: 18:58 - loss: -16.5154 - acc: 0.10 - ETA: 18:58 - loss: -16.5188 - acc: 0.10 - ETA: 18:57 - loss: -16.5204 - acc: 0.10 - ETA: 18:57 - loss: -16.5215 - acc: 0.10 - ETA: 18:56 - loss: -16.5221 - acc: 0.10 - ETA: 18:55 - loss: -16.5219 - acc: 0.10 - ETA: 18:55 - loss: -16.5237 - acc: 0.10 - ETA: 18:54 - loss: -16.5248 - acc: 0.10 - ETA: 18:54 - loss: -16.5261 - acc: 0.10 - ETA: 18:53 - loss: -16.5263 - acc: 0.10 - ETA: 18:52 - loss: -16.5267 - acc: 0.10 - ETA: 18:52 - loss: -16.5300 - acc: 0.10 - ETA: 18:51 - loss: -16.5324 - acc: 0.10 - ETA: 18:50 - loss: -16.5350 - acc: 0.10 - ETA: 18:50 - loss: -16.5371 - acc: 0.10 - ETA: 18:49 - loss: -16.5386 - acc: 0.10 - ETA: 18:48 - loss: -16.5401 - acc: 0.10 - ETA: 18:48 - loss: -16.5417 - acc: 0.10 - ETA: 18:47 - loss: -16.5434 - acc: 0.10 - ETA: 18:47 - loss: -16.5451 - acc: 0.10 - ETA: 18:46 - loss: -16.5474 - acc: 0.10 - ETA: 18:45 - loss: -16.5492 - acc: 0.10 - ETA: 18:45 - loss: -16.5497 - acc: 0.10 - ETA: 18:44 - loss: -16.5508 - acc: 0.10 - ETA: 18:43 - loss: -16.5525 - acc: 0.10 - ETA: 18:43 - loss: -16.5526 - acc: 0.10 - ETA: 18:42 - loss: -16.5548 - acc: 0.10 - ETA: 18:42 - loss: -16.5554 - acc: 0.10 - ETA: 18:41 - loss: -16.5553 - acc: 0.10 - ETA: 18:40 - loss: -16.5555 - acc: 0.10 - ETA: 18:40 - loss: -16.5592 - acc: 0.10 - ETA: 18:39 - loss: -16.5595 - acc: 0.10 - ETA: 18:39 - loss: -16.5609 - acc: 0.10 - ETA: 18:38 - loss: -16.5646 - acc: 0.10 - ETA: 18:38 - loss: -16.5645 - acc: 0.10 - ETA: 18:37 - loss: -16.5638 - acc: 0.10 - ETA: 18:37 - loss: -16.5637 - acc: 0.10 - ETA: 18:36 - loss: -16.5639 - acc: 0.10 - ETA: 18:36 - loss: -16.5655 - acc: 0.10 - ETA: 18:35 - loss: -16.5658 - acc: 0.10 - ETA: 18:34 - loss: -16.5660 - acc: 0.10 - ETA: 18:34 - loss: -16.5677 - acc: 0.10 - ETA: 18:33 - loss: -16.5692 - acc: 0.10 - ETA: 18:32 - loss: -16.5693 - acc: 0.10 - ETA: 18:32 - loss: -16.5709 - acc: 0.10 - ETA: 18:31 - loss: -16.5694 - acc: 0.10 - ETA: 18:31 - loss: -16.5707 - acc: 0.10 - ETA: 18:30 - loss: -16.5718 - acc: 0.10 - ETA: 18:30 - loss: -16.5724 - acc: 0.10 - ETA: 18:29 - loss: -16.5737 - acc: 0.10 - ETA: 18:29 - loss: -16.5755 - acc: 0.10 - ETA: 18:28 - loss: -16.5779 - acc: 0.10 - ETA: 18:28 - loss: -16.5781 - acc: 0.10 - ETA: 18:27 - loss: -16.5783 - acc: 0.10 - ETA: 18:27 - loss: -16.5811 - acc: 0.10 - ETA: 18:26 - loss: -16.5842 - acc: 0.10 - ETA: 18:26 - loss: -16.5851 - acc: 0.10 - ETA: 18:25 - loss: -16.5864 - acc: 0.10 - ETA: 18:25 - loss: -16.5862 - acc: 0.10 - ETA: 18:25 - loss: -16.5846 - acc: 0.1019"
     ]
    },
    {
     "name": "stdout",
     "output_type": "stream",
     "text": [
      "37248/94500 [==========>...................] - ETA: 18:24 - loss: -16.5867 - acc: 0.10 - ETA: 18:23 - loss: -16.5880 - acc: 0.10 - ETA: 18:23 - loss: -16.5896 - acc: 0.10 - ETA: 18:23 - loss: -16.5916 - acc: 0.10 - ETA: 18:22 - loss: -16.5894 - acc: 0.10 - ETA: 18:22 - loss: -16.5914 - acc: 0.10 - ETA: 18:21 - loss: -16.5911 - acc: 0.10 - ETA: 18:21 - loss: -16.5929 - acc: 0.10 - ETA: 18:21 - loss: -16.5953 - acc: 0.10 - ETA: 18:20 - loss: -16.5971 - acc: 0.10 - ETA: 18:20 - loss: -16.5986 - acc: 0.10 - ETA: 18:20 - loss: -16.6005 - acc: 0.10 - ETA: 18:19 - loss: -16.6024 - acc: 0.10 - ETA: 18:19 - loss: -16.6038 - acc: 0.10 - ETA: 18:19 - loss: -16.6055 - acc: 0.10 - ETA: 18:19 - loss: -16.6051 - acc: 0.10 - ETA: 18:18 - loss: -16.6065 - acc: 0.10 - ETA: 18:18 - loss: -16.6068 - acc: 0.10 - ETA: 18:17 - loss: -16.6080 - acc: 0.10 - ETA: 18:16 - loss: -16.6090 - acc: 0.10 - ETA: 18:16 - loss: -16.6118 - acc: 0.10 - ETA: 18:15 - loss: -16.6130 - acc: 0.10 - ETA: 18:14 - loss: -16.6131 - acc: 0.10 - ETA: 18:14 - loss: -16.6138 - acc: 0.10 - ETA: 18:13 - loss: -16.6142 - acc: 0.10 - ETA: 18:12 - loss: -16.6159 - acc: 0.10 - ETA: 18:12 - loss: -16.6179 - acc: 0.10 - ETA: 18:11 - loss: -16.6198 - acc: 0.10 - ETA: 18:10 - loss: -16.6198 - acc: 0.10 - ETA: 18:10 - loss: -16.6208 - acc: 0.10 - ETA: 18:09 - loss: -16.6221 - acc: 0.10 - ETA: 18:08 - loss: -16.6238 - acc: 0.10 - ETA: 18:08 - loss: -16.6246 - acc: 0.10 - ETA: 18:07 - loss: -16.6268 - acc: 0.10 - ETA: 18:06 - loss: -16.6269 - acc: 0.10 - ETA: 18:06 - loss: -16.6276 - acc: 0.10 - ETA: 18:05 - loss: -16.6285 - acc: 0.10 - ETA: 18:04 - loss: -16.6295 - acc: 0.10 - ETA: 18:04 - loss: -16.6288 - acc: 0.10 - ETA: 18:03 - loss: -16.6307 - acc: 0.10 - ETA: 18:02 - loss: -16.6305 - acc: 0.10 - ETA: 18:02 - loss: -16.6319 - acc: 0.10 - ETA: 18:01 - loss: -16.6334 - acc: 0.10 - ETA: 18:00 - loss: -16.6323 - acc: 0.10 - ETA: 18:00 - loss: -16.6328 - acc: 0.10 - ETA: 17:59 - loss: -16.6340 - acc: 0.10 - ETA: 17:58 - loss: -16.6353 - acc: 0.10 - ETA: 17:58 - loss: -16.6345 - acc: 0.10 - ETA: 17:57 - loss: -16.6338 - acc: 0.10 - ETA: 17:56 - loss: -16.6332 - acc: 0.10 - ETA: 17:56 - loss: -16.6350 - acc: 0.10 - ETA: 17:55 - loss: -16.6354 - acc: 0.10 - ETA: 17:54 - loss: -16.6360 - acc: 0.10 - ETA: 17:54 - loss: -16.6371 - acc: 0.10 - ETA: 17:53 - loss: -16.6369 - acc: 0.10 - ETA: 17:52 - loss: -16.6401 - acc: 0.10 - ETA: 17:52 - loss: -16.6405 - acc: 0.10 - ETA: 17:51 - loss: -16.6435 - acc: 0.10 - ETA: 17:50 - loss: -16.6448 - acc: 0.10 - ETA: 17:50 - loss: -16.6438 - acc: 0.10 - ETA: 17:49 - loss: -16.6454 - acc: 0.10 - ETA: 17:49 - loss: -16.6465 - acc: 0.10 - ETA: 17:48 - loss: -16.6481 - acc: 0.10 - ETA: 17:47 - loss: -16.6507 - acc: 0.10 - ETA: 17:47 - loss: -16.6532 - acc: 0.10 - ETA: 17:46 - loss: -16.6529 - acc: 0.10 - ETA: 17:46 - loss: -16.6538 - acc: 0.10 - ETA: 17:45 - loss: -16.6566 - acc: 0.10 - ETA: 17:45 - loss: -16.6575 - acc: 0.10 - ETA: 17:44 - loss: -16.6595 - acc: 0.10 - ETA: 17:43 - loss: -16.6607 - acc: 0.10 - ETA: 17:43 - loss: -16.6615 - acc: 0.10 - ETA: 17:42 - loss: -16.6627 - acc: 0.10 - ETA: 17:42 - loss: -16.6634 - acc: 0.10 - ETA: 17:41 - loss: -16.6646 - acc: 0.10 - ETA: 17:41 - loss: -16.6657 - acc: 0.10 - ETA: 17:40 - loss: -16.6679 - acc: 0.10 - ETA: 17:40 - loss: -16.6685 - acc: 0.10 - ETA: 17:39 - loss: -16.6688 - acc: 0.10 - ETA: 17:38 - loss: -16.6721 - acc: 0.10 - ETA: 17:38 - loss: -16.6732 - acc: 0.10 - ETA: 17:37 - loss: -16.6733 - acc: 0.10 - ETA: 17:36 - loss: -16.6745 - acc: 0.10 - ETA: 17:36 - loss: -16.6767 - acc: 0.10 - ETA: 17:35 - loss: -16.6784 - acc: 0.10 - ETA: 17:34 - loss: -16.6794 - acc: 0.10 - ETA: 17:34 - loss: -16.6804 - acc: 0.10 - ETA: 17:33 - loss: -16.6821 - acc: 0.10 - ETA: 17:33 - loss: -16.6833 - acc: 0.10 - ETA: 17:32 - loss: -16.6833 - acc: 0.10 - ETA: 17:31 - loss: -16.6852 - acc: 0.10 - ETA: 17:31 - loss: -16.6863 - acc: 0.10 - ETA: 17:30 - loss: -16.6871 - acc: 0.10 - ETA: 17:29 - loss: -16.6876 - acc: 0.10 - ETA: 17:29 - loss: -16.6874 - acc: 0.10 - ETA: 17:28 - loss: -16.6889 - acc: 0.10 - ETA: 17:28 - loss: -16.6901 - acc: 0.10 - ETA: 17:27 - loss: -16.6917 - acc: 0.10 - ETA: 17:26 - loss: -16.6904 - acc: 0.10 - ETA: 17:26 - loss: -16.6905 - acc: 0.10 - ETA: 17:25 - loss: -16.6920 - acc: 0.10 - ETA: 17:25 - loss: -16.6929 - acc: 0.10 - ETA: 17:24 - loss: -16.6943 - acc: 0.10 - ETA: 17:23 - loss: -16.6963 - acc: 0.10 - ETA: 17:23 - loss: -16.6970 - acc: 0.10 - ETA: 17:22 - loss: -16.7000 - acc: 0.10 - ETA: 17:22 - loss: -16.7027 - acc: 0.10 - ETA: 17:21 - loss: -16.7031 - acc: 0.10 - ETA: 17:20 - loss: -16.7032 - acc: 0.10 - ETA: 17:20 - loss: -16.7049 - acc: 0.10 - ETA: 17:19 - loss: -16.7061 - acc: 0.10 - ETA: 17:19 - loss: -16.7071 - acc: 0.10 - ETA: 17:18 - loss: -16.7082 - acc: 0.10 - ETA: 17:18 - loss: -16.7098 - acc: 0.10 - ETA: 17:18 - loss: -16.7105 - acc: 0.10 - ETA: 17:17 - loss: -16.7121 - acc: 0.10 - ETA: 17:16 - loss: -16.7136 - acc: 0.10 - ETA: 17:16 - loss: -16.7160 - acc: 0.10 - ETA: 17:15 - loss: -16.7170 - acc: 0.10 - ETA: 17:15 - loss: -16.7185 - acc: 0.10 - ETA: 17:14 - loss: -16.7204 - acc: 0.10 - ETA: 17:13 - loss: -16.7215 - acc: 0.10 - ETA: 17:13 - loss: -16.7230 - acc: 0.10 - ETA: 17:13 - loss: -16.7258 - acc: 0.10 - ETA: 17:12 - loss: -16.7273 - acc: 0.10 - ETA: 17:12 - loss: -16.7263 - acc: 0.10 - ETA: 17:12 - loss: -16.7256 - acc: 0.10 - ETA: 17:12 - loss: -16.7276 - acc: 0.10 - ETA: 17:12 - loss: -16.7284 - acc: 0.10 - ETA: 17:12 - loss: -16.7294 - acc: 0.10 - ETA: 17:12 - loss: -16.7300 - acc: 0.10 - ETA: 17:12 - loss: -16.7288 - acc: 0.10 - ETA: 17:11 - loss: -16.7290 - acc: 0.10 - ETA: 17:11 - loss: -16.7283 - acc: 0.10 - ETA: 17:10 - loss: -16.7268 - acc: 0.10 - ETA: 17:10 - loss: -16.7280 - acc: 0.10 - ETA: 17:09 - loss: -16.7288 - acc: 0.10 - ETA: 17:08 - loss: -16.7287 - acc: 0.10 - ETA: 17:08 - loss: -16.7300 - acc: 0.10 - ETA: 17:07 - loss: -16.7327 - acc: 0.10 - ETA: 17:07 - loss: -16.7333 - acc: 0.10 - ETA: 17:06 - loss: -16.7355 - acc: 0.10 - ETA: 17:05 - loss: -16.7347 - acc: 0.10 - ETA: 17:05 - loss: -16.7353 - acc: 0.10 - ETA: 17:04 - loss: -16.7347 - acc: 0.10 - ETA: 17:03 - loss: -16.7351 - acc: 0.10 - ETA: 17:03 - loss: -16.7358 - acc: 0.10 - ETA: 17:02 - loss: -16.7373 - acc: 0.10 - ETA: 17:02 - loss: -16.7362 - acc: 0.10 - ETA: 17:01 - loss: -16.7369 - acc: 0.10 - ETA: 17:00 - loss: -16.7376 - acc: 0.10 - ETA: 17:00 - loss: -16.7382 - acc: 0.10 - ETA: 16:59 - loss: -16.7380 - acc: 0.10 - ETA: 16:59 - loss: -16.7381 - acc: 0.10 - ETA: 16:58 - loss: -16.7384 - acc: 0.10 - ETA: 16:58 - loss: -16.7403 - acc: 0.10 - ETA: 16:57 - loss: -16.7392 - acc: 0.10 - ETA: 16:56 - loss: -16.7396 - acc: 0.10 - ETA: 16:56 - loss: -16.7401 - acc: 0.10 - ETA: 16:55 - loss: -16.7413 - acc: 0.10 - ETA: 16:55 - loss: -16.7430 - acc: 0.10 - ETA: 16:54 - loss: -16.7431 - acc: 0.10 - ETA: 16:53 - loss: -16.7451 - acc: 0.10 - ETA: 16:53 - loss: -16.7456 - acc: 0.10 - ETA: 16:52 - loss: -16.7461 - acc: 0.10 - ETA: 16:52 - loss: -16.7468 - acc: 0.10 - ETA: 16:51 - loss: -16.7482 - acc: 0.10 - ETA: 16:51 - loss: -16.7497 - acc: 0.10 - ETA: 16:50 - loss: -16.7514 - acc: 0.10 - ETA: 16:50 - loss: -16.7517 - acc: 0.10 - ETA: 16:49 - loss: -16.7505 - acc: 0.10 - ETA: 16:49 - loss: -16.7526 - acc: 0.10 - ETA: 16:48 - loss: -16.7523 - acc: 0.10 - ETA: 16:48 - loss: -16.7523 - acc: 0.10 - ETA: 16:47 - loss: -16.7536 - acc: 0.10 - ETA: 16:47 - loss: -16.7542 - acc: 0.10 - ETA: 16:46 - loss: -16.7543 - acc: 0.10 - ETA: 16:46 - loss: -16.7549 - acc: 0.10 - ETA: 16:45 - loss: -16.7567 - acc: 0.10 - ETA: 16:44 - loss: -16.7584 - acc: 0.10 - ETA: 16:44 - loss: -16.7592 - acc: 0.10 - ETA: 16:43 - loss: -16.7607 - acc: 0.10 - ETA: 16:43 - loss: -16.7619 - acc: 0.10 - ETA: 16:42 - loss: -16.7623 - acc: 0.10 - ETA: 16:42 - loss: -16.7644 - acc: 0.10 - ETA: 16:41 - loss: -16.7640 - acc: 0.10 - ETA: 16:41 - loss: -16.7648 - acc: 0.10 - ETA: 16:40 - loss: -16.7630 - acc: 0.10 - ETA: 16:40 - loss: -16.7630 - acc: 0.10 - ETA: 16:39 - loss: -16.7640 - acc: 0.10 - ETA: 16:39 - loss: -16.7636 - acc: 0.10 - ETA: 16:38 - loss: -16.7646 - acc: 0.10 - ETA: 16:38 - loss: -16.7671 - acc: 0.10 - ETA: 16:37 - loss: -16.7676 - acc: 0.1019"
     ]
    },
    {
     "name": "stdout",
     "output_type": "stream",
     "text": [
      "43456/94500 [============>.................] - ETA: 16:37 - loss: -16.7660 - acc: 0.10 - ETA: 16:37 - loss: -16.7677 - acc: 0.10 - ETA: 16:36 - loss: -16.7684 - acc: 0.10 - ETA: 16:36 - loss: -16.7687 - acc: 0.10 - ETA: 16:36 - loss: -16.7696 - acc: 0.10 - ETA: 16:35 - loss: -16.7696 - acc: 0.10 - ETA: 16:35 - loss: -16.7703 - acc: 0.10 - ETA: 16:35 - loss: -16.7718 - acc: 0.10 - ETA: 16:34 - loss: -16.7725 - acc: 0.10 - ETA: 16:34 - loss: -16.7728 - acc: 0.10 - ETA: 16:34 - loss: -16.7726 - acc: 0.10 - ETA: 16:33 - loss: -16.7729 - acc: 0.10 - ETA: 16:33 - loss: -16.7739 - acc: 0.10 - ETA: 16:33 - loss: -16.7756 - acc: 0.10 - ETA: 16:32 - loss: -16.7768 - acc: 0.10 - ETA: 16:32 - loss: -16.7780 - acc: 0.10 - ETA: 16:31 - loss: -16.7787 - acc: 0.10 - ETA: 16:30 - loss: -16.7780 - acc: 0.10 - ETA: 16:30 - loss: -16.7779 - acc: 0.10 - ETA: 16:29 - loss: -16.7780 - acc: 0.10 - ETA: 16:29 - loss: -16.7782 - acc: 0.10 - ETA: 16:28 - loss: -16.7781 - acc: 0.10 - ETA: 16:28 - loss: -16.7794 - acc: 0.10 - ETA: 16:27 - loss: -16.7800 - acc: 0.10 - ETA: 16:27 - loss: -16.7820 - acc: 0.10 - ETA: 16:26 - loss: -16.7838 - acc: 0.10 - ETA: 16:25 - loss: -16.7838 - acc: 0.10 - ETA: 16:25 - loss: -16.7846 - acc: 0.10 - ETA: 16:25 - loss: -16.7857 - acc: 0.10 - ETA: 16:24 - loss: -16.7867 - acc: 0.10 - ETA: 16:24 - loss: -16.7859 - acc: 0.10 - ETA: 16:23 - loss: -16.7869 - acc: 0.10 - ETA: 16:23 - loss: -16.7864 - acc: 0.10 - ETA: 16:22 - loss: -16.7868 - acc: 0.10 - ETA: 16:22 - loss: -16.7858 - acc: 0.10 - ETA: 16:21 - loss: -16.7860 - acc: 0.10 - ETA: 16:21 - loss: -16.7857 - acc: 0.10 - ETA: 16:20 - loss: -16.7858 - acc: 0.10 - ETA: 16:20 - loss: -16.7866 - acc: 0.10 - ETA: 16:19 - loss: -16.7860 - acc: 0.10 - ETA: 16:19 - loss: -16.7864 - acc: 0.10 - ETA: 16:18 - loss: -16.7876 - acc: 0.10 - ETA: 16:18 - loss: -16.7877 - acc: 0.10 - ETA: 16:17 - loss: -16.7886 - acc: 0.10 - ETA: 16:17 - loss: -16.7875 - acc: 0.10 - ETA: 16:16 - loss: -16.7901 - acc: 0.10 - ETA: 16:16 - loss: -16.7905 - acc: 0.10 - ETA: 16:15 - loss: -16.7911 - acc: 0.10 - ETA: 16:14 - loss: -16.7905 - acc: 0.10 - ETA: 16:14 - loss: -16.7901 - acc: 0.10 - ETA: 16:13 - loss: -16.7908 - acc: 0.10 - ETA: 16:13 - loss: -16.7913 - acc: 0.10 - ETA: 16:13 - loss: -16.7927 - acc: 0.10 - ETA: 16:12 - loss: -16.7935 - acc: 0.10 - ETA: 16:11 - loss: -16.7936 - acc: 0.10 - ETA: 16:11 - loss: -16.7953 - acc: 0.10 - ETA: 16:10 - loss: -16.7967 - acc: 0.10 - ETA: 16:10 - loss: -16.7969 - acc: 0.10 - ETA: 16:09 - loss: -16.7977 - acc: 0.10 - ETA: 16:09 - loss: -16.7979 - acc: 0.10 - ETA: 16:08 - loss: -16.7977 - acc: 0.10 - ETA: 16:07 - loss: -16.7993 - acc: 0.10 - ETA: 16:07 - loss: -16.8012 - acc: 0.10 - ETA: 16:06 - loss: -16.8008 - acc: 0.10 - ETA: 16:06 - loss: -16.7998 - acc: 0.10 - ETA: 16:05 - loss: -16.8006 - acc: 0.10 - ETA: 16:04 - loss: -16.8012 - acc: 0.10 - ETA: 16:04 - loss: -16.8025 - acc: 0.10 - ETA: 16:03 - loss: -16.8036 - acc: 0.10 - ETA: 16:03 - loss: -16.8052 - acc: 0.10 - ETA: 16:02 - loss: -16.8083 - acc: 0.10 - ETA: 16:01 - loss: -16.8103 - acc: 0.10 - ETA: 16:01 - loss: -16.8124 - acc: 0.10 - ETA: 16:00 - loss: -16.8131 - acc: 0.10 - ETA: 16:00 - loss: -16.8135 - acc: 0.10 - ETA: 15:59 - loss: -16.8140 - acc: 0.10 - ETA: 15:59 - loss: -16.8141 - acc: 0.10 - ETA: 15:58 - loss: -16.8135 - acc: 0.10 - ETA: 15:58 - loss: -16.8146 - acc: 0.10 - ETA: 15:57 - loss: -16.8153 - acc: 0.10 - ETA: 15:57 - loss: -16.8167 - acc: 0.10 - ETA: 15:56 - loss: -16.8180 - acc: 0.10 - ETA: 15:56 - loss: -16.8187 - acc: 0.10 - ETA: 15:55 - loss: -16.8189 - acc: 0.10 - ETA: 15:55 - loss: -16.8204 - acc: 0.10 - ETA: 15:55 - loss: -16.8210 - acc: 0.10 - ETA: 15:54 - loss: -16.8209 - acc: 0.10 - ETA: 15:54 - loss: -16.8212 - acc: 0.10 - ETA: 15:53 - loss: -16.8210 - acc: 0.10 - ETA: 15:53 - loss: -16.8215 - acc: 0.10 - ETA: 15:52 - loss: -16.8218 - acc: 0.10 - ETA: 15:52 - loss: -16.8227 - acc: 0.10 - ETA: 15:51 - loss: -16.8221 - acc: 0.10 - ETA: 15:51 - loss: -16.8229 - acc: 0.10 - ETA: 15:50 - loss: -16.8228 - acc: 0.10 - ETA: 15:50 - loss: -16.8229 - acc: 0.10 - ETA: 15:49 - loss: -16.8235 - acc: 0.10 - ETA: 15:49 - loss: -16.8228 - acc: 0.10 - ETA: 15:48 - loss: -16.8236 - acc: 0.10 - ETA: 15:47 - loss: -16.8247 - acc: 0.10 - ETA: 15:47 - loss: -16.8260 - acc: 0.10 - ETA: 15:46 - loss: -16.8266 - acc: 0.10 - ETA: 15:46 - loss: -16.8267 - acc: 0.10 - ETA: 15:45 - loss: -16.8274 - acc: 0.10 - ETA: 15:45 - loss: -16.8286 - acc: 0.10 - ETA: 15:45 - loss: -16.8278 - acc: 0.10 - ETA: 15:45 - loss: -16.8302 - acc: 0.10 - ETA: 15:45 - loss: -16.8304 - acc: 0.10 - ETA: 15:44 - loss: -16.8305 - acc: 0.10 - ETA: 15:44 - loss: -16.8303 - acc: 0.10 - ETA: 15:44 - loss: -16.8305 - acc: 0.10 - ETA: 15:44 - loss: -16.8315 - acc: 0.10 - ETA: 15:44 - loss: -16.8319 - acc: 0.10 - ETA: 15:43 - loss: -16.8329 - acc: 0.10 - ETA: 15:43 - loss: -16.8333 - acc: 0.10 - ETA: 15:43 - loss: -16.8330 - acc: 0.10 - ETA: 15:42 - loss: -16.8341 - acc: 0.10 - ETA: 15:42 - loss: -16.8348 - acc: 0.10 - ETA: 15:41 - loss: -16.8356 - acc: 0.10 - ETA: 15:41 - loss: -16.8365 - acc: 0.10 - ETA: 15:40 - loss: -16.8378 - acc: 0.10 - ETA: 15:40 - loss: -16.8384 - acc: 0.10 - ETA: 15:39 - loss: -16.8397 - acc: 0.10 - ETA: 15:38 - loss: -16.8398 - acc: 0.10 - ETA: 15:38 - loss: -16.8400 - acc: 0.10 - ETA: 15:37 - loss: -16.8418 - acc: 0.10 - ETA: 15:36 - loss: -16.8429 - acc: 0.10 - ETA: 15:36 - loss: -16.8432 - acc: 0.10 - ETA: 15:35 - loss: -16.8440 - acc: 0.10 - ETA: 15:35 - loss: -16.8436 - acc: 0.10 - ETA: 15:34 - loss: -16.8429 - acc: 0.10 - ETA: 15:33 - loss: -16.8422 - acc: 0.10 - ETA: 15:33 - loss: -16.8413 - acc: 0.10 - ETA: 15:32 - loss: -16.8427 - acc: 0.10 - ETA: 15:31 - loss: -16.8436 - acc: 0.10 - ETA: 15:31 - loss: -16.8445 - acc: 0.10 - ETA: 15:30 - loss: -16.8450 - acc: 0.10 - ETA: 15:29 - loss: -16.8448 - acc: 0.10 - ETA: 15:29 - loss: -16.8465 - acc: 0.10 - ETA: 15:28 - loss: -16.8468 - acc: 0.10 - ETA: 15:28 - loss: -16.8461 - acc: 0.10 - ETA: 15:27 - loss: -16.8475 - acc: 0.10 - ETA: 15:27 - loss: -16.8492 - acc: 0.10 - ETA: 15:26 - loss: -16.8511 - acc: 0.10 - ETA: 15:25 - loss: -16.8519 - acc: 0.10 - ETA: 15:25 - loss: -16.8524 - acc: 0.10 - ETA: 15:24 - loss: -16.8522 - acc: 0.10 - ETA: 15:24 - loss: -16.8524 - acc: 0.10 - ETA: 15:23 - loss: -16.8530 - acc: 0.10 - ETA: 15:22 - loss: -16.8547 - acc: 0.10 - ETA: 15:22 - loss: -16.8544 - acc: 0.10 - ETA: 15:21 - loss: -16.8565 - acc: 0.10 - ETA: 15:21 - loss: -16.8568 - acc: 0.10 - ETA: 15:20 - loss: -16.8570 - acc: 0.10 - ETA: 15:19 - loss: -16.8576 - acc: 0.10 - ETA: 15:19 - loss: -16.8578 - acc: 0.10 - ETA: 15:18 - loss: -16.8592 - acc: 0.10 - ETA: 15:18 - loss: -16.8585 - acc: 0.10 - ETA: 15:17 - loss: -16.8591 - acc: 0.10 - ETA: 15:16 - loss: -16.8606 - acc: 0.10 - ETA: 15:16 - loss: -16.8610 - acc: 0.10 - ETA: 15:15 - loss: -16.8624 - acc: 0.10 - ETA: 15:15 - loss: -16.8617 - acc: 0.10 - ETA: 15:14 - loss: -16.8627 - acc: 0.10 - ETA: 15:14 - loss: -16.8637 - acc: 0.10 - ETA: 15:13 - loss: -16.8632 - acc: 0.10 - ETA: 15:13 - loss: -16.8634 - acc: 0.10 - ETA: 15:12 - loss: -16.8629 - acc: 0.10 - ETA: 15:12 - loss: -16.8639 - acc: 0.10 - ETA: 15:12 - loss: -16.8641 - acc: 0.10 - ETA: 15:11 - loss: -16.8656 - acc: 0.10 - ETA: 15:11 - loss: -16.8668 - acc: 0.10 - ETA: 15:11 - loss: -16.8667 - acc: 0.10 - ETA: 15:10 - loss: -16.8661 - acc: 0.10 - ETA: 15:10 - loss: -16.8665 - acc: 0.10 - ETA: 15:09 - loss: -16.8686 - acc: 0.10 - ETA: 15:09 - loss: -16.8688 - acc: 0.10 - ETA: 15:08 - loss: -16.8695 - acc: 0.10 - ETA: 15:08 - loss: -16.8704 - acc: 0.10 - ETA: 15:07 - loss: -16.8715 - acc: 0.10 - ETA: 15:06 - loss: -16.8724 - acc: 0.10 - ETA: 15:06 - loss: -16.8736 - acc: 0.10 - ETA: 15:05 - loss: -16.8744 - acc: 0.10 - ETA: 15:04 - loss: -16.8739 - acc: 0.10 - ETA: 15:04 - loss: -16.8745 - acc: 0.10 - ETA: 15:03 - loss: -16.8750 - acc: 0.10 - ETA: 15:03 - loss: -16.8733 - acc: 0.10 - ETA: 15:02 - loss: -16.8747 - acc: 0.10 - ETA: 15:02 - loss: -16.8751 - acc: 0.10 - ETA: 15:01 - loss: -16.8760 - acc: 0.10 - ETA: 15:00 - loss: -16.8775 - acc: 0.10 - ETA: 15:00 - loss: -16.8780 - acc: 0.10 - ETA: 14:59 - loss: -16.8798 - acc: 0.10 - ETA: 14:59 - loss: -16.8795 - acc: 0.1016"
     ]
    },
    {
     "name": "stdout",
     "output_type": "stream",
     "text": [
      "45952/94500 [=============>................] - ETA: 14:58 - loss: -16.8793 - acc: 0.10 - ETA: 14:57 - loss: -16.8801 - acc: 0.10 - ETA: 14:57 - loss: -16.8818 - acc: 0.10 - ETA: 14:56 - loss: -16.8817 - acc: 0.10 - ETA: 14:56 - loss: -16.8832 - acc: 0.10 - ETA: 14:55 - loss: -16.8836 - acc: 0.10 - ETA: 14:54 - loss: -16.8843 - acc: 0.10 - ETA: 14:54 - loss: -16.8859 - acc: 0.10 - ETA: 14:53 - loss: -16.8865 - acc: 0.10 - ETA: 14:53 - loss: -16.8886 - acc: 0.10 - ETA: 14:52 - loss: -16.8889 - acc: 0.10 - ETA: 14:51 - loss: -16.8887 - acc: 0.10 - ETA: 14:51 - loss: -16.8902 - acc: 0.10 - ETA: 14:50 - loss: -16.8914 - acc: 0.10 - ETA: 14:50 - loss: -16.8927 - acc: 0.10 - ETA: 14:49 - loss: -16.8939 - acc: 0.10 - ETA: 14:48 - loss: -16.8930 - acc: 0.10 - ETA: 14:48 - loss: -16.8940 - acc: 0.10 - ETA: 14:47 - loss: -16.8950 - acc: 0.10 - ETA: 14:46 - loss: -16.8942 - acc: 0.10 - ETA: 14:46 - loss: -16.8941 - acc: 0.10 - ETA: 14:45 - loss: -16.8954 - acc: 0.10 - ETA: 14:45 - loss: -16.8959 - acc: 0.10 - ETA: 14:44 - loss: -16.8962 - acc: 0.10 - ETA: 14:44 - loss: -16.8983 - acc: 0.10 - ETA: 14:43 - loss: -16.8984 - acc: 0.10 - ETA: 14:42 - loss: -16.8996 - acc: 0.10 - ETA: 14:42 - loss: -16.8996 - acc: 0.10 - ETA: 14:41 - loss: -16.9008 - acc: 0.10 - ETA: 14:41 - loss: -16.9012 - acc: 0.10 - ETA: 14:40 - loss: -16.9018 - acc: 0.10 - ETA: 14:40 - loss: -16.9028 - acc: 0.10 - ETA: 14:39 - loss: -16.9045 - acc: 0.10 - ETA: 14:38 - loss: -16.9057 - acc: 0.10 - ETA: 14:38 - loss: -16.9067 - acc: 0.10 - ETA: 14:37 - loss: -16.9068 - acc: 0.10 - ETA: 14:37 - loss: -16.9066 - acc: 0.10 - ETA: 14:36 - loss: -16.9067 - acc: 0.10 - ETA: 14:35 - loss: -16.9074 - acc: 0.10 - ETA: 14:35 - loss: -16.9083 - acc: 0.10 - ETA: 14:34 - loss: -16.9075 - acc: 0.10 - ETA: 14:33 - loss: -16.9089 - acc: 0.10 - ETA: 14:33 - loss: -16.9088 - acc: 0.10 - ETA: 14:32 - loss: -16.9084 - acc: 0.10 - ETA: 14:32 - loss: -16.9093 - acc: 0.10 - ETA: 14:31 - loss: -16.9101 - acc: 0.10 - ETA: 14:30 - loss: -16.9091 - acc: 0.10 - ETA: 14:30 - loss: -16.9103 - acc: 0.10 - ETA: 14:29 - loss: -16.9112 - acc: 0.10 - ETA: 14:29 - loss: -16.9099 - acc: 0.10 - ETA: 14:28 - loss: -16.9107 - acc: 0.10 - ETA: 14:27 - loss: -16.9107 - acc: 0.10 - ETA: 14:27 - loss: -16.9094 - acc: 0.10 - ETA: 14:26 - loss: -16.9103 - acc: 0.10 - ETA: 14:25 - loss: -16.9125 - acc: 0.10 - ETA: 14:25 - loss: -16.9137 - acc: 0.10 - ETA: 14:24 - loss: -16.9135 - acc: 0.10 - ETA: 14:24 - loss: -16.9142 - acc: 0.10 - ETA: 14:23 - loss: -16.9135 - acc: 0.10 - ETA: 14:22 - loss: -16.9158 - acc: 0.10 - ETA: 14:22 - loss: -16.9165 - acc: 0.10 - ETA: 14:21 - loss: -16.9185 - acc: 0.10 - ETA: 14:21 - loss: -16.9192 - acc: 0.10 - ETA: 14:20 - loss: -16.9188 - acc: 0.10 - ETA: 14:20 - loss: -16.9192 - acc: 0.10 - ETA: 14:19 - loss: -16.9199 - acc: 0.10 - ETA: 14:19 - loss: -16.9200 - acc: 0.10 - ETA: 14:18 - loss: -16.9195 - acc: 0.10 - ETA: 14:17 - loss: -16.9208 - acc: 0.10 - ETA: 14:17 - loss: -16.9217 - acc: 0.10 - ETA: 14:16 - loss: -16.9218 - acc: 0.10 - ETA: 14:16 - loss: -16.9215 - acc: 0.10 - ETA: 14:15 - loss: -16.9215 - acc: 0.10 - ETA: 14:15 - loss: -16.9222 - acc: 0.10 - ETA: 14:14 - loss: -16.9220 - acc: 0.10 - ETA: 14:13 - loss: -16.9231 - acc: 0.10 - ETA: 14:13 - loss: -16.9229 - acc: 0.10 - ETA: 14:12 - loss: -16.9241 - acc: 0.1015"
     ]
    },
    {
     "ename": "KeyboardInterrupt",
     "evalue": "",
     "output_type": "error",
     "traceback": [
      "\u001b[1;31m---------------------------------------------------------------------------\u001b[0m",
      "\u001b[1;31mKeyboardInterrupt\u001b[0m                         Traceback (most recent call last)",
      "\u001b[1;32m<ipython-input-76-7a695314f7d5>\u001b[0m in \u001b[0;36m<module>\u001b[1;34m()\u001b[0m\n\u001b[0;32m      1\u001b[0m \u001b[0mbatch_size\u001b[0m \u001b[1;33m=\u001b[0m \u001b[1;36m32\u001b[0m\u001b[1;33m\u001b[0m\u001b[0m\n\u001b[0;32m      2\u001b[0m \u001b[0mepochs\u001b[0m \u001b[1;33m=\u001b[0m \u001b[1;36m2\u001b[0m\u001b[1;33m\u001b[0m\u001b[0m\n\u001b[1;32m----> 3\u001b[1;33m \u001b[0mmodel\u001b[0m\u001b[1;33m.\u001b[0m\u001b[0mfit\u001b[0m\u001b[1;33m(\u001b[0m\u001b[0mX\u001b[0m\u001b[1;33m,\u001b[0m\u001b[0mY\u001b[0m\u001b[1;33m,\u001b[0m \u001b[0mbatch_size\u001b[0m\u001b[1;33m=\u001b[0m\u001b[0mbatch_size\u001b[0m\u001b[1;33m,\u001b[0m \u001b[0mepochs\u001b[0m\u001b[1;33m=\u001b[0m\u001b[0mepochs\u001b[0m\u001b[1;33m,\u001b[0m \u001b[0mvalidation_split\u001b[0m\u001b[1;33m=\u001b[0m\u001b[1;36m0.1\u001b[0m\u001b[1;33m)\u001b[0m\u001b[1;33m\u001b[0m\u001b[0m\n\u001b[0m",
      "\u001b[1;32mD:\\ProgramFiles\\Anaconda\\envs\\tensorflow_env\\lib\\site-packages\\keras\\engine\\training.py\u001b[0m in \u001b[0;36mfit\u001b[1;34m(self, x, y, batch_size, epochs, verbose, callbacks, validation_split, validation_data, shuffle, class_weight, sample_weight, initial_epoch, steps_per_epoch, validation_steps, **kwargs)\u001b[0m\n\u001b[0;32m   1035\u001b[0m                                         \u001b[0minitial_epoch\u001b[0m\u001b[1;33m=\u001b[0m\u001b[0minitial_epoch\u001b[0m\u001b[1;33m,\u001b[0m\u001b[1;33m\u001b[0m\u001b[0m\n\u001b[0;32m   1036\u001b[0m                                         \u001b[0msteps_per_epoch\u001b[0m\u001b[1;33m=\u001b[0m\u001b[0msteps_per_epoch\u001b[0m\u001b[1;33m,\u001b[0m\u001b[1;33m\u001b[0m\u001b[0m\n\u001b[1;32m-> 1037\u001b[1;33m                                         validation_steps=validation_steps)\n\u001b[0m\u001b[0;32m   1038\u001b[0m \u001b[1;33m\u001b[0m\u001b[0m\n\u001b[0;32m   1039\u001b[0m     def evaluate(self, x=None, y=None,\n",
      "\u001b[1;32mD:\\ProgramFiles\\Anaconda\\envs\\tensorflow_env\\lib\\site-packages\\keras\\engine\\training_arrays.py\u001b[0m in \u001b[0;36mfit_loop\u001b[1;34m(model, f, ins, out_labels, batch_size, epochs, verbose, callbacks, val_f, val_ins, shuffle, callback_metrics, initial_epoch, steps_per_epoch, validation_steps)\u001b[0m\n\u001b[0;32m    197\u001b[0m                     \u001b[0mins_batch\u001b[0m\u001b[1;33m[\u001b[0m\u001b[0mi\u001b[0m\u001b[1;33m]\u001b[0m \u001b[1;33m=\u001b[0m \u001b[0mins_batch\u001b[0m\u001b[1;33m[\u001b[0m\u001b[0mi\u001b[0m\u001b[1;33m]\u001b[0m\u001b[1;33m.\u001b[0m\u001b[0mtoarray\u001b[0m\u001b[1;33m(\u001b[0m\u001b[1;33m)\u001b[0m\u001b[1;33m\u001b[0m\u001b[0m\n\u001b[0;32m    198\u001b[0m \u001b[1;33m\u001b[0m\u001b[0m\n\u001b[1;32m--> 199\u001b[1;33m                 \u001b[0mouts\u001b[0m \u001b[1;33m=\u001b[0m \u001b[0mf\u001b[0m\u001b[1;33m(\u001b[0m\u001b[0mins_batch\u001b[0m\u001b[1;33m)\u001b[0m\u001b[1;33m\u001b[0m\u001b[0m\n\u001b[0m\u001b[0;32m    200\u001b[0m                 \u001b[0mouts\u001b[0m \u001b[1;33m=\u001b[0m \u001b[0mto_list\u001b[0m\u001b[1;33m(\u001b[0m\u001b[0mouts\u001b[0m\u001b[1;33m)\u001b[0m\u001b[1;33m\u001b[0m\u001b[0m\n\u001b[0;32m    201\u001b[0m                 \u001b[1;32mfor\u001b[0m \u001b[0ml\u001b[0m\u001b[1;33m,\u001b[0m \u001b[0mo\u001b[0m \u001b[1;32min\u001b[0m \u001b[0mzip\u001b[0m\u001b[1;33m(\u001b[0m\u001b[0mout_labels\u001b[0m\u001b[1;33m,\u001b[0m \u001b[0mouts\u001b[0m\u001b[1;33m)\u001b[0m\u001b[1;33m:\u001b[0m\u001b[1;33m\u001b[0m\u001b[0m\n",
      "\u001b[1;32mD:\\ProgramFiles\\Anaconda\\envs\\tensorflow_env\\lib\\site-packages\\keras\\backend\\tensorflow_backend.py\u001b[0m in \u001b[0;36m__call__\u001b[1;34m(self, inputs)\u001b[0m\n\u001b[0;32m   2664\u001b[0m                 \u001b[1;32mreturn\u001b[0m \u001b[0mself\u001b[0m\u001b[1;33m.\u001b[0m\u001b[0m_legacy_call\u001b[0m\u001b[1;33m(\u001b[0m\u001b[0minputs\u001b[0m\u001b[1;33m)\u001b[0m\u001b[1;33m\u001b[0m\u001b[0m\n\u001b[0;32m   2665\u001b[0m \u001b[1;33m\u001b[0m\u001b[0m\n\u001b[1;32m-> 2666\u001b[1;33m             \u001b[1;32mreturn\u001b[0m \u001b[0mself\u001b[0m\u001b[1;33m.\u001b[0m\u001b[0m_call\u001b[0m\u001b[1;33m(\u001b[0m\u001b[0minputs\u001b[0m\u001b[1;33m)\u001b[0m\u001b[1;33m\u001b[0m\u001b[0m\n\u001b[0m\u001b[0;32m   2667\u001b[0m         \u001b[1;32melse\u001b[0m\u001b[1;33m:\u001b[0m\u001b[1;33m\u001b[0m\u001b[0m\n\u001b[0;32m   2668\u001b[0m             \u001b[1;32mif\u001b[0m \u001b[0mpy_any\u001b[0m\u001b[1;33m(\u001b[0m\u001b[0mis_tensor\u001b[0m\u001b[1;33m(\u001b[0m\u001b[0mx\u001b[0m\u001b[1;33m)\u001b[0m \u001b[1;32mfor\u001b[0m \u001b[0mx\u001b[0m \u001b[1;32min\u001b[0m \u001b[0minputs\u001b[0m\u001b[1;33m)\u001b[0m\u001b[1;33m:\u001b[0m\u001b[1;33m\u001b[0m\u001b[0m\n",
      "\u001b[1;32mD:\\ProgramFiles\\Anaconda\\envs\\tensorflow_env\\lib\\site-packages\\keras\\backend\\tensorflow_backend.py\u001b[0m in \u001b[0;36m_call\u001b[1;34m(self, inputs)\u001b[0m\n\u001b[0;32m   2634\u001b[0m                                 \u001b[0msymbol_vals\u001b[0m\u001b[1;33m,\u001b[0m\u001b[1;33m\u001b[0m\u001b[0m\n\u001b[0;32m   2635\u001b[0m                                 session)\n\u001b[1;32m-> 2636\u001b[1;33m         \u001b[0mfetched\u001b[0m \u001b[1;33m=\u001b[0m \u001b[0mself\u001b[0m\u001b[1;33m.\u001b[0m\u001b[0m_callable_fn\u001b[0m\u001b[1;33m(\u001b[0m\u001b[1;33m*\u001b[0m\u001b[0marray_vals\u001b[0m\u001b[1;33m)\u001b[0m\u001b[1;33m\u001b[0m\u001b[0m\n\u001b[0m\u001b[0;32m   2637\u001b[0m         \u001b[1;32mreturn\u001b[0m \u001b[0mfetched\u001b[0m\u001b[1;33m[\u001b[0m\u001b[1;33m:\u001b[0m\u001b[0mlen\u001b[0m\u001b[1;33m(\u001b[0m\u001b[0mself\u001b[0m\u001b[1;33m.\u001b[0m\u001b[0moutputs\u001b[0m\u001b[1;33m)\u001b[0m\u001b[1;33m]\u001b[0m\u001b[1;33m\u001b[0m\u001b[0m\n\u001b[0;32m   2638\u001b[0m \u001b[1;33m\u001b[0m\u001b[0m\n",
      "\u001b[1;32mD:\\ProgramFiles\\Anaconda\\envs\\tensorflow_env\\lib\\site-packages\\tensorflow\\python\\client\\session.py\u001b[0m in \u001b[0;36m__call__\u001b[1;34m(self, *args, **kwargs)\u001b[0m\n\u001b[0;32m   1380\u001b[0m           ret = tf_session.TF_SessionRunCallable(\n\u001b[0;32m   1381\u001b[0m               \u001b[0mself\u001b[0m\u001b[1;33m.\u001b[0m\u001b[0m_session\u001b[0m\u001b[1;33m.\u001b[0m\u001b[0m_session\u001b[0m\u001b[1;33m,\u001b[0m \u001b[0mself\u001b[0m\u001b[1;33m.\u001b[0m\u001b[0m_handle\u001b[0m\u001b[1;33m,\u001b[0m \u001b[0margs\u001b[0m\u001b[1;33m,\u001b[0m \u001b[0mstatus\u001b[0m\u001b[1;33m,\u001b[0m\u001b[1;33m\u001b[0m\u001b[0m\n\u001b[1;32m-> 1382\u001b[1;33m               run_metadata_ptr)\n\u001b[0m\u001b[0;32m   1383\u001b[0m         \u001b[1;32mif\u001b[0m \u001b[0mrun_metadata\u001b[0m\u001b[1;33m:\u001b[0m\u001b[1;33m\u001b[0m\u001b[0m\n\u001b[0;32m   1384\u001b[0m           \u001b[0mproto_data\u001b[0m \u001b[1;33m=\u001b[0m \u001b[0mtf_session\u001b[0m\u001b[1;33m.\u001b[0m\u001b[0mTF_GetBuffer\u001b[0m\u001b[1;33m(\u001b[0m\u001b[0mrun_metadata_ptr\u001b[0m\u001b[1;33m)\u001b[0m\u001b[1;33m\u001b[0m\u001b[0m\n",
      "\u001b[1;31mKeyboardInterrupt\u001b[0m: "
     ]
    }
   ],
   "source": [
    "batch_size = 32\n",
    "epochs = 2\n",
    "model.fit(X,Y, batch_size=batch_size, epochs=epochs, validation_split=0.1)"
   ]
  },
  {
   "cell_type": "code",
   "execution_count": null,
   "metadata": {
    "collapsed": true
   },
   "outputs": [],
   "source": []
  }
 ],
 "metadata": {
  "kernelspec": {
   "display_name": "Python 3",
   "language": "python",
   "name": "python3"
  },
  "language_info": {
   "codemirror_mode": {
    "name": "ipython",
    "version": 3
   },
   "file_extension": ".py",
   "mimetype": "text/x-python",
   "name": "python",
   "nbconvert_exporter": "python",
   "pygments_lexer": "ipython3",
   "version": "3.5.6"
  }
 },
 "nbformat": 4,
 "nbformat_minor": 2
}
