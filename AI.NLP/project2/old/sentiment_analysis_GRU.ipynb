{
 "cells": [
  {
   "cell_type": "code",
   "execution_count": 1,
   "metadata": {},
   "outputs": [
    {
     "name": "stderr",
     "output_type": "stream",
     "text": [
      "Using TensorFlow backend.\n"
     ]
    }
   ],
   "source": [
    "# This Python 3 environment comes with many helpful analytics libraries installed\n",
    "# It is defined by the kaggle/python docker image: https://github.com/kaggle/docker-python\n",
    "# For example, here's several helpful packages to load in \n",
    "\n",
    "import numpy as np # linear algebra\n",
    "import pandas as pd # data processing, CSV file I/O (e.g. pd.read_csv)\n",
    "\n",
    "# Input data files are available in the \"../input/\" directory.\n",
    "# For example, running this (by clicking run or pressing Shift+Enter) will list the files in the input directory\n",
    "\n",
    "import os\n",
    "from keras.layers import Dense,Input,LSTM,Bidirectional,Activation,Conv1D,GRU\n",
    "from keras.callbacks import Callback\n",
    "from keras.layers import Dropout,Embedding,GlobalMaxPooling1D, MaxPooling1D, Add, Flatten\n",
    "from keras.preprocessing import text, sequence\n",
    "from keras.layers import GlobalAveragePooling1D, GlobalMaxPooling1D, concatenate, SpatialDropout1D\n",
    "from keras import initializers, regularizers, constraints, optimizers, layers, callbacks\n",
    "from keras.callbacks import EarlyStopping,ModelCheckpoint\n",
    "from keras.models import Model\n",
    "from keras.optimizers import Adam\n",
    "from sklearn.model_selection import train_test_split\n",
    "from sklearn.metrics import accuracy_score\n",
    "from sklearn.metrics import roc_auc_score"
   ]
  },
  {
   "cell_type": "code",
   "execution_count": 3,
   "metadata": {
    "collapsed": true
   },
   "outputs": [],
   "source": [
    "EMBEDDING_FILE='F:/BaiduDiskDownload/sgns.zhihu.word'\n",
    "TRAIN_DATA_FILE='data/trainingset.csv'\n",
    "TEST_DATA_FILE='data/testa.csv'\n",
    "VALIDATE_DATE_FILE = 'data/validationset.csv'"
   ]
  },
  {
   "cell_type": "code",
   "execution_count": 4,
   "metadata": {
    "collapsed": true
   },
   "outputs": [],
   "source": [
    "train_only = pd.read_csv(TRAIN_DATA_FILE)\n",
    "test = pd.read_csv(TEST_DATA_FILE)\n",
    "validation = pd.read_csv(VALIDATE_DATE_FILE)"
   ]
  },
  {
   "cell_type": "code",
   "execution_count": 13,
   "metadata": {},
   "outputs": [],
   "source": [
    "train = pd.concat([train_only, validation],axis=0,ignore_index=True)"
   ]
  },
  {
   "cell_type": "code",
   "execution_count": 24,
   "metadata": {
    "collapsed": true
   },
   "outputs": [],
   "source": [
    "sentiments = train.columns.tolist()[2:]"
   ]
  },
  {
   "cell_type": "code",
   "execution_count": 25,
   "metadata": {
    "collapsed": true
   },
   "outputs": [],
   "source": [
    "list_sentences_train = train[\"content\"].values\n",
    "y = train[sentiments].values\n",
    "list_sentences_test = test[\"content\"].values"
   ]
  },
  {
   "cell_type": "code",
   "execution_count": 27,
   "metadata": {
    "collapsed": true
   },
   "outputs": [],
   "source": [
    "comments = train['content']"
   ]
  },
  {
   "cell_type": "code",
   "execution_count": 28,
   "metadata": {
    "scrolled": true
   },
   "outputs": [
    {
     "name": "stderr",
     "output_type": "stream",
     "text": [
      "  0%|                                                                                       | 0/120000 [00:00<?, ?it/s]Building prefix dict from the default dictionary ...\n",
      "Loading model from cache C:\\Users\\Mark\\AppData\\Local\\Temp\\jieba.cache\n",
      "Loading model cost 1.343 seconds.\n",
      "Prefix dict has been built succesfully.\n",
      "100%|█████████████████████████████████████████████████████████████████████████| 120000/120000 [04:10<00:00, 479.11it/s]\n"
     ]
    }
   ],
   "source": [
    "import jieba\n",
    "\n",
    "def cut(content):\n",
    "    return ' '.join(jieba.cut(content))\n",
    "\n",
    "X_w = list()\n",
    "import tqdm\n",
    "\n",
    "for c in tqdm.tqdm(comments):\n",
    "    X_w.append(cut(c))"
   ]
  },
  {
   "cell_type": "code",
   "execution_count": 29,
   "metadata": {},
   "outputs": [
    {
     "name": "stderr",
     "output_type": "stream",
     "text": [
      "100%|███████████████████████████████████████████████████████████████████████████| 15000/15000 [00:31<00:00, 480.65it/s]\n"
     ]
    }
   ],
   "source": [
    "comments_t = test['content']\n",
    "\n",
    "X_t = list()\n",
    "for c in tqdm.tqdm(comments_t):\n",
    "    X_t.append(cut(c))"
   ]
  },
  {
   "cell_type": "code",
   "execution_count": 22,
   "metadata": {},
   "outputs": [],
   "source": [
    "max_features=100000\n",
    "maxlen=1000\n",
    "embed_size=300\n",
    "cat_count = 20"
   ]
  },
  {
   "cell_type": "code",
   "execution_count": 30,
   "metadata": {},
   "outputs": [],
   "source": [
    "tok=text.Tokenizer(num_words=max_features)\n",
    "tok.fit_on_texts(X_w + X_t)\n",
    "X_train=tok.texts_to_sequences(X_w)\n",
    "X_test=tok.texts_to_sequences(X_t)\n",
    "x_train=sequence.pad_sequences(X_train,maxlen=maxlen)\n",
    "x_test=sequence.pad_sequences(X_test,maxlen=maxlen)"
   ]
  },
  {
   "cell_type": "code",
   "execution_count": 31,
   "metadata": {
    "collapsed": true
   },
   "outputs": [],
   "source": [
    "class RocAucEvaluation(Callback):\n",
    "    def __init__(self, validation_data=(), interval=1):\n",
    "        super(Callback, self).__init__()\n",
    "\n",
    "        self.interval = interval\n",
    "        self.X_val, self.y_val = validation_data\n",
    "\n",
    "    def on_epoch_end(self, epoch, logs={}):\n",
    "        if epoch % self.interval == 0:\n",
    "            y_pred = self.model.predict(self.X_val, verbose=0)\n",
    "            score = roc_auc_score(self.y_val, y_pred)\n",
    "            print(\"\\n ROC-AUC - epoch: {:d} - score: {:.6f}\".format(epoch+1, score))"
   ]
  },
  {
   "cell_type": "code",
   "execution_count": 32,
   "metadata": {
    "collapsed": true
   },
   "outputs": [],
   "source": [
    "embeddings_index = {}\n",
    "with open(EMBEDDING_FILE,encoding='utf8') as f:\n",
    "    for line in f:\n",
    "        values = line.rstrip().rsplit(' ')\n",
    "        word = values[0]\n",
    "        coefs = np.asarray(values[1:], dtype='float32')\n",
    "        embeddings_index[word] = coefs"
   ]
  },
  {
   "cell_type": "code",
   "execution_count": 33,
   "metadata": {
    "collapsed": true
   },
   "outputs": [],
   "source": [
    "word_index = tok.word_index\n",
    "#prepare embedding matrix\n",
    "num_words = min(max_features, len(word_index) + 1)\n",
    "embedding_matrix = np.zeros((num_words, embed_size))\n",
    "for word, i in word_index.items():\n",
    "    if i >= max_features:\n",
    "        continue\n",
    "    embedding_vector = embeddings_index.get(word)\n",
    "    if embedding_vector is not None:\n",
    "        # words not found in embedding index will be all-zeros.\n",
    "        embedding_matrix[i] = embedding_vector"
   ]
  },
  {
   "cell_type": "code",
   "execution_count": 35,
   "metadata": {
    "collapsed": true
   },
   "outputs": [],
   "source": [
    "from keras.layers import K, Activation\n",
    "from keras.engine import Layer\n",
    "from keras.layers import Dense, Input, Embedding, Dropout, Bidirectional, GRU, Flatten, SpatialDropout1D\n",
    "gru_len = 128\n",
    "Routings = 5\n",
    "Num_capsule = 10\n",
    "Dim_capsule = 16\n",
    "dropout_p = 0.25\n",
    "rate_drop_dense = 0.28\n",
    "\n",
    "def squash(x, axis=-1):\n",
    "    # s_squared_norm is really small\n",
    "    # s_squared_norm = K.sum(K.square(x), axis, keepdims=True) + K.epsilon()\n",
    "    # scale = K.sqrt(s_squared_norm)/ (0.5 + s_squared_norm)\n",
    "    # return scale * x\n",
    "    s_squared_norm = K.sum(K.square(x), axis, keepdims=True)\n",
    "    scale = K.sqrt(s_squared_norm + K.epsilon())\n",
    "    return x / scale\n",
    "\n",
    "\n",
    "# A Capsule Implement with Pure Keras\n",
    "class Capsule(Layer):\n",
    "    def __init__(self, num_capsule, dim_capsule, routings=3, kernel_size=(9, 1), share_weights=True,\n",
    "                 activation='default', **kwargs):\n",
    "        super(Capsule, self).__init__(**kwargs)\n",
    "        self.num_capsule = num_capsule\n",
    "        self.dim_capsule = dim_capsule\n",
    "        self.routings = routings\n",
    "        self.kernel_size = kernel_size\n",
    "        self.share_weights = share_weights\n",
    "        if activation == 'default':\n",
    "            self.activation = squash\n",
    "        else:\n",
    "            self.activation = Activation(activation)\n",
    "\n",
    "    def build(self, input_shape):\n",
    "        super(Capsule, self).build(input_shape)\n",
    "        input_dim_capsule = input_shape[-1]\n",
    "        if self.share_weights:\n",
    "            self.W = self.add_weight(name='capsule_kernel',\n",
    "                                     shape=(1, input_dim_capsule,\n",
    "                                            self.num_capsule * self.dim_capsule),\n",
    "                                     # shape=self.kernel_size,\n",
    "                                     initializer='glorot_uniform',\n",
    "                                     trainable=True)\n",
    "        else:\n",
    "            input_num_capsule = input_shape[-2]\n",
    "            self.W = self.add_weight(name='capsule_kernel',\n",
    "                                     shape=(input_num_capsule,\n",
    "                                            input_dim_capsule,\n",
    "                                            self.num_capsule * self.dim_capsule),\n",
    "                                     initializer='glorot_uniform',\n",
    "                                     trainable=True)\n",
    "\n",
    "    def call(self, u_vecs):\n",
    "        if self.share_weights:\n",
    "            u_hat_vecs = K.conv1d(u_vecs, self.W)\n",
    "        else:\n",
    "            u_hat_vecs = K.local_conv1d(u_vecs, self.W, [1], [1])\n",
    "\n",
    "        batch_size = K.shape(u_vecs)[0]\n",
    "        input_num_capsule = K.shape(u_vecs)[1]\n",
    "        u_hat_vecs = K.reshape(u_hat_vecs, (batch_size, input_num_capsule,\n",
    "                                            self.num_capsule, self.dim_capsule))\n",
    "        u_hat_vecs = K.permute_dimensions(u_hat_vecs, (0, 2, 1, 3))\n",
    "        # final u_hat_vecs.shape = [None, num_capsule, input_num_capsule, dim_capsule]\n",
    "\n",
    "        b = K.zeros_like(u_hat_vecs[:, :, :, 0])  # shape = [None, num_capsule, input_num_capsule]\n",
    "        for i in range(self.routings):\n",
    "            b = K.permute_dimensions(b, (0, 2, 1))  # shape = [None, input_num_capsule, num_capsule]\n",
    "            c = K.softmax(b)\n",
    "            c = K.permute_dimensions(c, (0, 2, 1))\n",
    "            b = K.permute_dimensions(b, (0, 2, 1))\n",
    "            outputs = self.activation(K.batch_dot(c, u_hat_vecs, [2, 2]))\n",
    "            if i < self.routings - 1:\n",
    "                b = K.batch_dot(outputs, u_hat_vecs, [2, 3])\n",
    "\n",
    "        return outputs\n",
    "\n",
    "    def compute_output_shape(self, input_shape):\n",
    "        return (None, self.num_capsule, self.dim_capsule)\n",
    "\n",
    "\n",
    "def get_model():\n",
    "    input1 = Input(shape=(maxlen,))\n",
    "    embed_layer = Embedding(max_features,\n",
    "                            embed_size,\n",
    "                            input_length=maxlen,\n",
    "                            weights=[embedding_matrix],\n",
    "                            trainable=False)(input1)\n",
    "    embed_layer = SpatialDropout1D(rate_drop_dense)(embed_layer)\n",
    "\n",
    "    x = Bidirectional(\n",
    "        GRU(gru_len, activation='relu', dropout=dropout_p, recurrent_dropout=dropout_p, return_sequences=True))(\n",
    "        embed_layer)\n",
    "    capsule = Capsule(num_capsule=Num_capsule, dim_capsule=Dim_capsule, routings=Routings,\n",
    "                      share_weights=True)(x)\n",
    "    # output_capsule = Lambda(lambda x: K.sqrt(K.sum(K.square(x), 2)))(capsule)\n",
    "    capsule = Flatten()(capsule)\n",
    "    capsule = Dropout(dropout_p)(capsule)\n",
    "    output = Dense(cat_count, activation='sigmoid')(capsule)\n",
    "    model = Model(inputs=input1, outputs=output)\n",
    "    model.compile(\n",
    "        loss='binary_crossentropy',\n",
    "        optimizer='adam',\n",
    "        metrics=['accuracy'])\n",
    "    model.summary()\n",
    "    return model"
   ]
  },
  {
   "cell_type": "code",
   "execution_count": 37,
   "metadata": {},
   "outputs": [
    {
     "name": "stdout",
     "output_type": "stream",
     "text": [
      "_________________________________________________________________\n",
      "Layer (type)                 Output Shape              Param #   \n",
      "=================================================================\n",
      "input_2 (InputLayer)         (None, 1000)              0         \n",
      "_________________________________________________________________\n",
      "embedding_2 (Embedding)      (None, 1000, 300)         30000000  \n",
      "_________________________________________________________________\n",
      "spatial_dropout1d_2 (Spatial (None, 1000, 300)         0         \n",
      "_________________________________________________________________\n",
      "bidirectional_2 (Bidirection (None, 1000, 256)         329472    \n",
      "_________________________________________________________________\n",
      "capsule_2 (Capsule)          (None, 10, 16)            40960     \n",
      "_________________________________________________________________\n",
      "flatten_2 (Flatten)          (None, 160)               0         \n",
      "_________________________________________________________________\n",
      "dropout_2 (Dropout)          (None, 160)               0         \n",
      "_________________________________________________________________\n",
      "dense_2 (Dense)              (None, 20)                3220      \n",
      "=================================================================\n",
      "Total params: 30,373,652\n",
      "Trainable params: 373,652\n",
      "Non-trainable params: 30,000,000\n",
      "_________________________________________________________________\n"
     ]
    },
    {
     "name": "stderr",
     "output_type": "stream",
     "text": [
      "D:\\ProgramFiles\\Anaconda\\envs\\tensorflow_env\\lib\\site-packages\\sklearn\\model_selection\\_split.py:2069: FutureWarning: From version 0.21, test_size will always complement train_size unless both are specified.\n",
      "  FutureWarning)\n"
     ]
    }
   ],
   "source": [
    "model = get_model()\n",
    "\n",
    "batch_size = 256\n",
    "epochs = 3\n",
    "X_tra, X_val, y_tra, y_val = train_test_split(x_train, y, train_size=0.95, random_state=233)\n",
    "RocAuc = RocAucEvaluation(validation_data=(X_val, y_val), interval=1)"
   ]
  },
  {
   "cell_type": "code",
   "execution_count": 38,
   "metadata": {},
   "outputs": [
    {
     "name": "stdout",
     "output_type": "stream",
     "text": [
      "Train on 114000 samples, validate on 6000 samples\n",
      "Epoch 1/1\n"
     ]
    },
    {
     "name": "stdout",
     "output_type": "stream",
     "text": [
      " 47104/114000 [===========>..................] - ETA: 6:09:07 - loss: 0.7691 - acc: 0.16 - ETA: 6:34:16 - loss: 0.5281 - acc: 0.14 - ETA: 7:12:19 - loss: 0.3252 - acc: 0.13 - ETA: 7:27:50 - loss: 0.1705 - acc: 0.12 - ETA: 7:42:12 - loss: 0.0412 - acc: 0.12 - ETA: 7:50:57 - loss: -0.0754 - acc: 0.121 - ETA: 7:59:56 - loss: -0.1719 - acc: 0.119 - ETA: 8:13:56 - loss: -0.2521 - acc: 0.118 - ETA: 8:32:23 - loss: -0.3201 - acc: 0.117 - ETA: 8:57:12 - loss: -0.3859 - acc: 0.116 - ETA: 9:09:54 - loss: -0.4428 - acc: 0.115 - ETA: 9:23:48 - loss: -0.4927 - acc: 0.115 - ETA: 9:39:28 - loss: -0.5347 - acc: 0.115 - ETA: 9:54:58 - loss: -0.5792 - acc: 0.115 - ETA: 10:10:45 - loss: -0.6208 - acc: 0.11 - ETA: 10:25:16 - loss: -0.6578 - acc: 0.11 - ETA: 10:38:49 - loss: -0.6931 - acc: 0.11 - ETA: 10:52:01 - loss: -0.7315 - acc: 0.11 - ETA: 11:05:25 - loss: -0.7630 - acc: 0.11 - ETA: 11:17:25 - loss: -0.7940 - acc: 0.11 - ETA: 11:28:45 - loss: -0.8248 - acc: 0.11 - ETA: 11:39:50 - loss: -0.8552 - acc: 0.11 - ETA: 11:50:28 - loss: -0.8851 - acc: 0.11 - ETA: 12:00:46 - loss: -0.9120 - acc: 0.11 - ETA: 12:10:22 - loss: -0.9410 - acc: 0.11 - ETA: 12:19:55 - loss: -0.9700 - acc: 0.11 - ETA: 12:28:51 - loss: -0.9979 - acc: 0.11 - ETA: 12:38:14 - loss: -1.0273 - acc: 0.11 - ETA: 12:47:02 - loss: -1.0549 - acc: 0.11 - ETA: 12:55:30 - loss: -1.0820 - acc: 0.11 - ETA: 13:04:15 - loss: -1.1087 - acc: 0.11 - ETA: 13:12:49 - loss: -1.1348 - acc: 0.11 - ETA: 13:21:01 - loss: -1.1616 - acc: 0.11 - ETA: 13:29:05 - loss: -1.1873 - acc: 0.11 - ETA: 13:37:03 - loss: -1.2122 - acc: 0.11 - ETA: 13:44:13 - loss: -1.2372 - acc: 0.10 - ETA: 13:51:31 - loss: -1.2617 - acc: 0.10 - ETA: 13:58:13 - loss: -1.2827 - acc: 0.10 - ETA: 14:04:28 - loss: -1.3086 - acc: 0.10 - ETA: 14:10:29 - loss: -1.3338 - acc: 0.10 - ETA: 14:16:22 - loss: -1.3599 - acc: 0.10 - ETA: 14:21:47 - loss: -1.3846 - acc: 0.10 - ETA: 14:27:31 - loss: -1.4084 - acc: 0.10 - ETA: 14:32:48 - loss: -1.4299 - acc: 0.10 - ETA: 14:37:53 - loss: -1.4546 - acc: 0.10 - ETA: 14:42:52 - loss: -1.4760 - acc: 0.10 - ETA: 14:47:37 - loss: -1.4996 - acc: 0.10 - ETA: 14:52:13 - loss: -1.5229 - acc: 0.10 - ETA: 14:56:30 - loss: -1.5486 - acc: 0.10 - ETA: 15:00:47 - loss: -1.5725 - acc: 0.10 - ETA: 15:04:53 - loss: -1.5954 - acc: 0.10 - ETA: 15:08:42 - loss: -1.6184 - acc: 0.10 - ETA: 15:13:00 - loss: -1.6401 - acc: 0.10 - ETA: 15:16:51 - loss: -1.6640 - acc: 0.10 - ETA: 15:20:25 - loss: -1.6878 - acc: 0.10 - ETA: 15:24:09 - loss: -1.7099 - acc: 0.10 - ETA: 15:27:32 - loss: -1.7333 - acc: 0.10 - ETA: 15:30:26 - loss: -1.7570 - acc: 0.10 - ETA: 15:33:16 - loss: -1.7780 - acc: 0.10 - ETA: 15:36:01 - loss: -1.8004 - acc: 0.10 - ETA: 15:38:52 - loss: -1.8242 - acc: 0.10 - ETA: 15:41:44 - loss: -1.8470 - acc: 0.10 - ETA: 15:44:32 - loss: -1.8697 - acc: 0.10 - ETA: 15:47:10 - loss: -1.8929 - acc: 0.10 - ETA: 15:49:44 - loss: -1.9143 - acc: 0.10 - ETA: 15:51:54 - loss: -1.9370 - acc: 0.10 - ETA: 15:54:08 - loss: -1.9587 - acc: 0.10 - ETA: 15:56:21 - loss: -1.9790 - acc: 0.10 - ETA: 15:58:27 - loss: -2.0002 - acc: 0.10 - ETA: 16:00:15 - loss: -2.0223 - acc: 0.10 - ETA: 16:01:58 - loss: -2.0454 - acc: 0.10 - ETA: 16:03:37 - loss: -2.0686 - acc: 0.10 - ETA: 16:05:23 - loss: -2.0925 - acc: 0.10 - ETA: 16:06:43 - loss: -2.1133 - acc: 0.10 - ETA: 16:08:28 - loss: -2.1351 - acc: 0.10 - ETA: 16:10:03 - loss: -2.1568 - acc: 0.10 - ETA: 16:11:44 - loss: -2.1810 - acc: 0.10 - ETA: 16:13:01 - loss: -2.2024 - acc: 0.10 - ETA: 16:14:15 - loss: -2.2244 - acc: 0.10 - ETA: 16:15:48 - loss: -2.2469 - acc: 0.10 - ETA: 16:16:52 - loss: -2.2703 - acc: 0.10 - ETA: 16:17:59 - loss: -2.2926 - acc: 0.10 - ETA: 16:19:01 - loss: -2.3164 - acc: 0.10 - ETA: 16:19:53 - loss: -2.3394 - acc: 0.10 - ETA: 16:20:36 - loss: -2.3622 - acc: 0.10 - ETA: 16:21:24 - loss: -2.3839 - acc: 0.10 - ETA: 16:22:15 - loss: -2.4074 - acc: 0.10 - ETA: 16:22:57 - loss: -2.4311 - acc: 0.10 - ETA: 16:23:40 - loss: -2.4531 - acc: 0.10 - ETA: 16:24:06 - loss: -2.4738 - acc: 0.10 - ETA: 16:24:27 - loss: -2.4966 - acc: 0.10 - ETA: 16:24:40 - loss: -2.5171 - acc: 0.10 - ETA: 16:24:49 - loss: -2.5421 - acc: 0.10 - ETA: 16:25:05 - loss: -2.5657 - acc: 0.10 - ETA: 16:25:17 - loss: -2.5878 - acc: 0.10 - ETA: 16:25:30 - loss: -2.6096 - acc: 0.10 - ETA: 16:25:45 - loss: -2.6349 - acc: 0.10 - ETA: 16:25:46 - loss: -2.6575 - acc: 0.10 - ETA: 16:25:50 - loss: -2.6795 - acc: 0.10 - ETA: 16:25:52 - loss: -2.7021 - acc: 0.10 - ETA: 16:25:47 - loss: -2.7234 - acc: 0.10 - ETA: 16:25:45 - loss: -2.7454 - acc: 0.10 - ETA: 16:25:38 - loss: -2.7686 - acc: 0.10 - ETA: 16:25:31 - loss: -2.7922 - acc: 0.10 - ETA: 16:25:24 - loss: -2.8148 - acc: 0.10 - ETA: 16:25:15 - loss: -2.8377 - acc: 0.10 - ETA: 16:25:03 - loss: -2.8593 - acc: 0.10 - ETA: 16:24:44 - loss: -2.8819 - acc: 0.10 - ETA: 16:24:28 - loss: -2.9018 - acc: 0.10 - ETA: 16:24:01 - loss: -2.9232 - acc: 0.10 - ETA: 16:23:33 - loss: -2.9454 - acc: 0.10 - ETA: 16:23:09 - loss: -2.9693 - acc: 0.10 - ETA: 16:22:46 - loss: -2.9916 - acc: 0.10 - ETA: 16:22:19 - loss: -3.0155 - acc: 0.10 - ETA: 16:21:51 - loss: -3.0385 - acc: 0.10 - ETA: 16:21:18 - loss: -3.0618 - acc: 0.10 - ETA: 16:20:51 - loss: -3.0845 - acc: 0.10 - ETA: 16:20:16 - loss: -3.1058 - acc: 0.10 - ETA: 16:19:43 - loss: -3.1275 - acc: 0.10 - ETA: 16:19:05 - loss: -3.1495 - acc: 0.10 - ETA: 16:18:29 - loss: -3.1710 - acc: 0.10 - ETA: 16:17:53 - loss: -3.1928 - acc: 0.10 - ETA: 16:17:06 - loss: -3.2151 - acc: 0.10 - ETA: 16:16:21 - loss: -3.2374 - acc: 0.10 - ETA: 16:15:35 - loss: -3.2594 - acc: 0.10 - ETA: 16:14:50 - loss: -3.2829 - acc: 0.10 - ETA: 16:14:06 - loss: -3.3053 - acc: 0.10 - ETA: 16:13:13 - loss: -3.3277 - acc: 0.10 - ETA: 16:12:16 - loss: -3.3497 - acc: 0.10 - ETA: 16:11:30 - loss: -3.3714 - acc: 0.10 - ETA: 16:10:38 - loss: -3.3937 - acc: 0.10 - ETA: 16:09:45 - loss: -3.4156 - acc: 0.10 - ETA: 16:08:55 - loss: -3.4357 - acc: 0.10 - ETA: 16:09:06 - loss: -3.4575 - acc: 0.10 - ETA: 16:08:15 - loss: -3.4809 - acc: 0.10 - ETA: 16:07:17 - loss: -3.5021 - acc: 0.10 - ETA: 16:06:20 - loss: -3.5260 - acc: 0.10 - ETA: 16:05:18 - loss: -3.5478 - acc: 0.10 - ETA: 16:04:12 - loss: -3.5705 - acc: 0.10 - ETA: 16:03:12 - loss: -3.5928 - acc: 0.10 - ETA: 16:02:18 - loss: -3.6165 - acc: 0.10 - ETA: 16:01:15 - loss: -3.6386 - acc: 0.10 - ETA: 16:00:12 - loss: -3.6599 - acc: 0.10 - ETA: 15:59:02 - loss: -3.6837 - acc: 0.10 - ETA: 15:57:52 - loss: -3.7068 - acc: 0.10 - ETA: 15:56:47 - loss: -3.7300 - acc: 0.10 - ETA: 15:55:41 - loss: -3.7527 - acc: 0.10 - ETA: 15:54:29 - loss: -3.7741 - acc: 0.10 - ETA: 15:53:18 - loss: -3.7963 - acc: 0.10 - ETA: 15:52:07 - loss: -3.8189 - acc: 0.10 - ETA: 15:50:55 - loss: -3.8409 - acc: 0.10 - ETA: 15:49:38 - loss: -3.8646 - acc: 0.10 - ETA: 15:48:24 - loss: -3.8874 - acc: 0.10 - ETA: 15:47:08 - loss: -3.9101 - acc: 0.10 - ETA: 15:45:53 - loss: -3.9331 - acc: 0.10 - ETA: 15:44:35 - loss: -3.9554 - acc: 0.10 - ETA: 15:43:19 - loss: -3.9753 - acc: 0.10 - ETA: 15:41:57 - loss: -3.9976 - acc: 0.10 - ETA: 15:40:31 - loss: -4.0193 - acc: 0.10 - ETA: 15:39:06 - loss: -4.0424 - acc: 0.10 - ETA: 15:37:38 - loss: -4.0653 - acc: 0.10 - ETA: 15:36:09 - loss: -4.0878 - acc: 0.10 - ETA: 15:34:38 - loss: -4.1124 - acc: 0.10 - ETA: 15:33:01 - loss: -4.1352 - acc: 0.10 - ETA: 15:31:34 - loss: -4.1580 - acc: 0.10 - ETA: 15:29:58 - loss: -4.1805 - acc: 0.10 - ETA: 15:28:25 - loss: -4.2021 - acc: 0.10 - ETA: 15:26:45 - loss: -4.2241 - acc: 0.10 - ETA: 15:25:00 - loss: -4.2457 - acc: 0.10 - ETA: 15:23:17 - loss: -4.2695 - acc: 0.10 - ETA: 15:21:30 - loss: -4.2922 - acc: 0.10 - ETA: 15:19:47 - loss: -4.3147 - acc: 0.10 - ETA: 15:18:11 - loss: -4.3376 - acc: 0.10 - ETA: 15:16:24 - loss: -4.3589 - acc: 0.10 - ETA: 15:14:38 - loss: -4.3812 - acc: 0.10 - ETA: 15:12:48 - loss: -4.4034 - acc: 0.10 - ETA: 15:10:56 - loss: -4.4231 - acc: 0.10 - ETA: 15:09:05 - loss: -4.4456 - acc: 0.10 - ETA: 15:07:13 - loss: -4.4676 - acc: 0.10 - ETA: 15:05:18 - loss: -4.4893 - acc: 0.10 - ETA: 15:03:27 - loss: -4.5102 - acc: 0.10 - ETA: 15:01:37 - loss: -4.5331 - acc: 0.10 - ETA: 14:59:40 - loss: -4.5574 - acc: 0.10 - ETA: 14:57:42 - loss: -4.5793 - acc: 0.1041\b\b\b\b\b\b\b\b\b\b\b\b\b\b\b\b\b\b\b\b\b\b\b\b\b\b\b\b\b\b\b\b\b\b\b\b\b\b\b\b\b\b\b\b\b\b\b\b\b\b\b\b\b\b\b\b\b\b\b\b\b\b\b\b\b\b\b\b\b\b\b\b\b\b\b\b\b\b\b\b\b\b\b\b\b\b\b\b\b\b\b\b"
     ]
    },
    {
     "name": "stdout",
     "output_type": "stream",
     "text": [
      " 53760/114000 [=============>................] - ETA: 14:55:45 - loss: -4.6011 - acc: 0.10 - ETA: 14:53:47 - loss: -4.6257 - acc: 0.10 - ETA: 14:51:46 - loss: -4.6481 - acc: 0.10 - ETA: 14:49:46 - loss: -4.6701 - acc: 0.10 - ETA: 14:47:44 - loss: -4.6915 - acc: 0.10 - ETA: 14:45:41 - loss: -4.7139 - acc: 0.10 - ETA: 14:43:38 - loss: -4.7358 - acc: 0.10 - ETA: 14:41:36 - loss: -4.7593 - acc: 0.10 - ETA: 14:39:33 - loss: -4.7814 - acc: 0.10 - ETA: 14:37:29 - loss: -4.8031 - acc: 0.10 - ETA: 14:35:22 - loss: -4.8255 - acc: 0.10 - ETA: 14:33:20 - loss: -4.8488 - acc: 0.10 - ETA: 14:31:13 - loss: -4.8711 - acc: 0.10 - ETA: 14:29:04 - loss: -4.8945 - acc: 0.10 - ETA: 14:26:58 - loss: -4.9167 - acc: 0.10 - ETA: 14:24:48 - loss: -4.9385 - acc: 0.10 - ETA: 14:22:38 - loss: -4.9604 - acc: 0.10 - ETA: 14:20:28 - loss: -4.9837 - acc: 0.10 - ETA: 14:18:15 - loss: -5.0050 - acc: 0.10 - ETA: 14:16:01 - loss: -5.0265 - acc: 0.10 - ETA: 14:13:51 - loss: -5.0487 - acc: 0.10 - ETA: 14:11:36 - loss: -5.0719 - acc: 0.10 - ETA: 14:09:21 - loss: -5.0952 - acc: 0.10 - ETA: 14:07:07 - loss: -5.1190 - acc: 0.10 - ETA: 14:04:50 - loss: -5.1438 - acc: 0.10 - ETA: 14:02:24 - loss: -5.1660 - acc: 0.1040"
     ]
    },
    {
     "ename": "KeyboardInterrupt",
     "evalue": "",
     "output_type": "error",
     "traceback": [
      "\u001b[1;31m---------------------------------------------------------------------------\u001b[0m",
      "\u001b[1;31mKeyboardInterrupt\u001b[0m                         Traceback (most recent call last)",
      "\u001b[1;32m<ipython-input-38-866252491652>\u001b[0m in \u001b[0;36m<module>\u001b[1;34m()\u001b[0m\n\u001b[0;32m      1\u001b[0m hist = model.fit(X_tra, y_tra, batch_size=batch_size, epochs=1, validation_data=(X_val, y_val),\n\u001b[1;32m----> 2\u001b[1;33m                  callbacks=[RocAuc], verbose=1)\n\u001b[0m",
      "\u001b[1;32mD:\\ProgramFiles\\Anaconda\\envs\\tensorflow_env\\lib\\site-packages\\keras\\engine\\training.py\u001b[0m in \u001b[0;36mfit\u001b[1;34m(self, x, y, batch_size, epochs, verbose, callbacks, validation_split, validation_data, shuffle, class_weight, sample_weight, initial_epoch, steps_per_epoch, validation_steps, **kwargs)\u001b[0m\n\u001b[0;32m   1035\u001b[0m                                         \u001b[0minitial_epoch\u001b[0m\u001b[1;33m=\u001b[0m\u001b[0minitial_epoch\u001b[0m\u001b[1;33m,\u001b[0m\u001b[1;33m\u001b[0m\u001b[0m\n\u001b[0;32m   1036\u001b[0m                                         \u001b[0msteps_per_epoch\u001b[0m\u001b[1;33m=\u001b[0m\u001b[0msteps_per_epoch\u001b[0m\u001b[1;33m,\u001b[0m\u001b[1;33m\u001b[0m\u001b[0m\n\u001b[1;32m-> 1037\u001b[1;33m                                         validation_steps=validation_steps)\n\u001b[0m\u001b[0;32m   1038\u001b[0m \u001b[1;33m\u001b[0m\u001b[0m\n\u001b[0;32m   1039\u001b[0m     def evaluate(self, x=None, y=None,\n",
      "\u001b[1;32mD:\\ProgramFiles\\Anaconda\\envs\\tensorflow_env\\lib\\site-packages\\keras\\engine\\training_arrays.py\u001b[0m in \u001b[0;36mfit_loop\u001b[1;34m(model, f, ins, out_labels, batch_size, epochs, verbose, callbacks, val_f, val_ins, shuffle, callback_metrics, initial_epoch, steps_per_epoch, validation_steps)\u001b[0m\n\u001b[0;32m    197\u001b[0m                     \u001b[0mins_batch\u001b[0m\u001b[1;33m[\u001b[0m\u001b[0mi\u001b[0m\u001b[1;33m]\u001b[0m \u001b[1;33m=\u001b[0m \u001b[0mins_batch\u001b[0m\u001b[1;33m[\u001b[0m\u001b[0mi\u001b[0m\u001b[1;33m]\u001b[0m\u001b[1;33m.\u001b[0m\u001b[0mtoarray\u001b[0m\u001b[1;33m(\u001b[0m\u001b[1;33m)\u001b[0m\u001b[1;33m\u001b[0m\u001b[0m\n\u001b[0;32m    198\u001b[0m \u001b[1;33m\u001b[0m\u001b[0m\n\u001b[1;32m--> 199\u001b[1;33m                 \u001b[0mouts\u001b[0m \u001b[1;33m=\u001b[0m \u001b[0mf\u001b[0m\u001b[1;33m(\u001b[0m\u001b[0mins_batch\u001b[0m\u001b[1;33m)\u001b[0m\u001b[1;33m\u001b[0m\u001b[0m\n\u001b[0m\u001b[0;32m    200\u001b[0m                 \u001b[0mouts\u001b[0m \u001b[1;33m=\u001b[0m \u001b[0mto_list\u001b[0m\u001b[1;33m(\u001b[0m\u001b[0mouts\u001b[0m\u001b[1;33m)\u001b[0m\u001b[1;33m\u001b[0m\u001b[0m\n\u001b[0;32m    201\u001b[0m                 \u001b[1;32mfor\u001b[0m \u001b[0ml\u001b[0m\u001b[1;33m,\u001b[0m \u001b[0mo\u001b[0m \u001b[1;32min\u001b[0m \u001b[0mzip\u001b[0m\u001b[1;33m(\u001b[0m\u001b[0mout_labels\u001b[0m\u001b[1;33m,\u001b[0m \u001b[0mouts\u001b[0m\u001b[1;33m)\u001b[0m\u001b[1;33m:\u001b[0m\u001b[1;33m\u001b[0m\u001b[0m\n",
      "\u001b[1;32mD:\\ProgramFiles\\Anaconda\\envs\\tensorflow_env\\lib\\site-packages\\keras\\backend\\tensorflow_backend.py\u001b[0m in \u001b[0;36m__call__\u001b[1;34m(self, inputs)\u001b[0m\n\u001b[0;32m   2664\u001b[0m                 \u001b[1;32mreturn\u001b[0m \u001b[0mself\u001b[0m\u001b[1;33m.\u001b[0m\u001b[0m_legacy_call\u001b[0m\u001b[1;33m(\u001b[0m\u001b[0minputs\u001b[0m\u001b[1;33m)\u001b[0m\u001b[1;33m\u001b[0m\u001b[0m\n\u001b[0;32m   2665\u001b[0m \u001b[1;33m\u001b[0m\u001b[0m\n\u001b[1;32m-> 2666\u001b[1;33m             \u001b[1;32mreturn\u001b[0m \u001b[0mself\u001b[0m\u001b[1;33m.\u001b[0m\u001b[0m_call\u001b[0m\u001b[1;33m(\u001b[0m\u001b[0minputs\u001b[0m\u001b[1;33m)\u001b[0m\u001b[1;33m\u001b[0m\u001b[0m\n\u001b[0m\u001b[0;32m   2667\u001b[0m         \u001b[1;32melse\u001b[0m\u001b[1;33m:\u001b[0m\u001b[1;33m\u001b[0m\u001b[0m\n\u001b[0;32m   2668\u001b[0m             \u001b[1;32mif\u001b[0m \u001b[0mpy_any\u001b[0m\u001b[1;33m(\u001b[0m\u001b[0mis_tensor\u001b[0m\u001b[1;33m(\u001b[0m\u001b[0mx\u001b[0m\u001b[1;33m)\u001b[0m \u001b[1;32mfor\u001b[0m \u001b[0mx\u001b[0m \u001b[1;32min\u001b[0m \u001b[0minputs\u001b[0m\u001b[1;33m)\u001b[0m\u001b[1;33m:\u001b[0m\u001b[1;33m\u001b[0m\u001b[0m\n",
      "\u001b[1;32mD:\\ProgramFiles\\Anaconda\\envs\\tensorflow_env\\lib\\site-packages\\keras\\backend\\tensorflow_backend.py\u001b[0m in \u001b[0;36m_call\u001b[1;34m(self, inputs)\u001b[0m\n\u001b[0;32m   2634\u001b[0m                                 \u001b[0msymbol_vals\u001b[0m\u001b[1;33m,\u001b[0m\u001b[1;33m\u001b[0m\u001b[0m\n\u001b[0;32m   2635\u001b[0m                                 session)\n\u001b[1;32m-> 2636\u001b[1;33m         \u001b[0mfetched\u001b[0m \u001b[1;33m=\u001b[0m \u001b[0mself\u001b[0m\u001b[1;33m.\u001b[0m\u001b[0m_callable_fn\u001b[0m\u001b[1;33m(\u001b[0m\u001b[1;33m*\u001b[0m\u001b[0marray_vals\u001b[0m\u001b[1;33m)\u001b[0m\u001b[1;33m\u001b[0m\u001b[0m\n\u001b[0m\u001b[0;32m   2637\u001b[0m         \u001b[1;32mreturn\u001b[0m \u001b[0mfetched\u001b[0m\u001b[1;33m[\u001b[0m\u001b[1;33m:\u001b[0m\u001b[0mlen\u001b[0m\u001b[1;33m(\u001b[0m\u001b[0mself\u001b[0m\u001b[1;33m.\u001b[0m\u001b[0moutputs\u001b[0m\u001b[1;33m)\u001b[0m\u001b[1;33m]\u001b[0m\u001b[1;33m\u001b[0m\u001b[0m\n\u001b[0;32m   2638\u001b[0m \u001b[1;33m\u001b[0m\u001b[0m\n",
      "\u001b[1;32mD:\\ProgramFiles\\Anaconda\\envs\\tensorflow_env\\lib\\site-packages\\tensorflow\\python\\client\\session.py\u001b[0m in \u001b[0;36m__call__\u001b[1;34m(self, *args, **kwargs)\u001b[0m\n\u001b[0;32m   1380\u001b[0m           ret = tf_session.TF_SessionRunCallable(\n\u001b[0;32m   1381\u001b[0m               \u001b[0mself\u001b[0m\u001b[1;33m.\u001b[0m\u001b[0m_session\u001b[0m\u001b[1;33m.\u001b[0m\u001b[0m_session\u001b[0m\u001b[1;33m,\u001b[0m \u001b[0mself\u001b[0m\u001b[1;33m.\u001b[0m\u001b[0m_handle\u001b[0m\u001b[1;33m,\u001b[0m \u001b[0margs\u001b[0m\u001b[1;33m,\u001b[0m \u001b[0mstatus\u001b[0m\u001b[1;33m,\u001b[0m\u001b[1;33m\u001b[0m\u001b[0m\n\u001b[1;32m-> 1382\u001b[1;33m               run_metadata_ptr)\n\u001b[0m\u001b[0;32m   1383\u001b[0m         \u001b[1;32mif\u001b[0m \u001b[0mrun_metadata\u001b[0m\u001b[1;33m:\u001b[0m\u001b[1;33m\u001b[0m\u001b[0m\n\u001b[0;32m   1384\u001b[0m           \u001b[0mproto_data\u001b[0m \u001b[1;33m=\u001b[0m \u001b[0mtf_session\u001b[0m\u001b[1;33m.\u001b[0m\u001b[0mTF_GetBuffer\u001b[0m\u001b[1;33m(\u001b[0m\u001b[0mrun_metadata_ptr\u001b[0m\u001b[1;33m)\u001b[0m\u001b[1;33m\u001b[0m\u001b[0m\n",
      "\u001b[1;31mKeyboardInterrupt\u001b[0m: "
     ]
    }
   ],
   "source": [
    "hist = model.fit(X_tra, y_tra, batch_size=batch_size, epochs=1, validation_data=(X_val, y_val),\n",
    "                 callbacks=[RocAuc], verbose=1)"
   ]
  },
  {
   "cell_type": "code",
   "execution_count": null,
   "metadata": {
    "collapsed": true
   },
   "outputs": [],
   "source": []
  },
  {
   "cell_type": "code",
   "execution_count": null,
   "metadata": {
    "collapsed": true
   },
   "outputs": [],
   "source": []
  }
 ],
 "metadata": {
  "kernelspec": {
   "display_name": "Python 3",
   "language": "python",
   "name": "python3"
  },
  "language_info": {
   "codemirror_mode": {
    "name": "ipython",
    "version": 3
   },
   "file_extension": ".py",
   "mimetype": "text/x-python",
   "name": "python",
   "nbconvert_exporter": "python",
   "pygments_lexer": "ipython3",
   "version": "3.5.6"
  }
 },
 "nbformat": 4,
 "nbformat_minor": 2
}
