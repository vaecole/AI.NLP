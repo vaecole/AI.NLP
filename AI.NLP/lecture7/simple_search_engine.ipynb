{
 "cells": [
  {
   "cell_type": "markdown",
   "metadata": {},
   "source": [
    "### www.cmiw.cn 和 bbs.cmiw.cn 是爬虫web_crawler.ipynb爬下来的网页，本实验主要使用www.cmiw.cn 的数据"
   ]
  },
  {
   "cell_type": "code",
   "execution_count": 1,
   "metadata": {
    "scrolled": true
   },
   "outputs": [
    {
     "name": "stdout",
     "output_type": "stream",
     "text": [
      " 驱动器 C 中的卷没有标签。\n",
      " 卷的序列号是 D4A3-95FD\n",
      "\n",
      " C:\\Users\\Mark\\1AI.NLP\\AI.NLP\\lecture7 的目录\n",
      "\n",
      "2019-01-10  15:26    <DIR>          .\n",
      "2019-01-10  15:26    <DIR>          ..\n",
      "2019-01-04  16:34    <DIR>          .ipynb_checkpoints\n",
      "2019-01-05  16:24    <DIR>          bbs.cmiw.cn\n",
      "2019-01-04  17:21    <DIR>          log\n",
      "2019-01-04  19:50           136,342 search_result.md\n",
      "2019-01-10  15:26            41,652 simple_search_engine.ipynb\n",
      "2019-01-07  15:02             8,415 web_crawler.ipynb\n",
      "2019-01-04  19:05    <DIR>          www.cmiw.cn_archive\n",
      "2019-01-04  19:37    <DIR>          www.cmiw.cn_text\n",
      "               3 个文件        186,409 字节\n",
      "               7 个目录 12,206,596,096 可用字节\n"
     ]
    }
   ],
   "source": [
    "!dir"
   ]
  },
  {
   "cell_type": "code",
   "execution_count": 2,
   "metadata": {},
   "outputs": [],
   "source": [
    "import os\n",
    "\n",
    "file_base = \"www.cmiw.cn_archive\" # html folder\n",
    "text_base = \"www.cmiw.cn_text\" # text folder"
   ]
  },
  {
   "cell_type": "markdown",
   "metadata": {},
   "source": [
    "### 爬虫爬到的是HTML文件，文本中含有标签，这里使用html2text将html处理为文本文件"
   ]
  },
  {
   "cell_type": "code",
   "execution_count": 6,
   "metadata": {},
   "outputs": [],
   "source": [
    "import html2text\n",
    "\n",
    "html_handler = html2text.HTML2Text()\n",
    "\n",
    "html_handler.ignore_links = True"
   ]
  },
  {
   "cell_type": "code",
   "execution_count": 19,
   "metadata": {},
   "outputs": [
    {
     "name": "stderr",
     "output_type": "stream",
     "text": [
      "100%|██████████████████████████████████████████████████████████████████████████████| 5592/5592 [03:50<00:00, 24.27it/s]\n"
     ]
    }
   ],
   "source": [
    "from tqdm import tqdm\n",
    "\n",
    "for f in tqdm(os.listdir(file_base)):\n",
    "    open(os.path.join(text_base, f),'w',encoding='utf-8').write(html_handler.handle(open(os.path.join(file_base, f)).read()))"
   ]
  },
  {
   "cell_type": "code",
   "execution_count": 3,
   "metadata": {},
   "outputs": [
    {
     "data": {
      "text/plain": [
       "5592"
      ]
     },
     "execution_count": 3,
     "metadata": {},
     "output_type": "execute_result"
    }
   ],
   "source": [
    "import os\n",
    "\n",
    "len(os.listdir(text_base))"
   ]
  },
  {
   "cell_type": "markdown",
   "metadata": {},
   "source": [
    "### 把所有的内容作为语料库，先分词"
   ]
  },
  {
   "cell_type": "code",
   "execution_count": 4,
   "metadata": {},
   "outputs": [],
   "source": [
    "import jieba\n",
    "\n",
    "def cut(string): return ' '.join(jieba.cut(string))"
   ]
  },
  {
   "cell_type": "code",
   "execution_count": 6,
   "metadata": {},
   "outputs": [
    {
     "name": "stderr",
     "output_type": "stream",
     "text": [
      "  0%|                                                                                         | 0/5592 [00:00<?, ?it/s]Building prefix dict from the default dictionary ...\n",
      "Loading model from cache C:\\Users\\Mark\\AppData\\Local\\Temp\\jieba.cache\n",
      "Loading model cost 0.916 seconds.\n",
      "Prefix dict has been built succesfully.\n",
      "100%|██████████████████████████████████████████████████████████████████████████████| 5592/5592 [01:04<00:00, 86.20it/s]\n"
     ]
    }
   ],
   "source": [
    "from tqdm import tqdm\n",
    "\n",
    "corpus = []\n",
    "\n",
    "for f in tqdm(os.listdir(text_base)):\n",
    "    corpus.append(cut(open(os.path.join(text_base, f),encoding = 'utf-8').read()))"
   ]
  },
  {
   "cell_type": "markdown",
   "metadata": {},
   "source": [
    "### TF-IDF向量化，TF-IDF参考lecture6/TF_DF_wordcloud_relatedwords.ipynb"
   ]
  },
  {
   "cell_type": "code",
   "execution_count": 9,
   "metadata": {},
   "outputs": [
    {
     "data": {
      "text/plain": [
       "'\\n \\n 3D 世界 网 旗下 网站 设 为 首页 收藏 本站 \\n \\n 开启 辅助 访问 \\n \\n 请   * * 登录 * *   后 使用 快捷 导航     \\n 没有 帐号 ？ 注册 会员 \\n \\n ##   ! [ 机械 社区 ] ( static / image / common / logo . png ) \\n \\n 用户名   Email   |     |   自动 登录   |     找回 密码     \\n - - - | - - - | - - - | - - -     \\n 密码   |     |   _ 登录 _   |       注册 会员     \\n     \\n ! [ ] ( source / plugin / wechat / image / wechat _ login . png ) \\n \\n 扫一扫 ， 访问 微 社区 \\n \\n ! [ QQ 登录 ] ( static / image / common / qq _ login . gif ) \\n \\n 只 需 一步 ， 快速 开始 \\n \\n 快捷 导航 \\n \\n     *   门户 资讯 Portal \\n     *   论坛 \\n     *   导读 Guide \\n     *   家园 Space \\n     *   广播 免费 发布 商业信息 ， 登录 用户名 不变 ！ \\n     *   社区 介绍 \\n     *   淘帖 Collection \\n     *   排行榜 Ranklist \\n     *   充值 积分 \\n     *   广告 服务 \\n \\n |     |   搜索   |   * * 搜索 * *   |     \\n     \\n - - - | - - - | - - - | - - - | - - -     \\n     \\n     *   帖子 \\n     *   用户 \\n \\n ! [ ] ( / / img . alicdn . com / tps / TB1 _ 3FrKVXXXXbdXXXXXXXXXXXX - 129 - 128 . png )   安全 验证   _ \\ue60c _ \\n \\n 请 完成 以下 验证码 \\n \\n 机械 社区   _ › _   门户 资讯   _ › _ 工程 重工   _ › _   查看 内容 \\n \\n #   混凝土 机械 市场 暂时 走低 \\n \\n 2004 - 11 - 25   13 : 09   |   发布者 :   老鹰 |   查看 :   _ 1131 _   |   评论 :   0 \\n \\n ! [ ] ( http : / / www . cmiw . cn / data / attachment / common / cf / 133600khjfcru2lrx2qtxc . gif ) \\n \\n           混凝土 机械 是 基本建设 的 常用 机械 ， 需求量 大 ， 应用 范围广 。 在 工业 发达国家 ， 混凝土 机械 生产 企业 的 技术水平 ， 往往 标志 着 一个 国家 的 制造业 水平 。 经过 几十年 的 发展 ， 特别 是 近几年 我国 经济 建设 的 大力 拉动 ， 有效 促进 了 混凝土 机械 的 进步 ， 使 之 成为 建设 机械 的 主力军 。       \\n         据介绍 ， 几年 前 我国 政府 颁布 了 终结 现场 搅拌 混凝土 的 条文 ， 到 2005 年底 240 多个 城市 要 全面 使用 商品 混凝土 ， 总量 要 达到 3 亿立方米 。 在 此 推动 下 ， 混凝土 机械 得到 了 蓬勃发展 。 2004 年 1 ~ 4 月 ， 山东 、 江苏 、 浙江 、 广东 及 几个 直辖市 的 混凝土 搅拌 运输车 、 混凝土泵 车 等 混凝土 机械 甚至 出现 了 供不应求 的 现象 。     \\n         今年 ， 国家 宏观调控 政策 出台 后 ， 由于 混凝土 机械 价位 普遍 较 高 ， 对 信贷 的 依赖性 较强 ， 因此 造成 混凝土 机械 市场 大幅 下滑 。 但 专家 指出 ， 暂时 的 市场 低迷 并 不 代表 未来 的 市场走势 。 \\n \\n         市场 发展 平稳 价格 继续 走低 \\n \\n         目前 ， 我国 混凝土 机械行业 有 生产 企业 200 多家 ， 据 有关 统计数据 显示 ， 去年 国产 混凝土 机械 产量 已 超过 预计 产量 的 50% ， 预计 今年 的 需求量 仍 将 保持 增长 态势 。     \\n         混凝土 搅拌车 ： 目前 ， 国内 有 混凝土 搅拌车 生产 企业 26 家 ， 其中 7 家 企业 的 产量 占 总产量 的 90% ， 这 类 企业 多为 建设部 所属单位 。 近年来 ， 一些 改装 厂 也 开始 介入 这一 领域 ， 但 由于 国产 底盘 的 限制 ， 产品 多为 小 容积 6 立方米 的 搅拌车 ， 而 不能 生产 逐渐 成为 市场 主流产品 的 8 立方米 及其 以上 搅拌车 。     \\n         散装 水泥 运输车 ： 据 不 完全 统计 ， 全国 散装 水泥 运输车 产量 已 超过 5000 辆 。 据 专家 预测 ， 今年 起 散装 水泥 运输车 的 市场 需求量 将会 大幅度 增长 ， 因为 国家有关 限制 和 禁止 使用 袋装 水泥 现场 搅拌 混凝土 的 规定 即将 实施 ， 混凝土 搅拌 运输 车辆 的 需求 将 在 近几年 内 保持 30% 以上 的 增长速度 。     \\n         混凝土泵 车 ： 据介绍 ， 在 1999 年 以前 ， 全国 的 混凝土泵 车 年销量 仅为 50 辆 左右 。 2000 年 ， 随着 大批 基础 建设工程 的 开工 ， 机械化 程度 大大提高 ， 泵车 的 产销量 迅速 增长 ， 2001 年销量 248 辆 ， 2002 年销量 已达 500 辆 ， 去年 销量 超过 700 辆 。 专家 预计 ， 在 未来 三五年 内 ， 泵车 的 年 需求量 将 达到 1000 辆 。     \\n         同时 专家 也 指出 ， 目前 ， 我国 混凝土 机械 已 出现 生产过剩 的 情况 ， 从而 导致 了 市场竞争 的 不断 加剧 。 以 7 立方米 进口 底盘 的 搅拌车 为例 ， 售价 从 过去 的 90 万元 / 台 ， 降 为 现在 的 68 万元 / 台 ， 利润 从 5 万元 / 台 ， 降 为 不足 1 万元 / 台 ； 混凝土泵 车 生产 企业 目前 已 超过 20 家 ， 年产量 超过 千台 。 以 北京 为例 ， 混凝土 固定 泵 保有量 已 超过 3000 台 ， 近 5 年内 每年 新增 超过 300 台 ； 以 HBT60 混凝土 固定 泵 为例 ， 平均 销售价格 由 三年 前 的 60 万元 / 台 ， 降到 现在 的 不到 40 万元 / 台 ； 平均 租赁费 由 五年 前 30 元 / 立方米 ， 降到 现在 的 15 元 / 立方米 ； 北京 现有 搅拌站 207 个 ， 年 生产能力 已 超过 6000 万立方米 ， 2003 年 商品 混凝土 实际 用量 仅为 3200 万立方米 ； 在 用 搅拌车 在 3000 辆 以上 ， 混凝土泵 车 超过 500 台 。     \\n         由此 可以 看出 ， 混凝土 机械 在 充满希望 的 同时 ， 也 存在 着 不少 危机 ， 值得 广大 生产 企业 和 经销商 以及 用户 警惕 。 \\n \\n         技术 进步 明显   产品规格 不全 \\n \\n         近几年 ， 随着 竞争 的 不断 激烈 ， 各 企业 都 注重 了 技术 上 的 改进 ， 无论是 搅拌机 、 搅拌站 （ 楼 ） 、 搅拌 输送车 还是 混凝土泵 （ 泵车 ） 等 ， 在 设计 水平 和 工艺水平 上 都 有 了 不同 程度 的 进步 。 如 电子 技术 、 液压 技术 ， 在 混凝土 搅拌站 （ 楼 ） 、 混凝土 输送泵 （ 含臂 架式 泵车 ） 、 混凝土 搅拌 输送车 等 产品 中 得到 了 广泛应用 。 在 控制系统 中 大多 采用 了 微机 自控 方式 ， 使 产品 的 技术水平 有 了 显著 提高 ， 质量 也 得到 了 改善 ； 无论是 可靠性 、 实用性 还是 经济性 均 有 了 显著 的 改善 ， 部分 产品 已 达到 或 接近 国际 同类产品 先进 水平 。     \\n         但是 ， 同 其他 机械行业 一样 ， 混凝土 机械 同样 存在 着 重复 生产 情况 ， 导致 生产过剩 ， 出现 了 销售 不 畅 ， 以 价格 拼 市场 的 局面 。 与此同时 ， 国产车 、 泵 、 站 等 大型 设备 均 存在 着 品种 单一 、 规格 不全 等 问题 。 主要 原因 是 ， 技术 创新能力 较差 ， 除 少部分 企业 外 ， 混凝土 机械 相当 一部分 厂家 由于 自身 技术水平 的 限制 ， 不 重视 产品 更新 和 产品 的 开发 ， 产品 多年 一贯制 ， 品种 规格 较 少 ， 技术含量 较 低 ， 仿制 产品 多 ， 名牌产品 少 ， 有 专利 和 特色 的 产品 以及 能 出口创汇 的 产品 更 少 。     \\n         国外 混凝土 搅拌站 （ 楼 ） 大多 采用 了 机电 一体化 技术 ， 其微控 技术 成熟 可靠 ， 物料 的 配比 、 容量 变更 控制 十分 准确 ； 有些 搅拌站 （ 楼 ） 还 增加 了 搅拌机 动态 负荷 监测 、 混凝土 物料 稠度 控制 、 除尘 、 消声 、 废水处理 等 装置 ； 混凝土泵 送 技术 日臻成熟 ， 最大 水平 泵送 距离 达 4000 米 ， 泵送 量 达 180 立方米 / 小时 ； 产品 多功能性 增强 。 我国 的 混凝土 搅拌 及 输送 机械 尽管 性能 有 了 较大 提高 ， 但 在 可靠性 等 方面 与 国外 相比 还有 不小 差距 ， 主要 表现 是 配套 电器 、 液压 、 气动元件 等 方面 问题 较 多 。 近年来 ， 许多 厂家 选用 进口 优质 元器件 ， 对 提高 我国 混 机械 水平 起到 了 重要 作用 ， 但 在 多功能 方面 还 无法 与 国外 产品 抗衡 。 \\n \\n         未来 充满 商机   高智能 产品 受 青睐 \\n \\n         机械 产品 的 发展趋势 是 高附加值 化 、 智能化 和 系统化 。 混凝土 机械 发展 的 主导产品 是 商品 混凝土 成套设备 ， 作为 “ 十五 ” 规划 的 重点项目 ， 商品 混凝土 成套设备 尤其 是 大型 站 （ 楼 ） 、 车 、 泵 ， 无论 从 数量 上 还是 质量 上 都 将 有 一个 较大 的 提高 。 这些 产品 将 比 以往 更加 注重 降低 能耗 ， 更加 注重 安全性 、 舒适性 、 维护 和 使用 的 经济性 。 商品 混凝土 近年来 在 大中城市 有 了 较大 的 发展 ， 约 占 现浇 混凝土 的 15% ～ 20% 左右 ， 与 发达国家 的 70% ～ 90% 相比 还有 较大 的 差距 ， 由此 给 国内 混凝土 机械制造 厂家 提供 了 一个 大 的 发展 机遇 。     \\n         商品 混凝土 成套设备 的 配套 产品 以及 能够 满足用户 特殊要求 的 产品 将会 在 未来 得到 较大 发展 。 如 砂石 预处理 设备 、 残余 混凝土 清洗 回收 装置 、 高性能 混凝土 搅拌 设备 、 冷热 搅拌 的 混凝土 搅拌站 、 长臂 架 泵车 等 。 此外 ， 国家 实施 西部 大 开发 战略 ， 投资规模 将 超过 以往 任何 大型 工程 。 由于 西部 开发 时间跨度 长 、 东西部 经济 差距 大 ， 不 可能 集中 购买 高 、 精 、 尖 的 大型 设备 ， 因此 适合 西部 自然环境 、 经济实用 的 产品 将会 被 市场 看好 。       \\n     \\n - - -     \\n     \\n 收藏   分享   邀请 \\n \\n ##   相关 分类 \\n \\n     *   要闻 热点 \\n     *   行业 分析 \\n     *   新 科技 / 新 产品 \\n     *   人才 职场 \\n     *   能源 装备 \\n     *   汽车 制造 \\n     *   动力 传动 \\n     *   工程 重工 \\n     *   机床 工具 \\n     *   交通 装备 \\n     *   材料 矿产 \\n     *   技术 研讨 \\n     *   石化 装备 \\n     *   电气 仪表 \\n     *   模具 \\n     *   行业 设备 \\n     *   农业机械 \\n     *   外经贸 \\n     *   基础件 \\n     *   轻工业 \\n     *   管理 质量 \\n     *   工程项目 \\n     *   管理 与 信息化 \\n     *   区域 经济 \\n     *   资讯 \\n     *   产品 动态 \\n     *   企业 快递 \\n     *   液压 \\n     *   通用机械 \\n     *   环保 设备 \\n     *   内燃机 \\n     *   机器人 \\n     *   通知 公告 \\n \\n 小黑 屋 | 手机 版 | Archiver |   * * 中国 机械 社区 * *   (   京 ICP 备 10217105 号 ， 京 ICP 证 050210 号 ， 京 公网 安备 11010802010176 \\n )     \\n \\n GMT + 8 ,   2019 - 1 - 4   17 : 58   ,   Processed   in   0.064312   second ( s ) ,   6   queries   ,   Gzip   On , \\n MemCache   On . \\n \\n Powered   by   * * Discuz ! * *   _ X3.4 _   Licensed \\n \\n ( C )   2001 - 2017   Comsenz   Inc . \\n \\n * * 返回 顶部 * * \\n \\n'"
      ]
     },
     "execution_count": 9,
     "metadata": {},
     "output_type": "execute_result"
    }
   ],
   "source": [
    "corpus[1]"
   ]
  },
  {
   "cell_type": "markdown",
   "metadata": {},
   "source": [
    "### TfidfVectorizer 可以将文章进行TF-IDF向量化\n",
    "- TF-IDF值表示词在某篇文章的重要性\n",
    "- 本实验共有5000+文章，8w+词汇\n",
    "- 如果文章没有该词，则TF-IDF为0"
   ]
  },
  {
   "cell_type": "code",
   "execution_count": 10,
   "metadata": {},
   "outputs": [],
   "source": [
    "from sklearn.feature_extraction.text import TfidfVectorizer\n",
    "vectorizer = TfidfVectorizer()\n",
    "\n",
    "tf_idf_vec = vectorizer.fit_transform(corpus)"
   ]
  },
  {
   "cell_type": "code",
   "execution_count": 23,
   "metadata": {},
   "outputs": [
    {
     "data": {
      "text/plain": [
       "(5592, 84284)"
      ]
     },
     "execution_count": 23,
     "metadata": {},
     "output_type": "execute_result"
    }
   ],
   "source": [
    "tf_idf_vec.shape"
   ]
  },
  {
   "cell_type": "code",
   "execution_count": 24,
   "metadata": {},
   "outputs": [
    {
     "data": {
      "text/plain": [
       "array([[0.        , 0.        , 0.        , ..., 0.        , 0.        ,\n",
       "        0.        ],\n",
       "       [0.        , 0.        , 0.        , ..., 0.        , 0.        ,\n",
       "        0.        ],\n",
       "       [0.        , 0.        , 0.        , ..., 0.        , 0.        ,\n",
       "        0.        ],\n",
       "       ...,\n",
       "       [0.02565131, 0.10289999, 0.        , ..., 0.        , 0.        ,\n",
       "        0.        ],\n",
       "       [0.        , 0.1370599 , 0.        , ..., 0.        , 0.        ,\n",
       "        0.        ],\n",
       "       [0.02232892, 0.10748669, 0.        , ..., 0.        , 0.        ,\n",
       "        0.        ]])"
      ]
     },
     "execution_count": 24,
     "metadata": {},
     "output_type": "execute_result"
    }
   ],
   "source": [
    "tf_idf_vec.toarray()"
   ]
  },
  {
   "cell_type": "markdown",
   "metadata": {},
   "source": [
    "### 转置之后就是词的倒排索引\n",
    "- 若第v个词在第r篇文章中则transposed_tfidf_vec[v][r]不为0\n",
    "- transposed_tfidf_vec[v][r]这个值表示了词在文章中的重要性"
   ]
  },
  {
   "cell_type": "code",
   "execution_count": 49,
   "metadata": {},
   "outputs": [],
   "source": [
    "transposed_tfidf_vec = tf_idf_vec.transpose()"
   ]
  },
  {
   "cell_type": "code",
   "execution_count": 50,
   "metadata": {},
   "outputs": [
    {
     "data": {
      "text/plain": [
       "(84284, 5592)"
      ]
     },
     "execution_count": 50,
     "metadata": {},
     "output_type": "execute_result"
    }
   ],
   "source": [
    "import numpy as np\n",
    "\n",
    "transposed_tfidf_array = transposed_tfidf_vec.toarray()\n",
    "transposed_tfidf_array.shape"
   ]
  },
  {
   "cell_type": "markdown",
   "metadata": {},
   "source": [
    "### Cosine距离是计算两个向量的方向差异度（0到1）"
   ]
  },
  {
   "cell_type": "code",
   "execution_count": 28,
   "metadata": {},
   "outputs": [
    {
     "data": {
      "text/plain": [
       "1.0"
      ]
     },
     "execution_count": 28,
     "metadata": {},
     "output_type": "execute_result"
    }
   ],
   "source": [
    "from scipy.spatial.distance import cosine\n",
    "\n",
    "cosine([0,1],[1,0]) # 90度"
   ]
  },
  {
   "cell_type": "code",
   "execution_count": 31,
   "metadata": {},
   "outputs": [
    {
     "data": {
      "text/plain": [
       "0.29289321881345254"
      ]
     },
     "execution_count": 31,
     "metadata": {},
     "output_type": "execute_result"
    }
   ],
   "source": [
    "cosine([1,1],[0,1]) # 45度"
   ]
  },
  {
   "cell_type": "code",
   "execution_count": 33,
   "metadata": {},
   "outputs": [
    {
     "data": {
      "text/plain": [
       "0.2201751752678085"
      ]
     },
     "execution_count": 33,
     "metadata": {},
     "output_type": "execute_result"
    }
   ],
   "source": [
    "cosine([1,3**0.2],[0,1]) # 30度 "
   ]
  },
  {
   "cell_type": "code",
   "execution_count": 45,
   "metadata": {},
   "outputs": [
    {
     "data": {
      "text/plain": [
       "'(中|美|贸易|大战)'"
      ]
     },
     "execution_count": 45,
     "metadata": {},
     "output_type": "execute_result"
    }
   ],
   "source": [
    "get_candidates_pat(\"中美贸易大战\")"
   ]
  },
  {
   "cell_type": "code",
   "execution_count": 43,
   "metadata": {},
   "outputs": [],
   "source": [
    "def get_word_id(word):\n",
    "    return vectorizer.vocabulary_.get(word, None)\n",
    "\n",
    "def get_candidates_ids(input_string):\n",
    "    return [get_word_id(c) for c in cut(input_string).split()]\n",
    "\n",
    "def get_candidates_pat(input_string):\n",
    "    return '({})'.format('|'.join(cut(input_string).split()))"
   ]
  },
  {
   "cell_type": "markdown",
   "metadata": {},
   "source": [
    "### 根据词的编号找到索引的所有文章TF-IDF数组，然后用np.where(array)可以得到数组非0的坐标（数组索引）"
   ]
  },
  {
   "cell_type": "code",
   "execution_count": 46,
   "metadata": {},
   "outputs": [
    {
     "data": {
      "text/plain": [
       "62650"
      ]
     },
     "execution_count": 46,
     "metadata": {},
     "output_type": "execute_result"
    }
   ],
   "source": [
    "get_word_id('深圳')"
   ]
  },
  {
   "cell_type": "code",
   "execution_count": 54,
   "metadata": {},
   "outputs": [
    {
     "data": {
      "text/plain": [
       "(array([  21,   34,   68,  174,  181,  242,  243,  260,  297,  314,  374,\n",
       "         386,  404,  451,  452,  459,  460,  462,  473,  490,  491,  495,\n",
       "         500,  501,  572,  577,  578,  581,  597,  613,  617,  646,  647,\n",
       "         648,  656,  658,  659,  661,  662,  668,  679,  680,  684,  685,\n",
       "         686,  689,  691,  692,  697,  699,  704,  709,  713,  726,  728,\n",
       "         730,  734,  735,  737,  740,  742,  743,  746,  754,  757,  760,\n",
       "         761,  764,  778,  782,  784,  787,  790,  796,  797,  798,  804,\n",
       "         806,  807,  815,  819, 3297, 3406, 3447, 3448, 3449, 3450, 3452,\n",
       "        3481, 3532, 3586, 3647, 3692, 3705, 3771, 3772, 3802, 3806, 3808,\n",
       "        3809, 3810, 3812, 3837, 3856, 3862, 3877, 3946, 3992, 4017, 4018,\n",
       "        4024, 4035, 4036, 4037, 4038, 4046, 4058, 4068, 4080, 4081, 4082,\n",
       "        4083, 4091, 4100, 4104, 4140, 4152, 4163, 4164, 4166, 4227, 4242,\n",
       "        4243, 4244, 4272, 4292, 4306, 4316, 4332, 4336, 4391, 4472, 4512,\n",
       "        4551, 4553, 4554, 4598, 4599, 4622, 4641, 4645, 4663, 4701, 4711,\n",
       "        4716, 4784, 4878, 4993, 5081, 5128, 5171, 5184, 5185, 5186, 5187,\n",
       "        5188, 5189, 5190, 5244, 5273, 5274, 5282, 5332, 5359, 5584],\n",
       "       dtype=int64),)"
      ]
     },
     "execution_count": 54,
     "metadata": {},
     "output_type": "execute_result"
    }
   ],
   "source": [
    "import numpy as np\n",
    "\n",
    "found_indexes = np.where(transposed_tfidf_array[62650])\n",
    "found_indexes"
   ]
  },
  {
   "cell_type": "code",
   "execution_count": 62,
   "metadata": {
    "scrolled": true
   },
   "outputs": [
    {
     "data": {
      "text/plain": [
       "0.024532110420052915"
      ]
     },
     "execution_count": 62,
     "metadata": {},
     "output_type": "execute_result"
    }
   ],
   "source": [
    "transposed_tfidf_array[62650][21]"
   ]
  },
  {
   "cell_type": "code",
   "execution_count": 64,
   "metadata": {},
   "outputs": [
    {
     "data": {
      "text/plain": [
       "{3}"
      ]
     },
     "execution_count": 64,
     "metadata": {},
     "output_type": "execute_result"
    }
   ],
   "source": [
    "from operator import and_\n",
    "from functools import reduce\n",
    "\n",
    "reduce(and_, [{1,2,3},{3,4,5}])"
   ]
  },
  {
   "cell_type": "code",
   "execution_count": 69,
   "metadata": {},
   "outputs": [
    {
     "data": {
      "text/plain": [
       "(array([58184, 62650], dtype=int64),)"
      ]
     },
     "execution_count": 69,
     "metadata": {},
     "output_type": "execute_result"
    }
   ],
   "source": [
    "np.where(vectorizer.transform([cut(\"深圳机械师\")]).toarray()[0])"
   ]
  },
  {
   "cell_type": "markdown",
   "metadata": {},
   "source": [
    "### 以下仅使用了TF-IDF向量Cosine距离排序搜索结果\n",
    "TODO：可以在爬虫爬数据时建立PageRank数据，最后根据PageRank+CosineDistance一起排序来获得更好的结果"
   ]
  },
  {
   "cell_type": "code",
   "execution_count": 44,
   "metadata": {},
   "outputs": [],
   "source": [
    "from functools import reduce\n",
    "from operator import and_\n",
    "import re\n",
    "from scipy.spatial.distance import cosine\n",
    "\n",
    "def search_engine(query):\n",
    "    candidates_ids = get_candidates_ids(query)\n",
    "    \n",
    "    v1 = vectorizer.transform([cut(query)]).toarray()[0]\n",
    "    \n",
    "    candidates = [set(np.where(transposed_tfidf_array[_id])[0]) for _id in candidates_ids]\n",
    "    \n",
    "    merged_candidates = reduce(and_, candidates)\n",
    "    \n",
    "    vector_with_id = [(tf_idf_vec[i], i) for i in merged_candidates]\n",
    "    \n",
    "    sorted_vector_with_ids = sorted(vector_with_id, key=lambda x: cosine(x[0].toarray(), v1))\n",
    "\n",
    "    sorted_ids = [i for v, i in sorted_vector_with_ids]\n",
    "    \n",
    "    pat = re.compile(get_candidates_pat(query))\n",
    "    for c in merged_candidates:\n",
    "        output = pat.sub(repl='** \\g<1> ** ', string=corpus[c])\n",
    "        yield ''.join(output.split())"
   ]
  },
  {
   "cell_type": "code",
   "execution_count": 48,
   "metadata": {},
   "outputs": [
    {
     "name": "stdout",
     "output_type": "stream",
     "text": [
      "done!\n"
     ]
    }
   ],
   "source": [
    "with open('search_result.md', 'w',encoding = 'utf-8') as f:\n",
    "    for i, document in enumerate(search_engine('机械工程')):\n",
    "        f.write('## search result {}\\n'.format(i))\n",
    "        f.write(document+'\\n')\n",
    "    print('done!')"
   ]
  },
  {
   "cell_type": "markdown",
   "metadata": {},
   "source": [
    "## Page Rank\n",
    "### Refference https://blog.csdn.net/hguisu/article/details/7996185"
   ]
  },
  {
   "cell_type": "code",
   "execution_count": 1,
   "metadata": {},
   "outputs": [],
   "source": [
    "import networkx as nx\n",
    "import random\n",
    "from string import ascii_letters\n",
    "\n",
    "def generate_name(): return ''.join([random.choice(ascii_letters.upper()) for _ in range(3)])"
   ]
  },
  {
   "cell_type": "code",
   "execution_count": 2,
   "metadata": {},
   "outputs": [],
   "source": [
    "social_graph = {\n",
    "    \"Yao\": ['Guo', 'Wang', 'Tian', 'Tim'] + [generate_name() for _ in range(4)], \n",
    "    \"Guo\": ['Li'] + [generate_name() for _ in range(5)],\n",
    "    \"Wang\": [\"Li_2\"] + [generate_name() for _ in range(5)], \n",
    "    \"Li_2\": [generate_name() for _ in range(5)], \n",
    "    \"Li\": [generate_name() for _ in range(1)],\n",
    "}"
   ]
  },
  {
   "cell_type": "code",
   "execution_count": 3,
   "metadata": {},
   "outputs": [],
   "source": [
    "social_network = nx.graph.Graph(social_graph)"
   ]
  },
  {
   "cell_type": "code",
   "execution_count": 4,
   "metadata": {},
   "outputs": [
    {
     "data": {
      "image/png": "[encoded data removed]",
      "text/plain": [
       "<Figure size 432x288 with 1 Axes>"
      ]
     },
     "metadata": {
      "needs_background": "light"
     },
     "output_type": "display_data"
    }
   ],
   "source": [
    "%matplotlib inline\n",
    "\n",
    "nx.draw_networkx(social_network)"
   ]
  },
  {
   "cell_type": "code",
   "execution_count": 5,
   "metadata": {},
   "outputs": [
    {
     "data": {
      "text/plain": [
       "[('Yao', 0.14018616244938112),\n",
       " ('Guo', 0.12625952492883674),\n",
       " ('Wang', 0.12354105488402628),\n",
       " ('Li_2', 0.11100157862592008),\n",
       " ('Li', 0.04009295437632798),\n",
       " ('SXC', 0.022595018111845305),\n",
       " ('LBD', 0.021279981196290158),\n",
       " ('LMG', 0.021279981196290158),\n",
       " ('DWR', 0.021279981196290158),\n",
       " ('IXJ', 0.021279981196290158),\n",
       " ('WRE', 0.021279981196290158),\n",
       " ('WLY', 0.02088716348418851),\n",
       " ('OQE', 0.02088716348418851),\n",
       " ('MPF', 0.02088716348418851),\n",
       " ('TVQ', 0.02088716348418851),\n",
       " ('JDA', 0.02088716348418851),\n",
       " ('YKH', 0.020557581368083087),\n",
       " ('OCS', 0.020557581368083087),\n",
       " ('LEZ', 0.020557581368083087),\n",
       " ('PXA', 0.020557581368083087),\n",
       " ('FNA', 0.020557581368083087),\n",
       " ('Tian', 0.020450012730142263),\n",
       " ('Tim', 0.020450012730142263),\n",
       " ('CVV', 0.020450012730142263),\n",
       " ('CAL', 0.020450012730142263),\n",
       " ('TZQ', 0.020450012730142263),\n",
       " ('FRV', 0.020450012730142263)]"
      ]
     },
     "execution_count": 5,
     "metadata": {},
     "output_type": "execute_result"
    }
   ],
   "source": [
    "sorted(nx.pagerank(social_network).items(), key=lambda x: x[1], reverse=True)"
   ]
  },
  {
   "cell_type": "code",
   "execution_count": null,
   "metadata": {},
   "outputs": [],
   "source": []
  },
  {
   "cell_type": "code",
   "execution_count": null,
   "metadata": {},
   "outputs": [],
   "source": []
  }
 ],
 "metadata": {
  "kernelspec": {
   "display_name": "Python 3",
   "language": "python",
   "name": "python3"
  },
  "language_info": {
   "codemirror_mode": {
    "name": "ipython",
    "version": 3
   },
   "file_extension": ".py",
   "mimetype": "text/x-python",
   "name": "python",
   "nbconvert_exporter": "python",
   "pygments_lexer": "ipython3",
   "version": "3.7.0"
  }
 },
 "nbformat": 4,
 "nbformat_minor": 2
}
